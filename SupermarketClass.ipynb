{
 "cells": [
  {
   "cell_type": "code",
   "execution_count": 10,
   "metadata": {},
   "outputs": [
    {
     "data": {
      "text/plain": [
       "'\\nStart with this to implement the supermarket simulator.\\n'"
      ]
     },
     "execution_count": 10,
     "metadata": {},
     "output_type": "execute_result"
    }
   ],
   "source": [
    "\"\"\"\n",
    "Start with this to implement the supermarket simulator.\n",
    "\"\"\""
   ]
  },
  {
   "cell_type": "code",
   "execution_count": 11,
   "metadata": {},
   "outputs": [],
   "source": [
    "import numpy as np\n",
    "import pandas as pd\n",
    "from faker import Faker\n",
    "import time\n",
    "#import datetime\n",
    "\n",
    "from CustClass_full import Customer\n",
    "\n"
   ]
  },
  {
   "cell_type": "code",
   "execution_count": 12,
   "metadata": {},
   "outputs": [],
   "source": [
    "#import transition_matrix\n",
    "transition_matrix = pd.read_csv(\"data/transition_matrix.csv\", index_col=0)"
   ]
  },
  {
   "cell_type": "code",
   "execution_count": 14,
   "metadata": {},
   "outputs": [],
   "source": [
    "class Supermarket:\n",
    "    \"\"\"manages multiple Customer instances that are currently in the market.\n",
    "    \"\"\"\n",
    "\n",
    "    def __init__(self):        \n",
    "        # a list of Customer objects\n",
    "        self.customers = []\n",
    "        self.minutes = 0\n",
    "        self.last_id = 0\n",
    "\n",
    "    def __repr__(self):\n",
    "        pass\n",
    "\n",
    "    def get_time():\n",
    "        \"\"\"current time in HH:MM format,\n",
    "        \"\"\"\n",
    "\n",
    "    def print_customers():\n",
    "        \"\"\"print all customers with the current time and id in CSV format.\n",
    "        \"\"\"\n",
    "\n",
    "    def next_minute():\n",
    "        \"\"\"propagates all customers to the next state.\n",
    "        \"\"\"\n",
    "        self.minutes += 1\n",
    "        for cust in self.customers:\n",
    "            cust.next_state()\n",
    "        \n",
    "    \n",
    "    def add_new_customers():\n",
    "        \"\"\"randomly creates new customers.\n",
    "        \"\"\"\n",
    "\n",
    "    def remove_exitsting_customers():\n",
    "        \"\"\"removes every customer that is not active any more.\n",
    "        \"\"\"\n",
    "        \n",
    "        "
   ]
  },
  {
   "cell_type": "code",
   "execution_count": 15,
   "metadata": {},
   "outputs": [],
   "source": [
    "fake = Faker()"
   ]
  },
  {
   "cell_type": "code",
   "execution_count": 16,
   "metadata": {},
   "outputs": [
    {
     "data": {
      "text/plain": [
       "'Jennifer Burton'"
      ]
     },
     "execution_count": 16,
     "metadata": {},
     "output_type": "execute_result"
    }
   ],
   "source": [
    "fake.name()"
   ]
  },
  {
   "cell_type": "code",
   "execution_count": 17,
   "metadata": {},
   "outputs": [],
   "source": [
    "customers = [Customer(fake.name(), 'entrance', np.random.randint(1,500)) for i in range(50)] #create all customers at once"
   ]
  },
  {
   "cell_type": "code",
   "execution_count": 18,
   "metadata": {
    "scrolled": true
   },
   "outputs": [
    {
     "data": {
      "text/plain": [
       "[Customer Samuel Suarez in entrance with $52.,\n",
       " Customer Annette Baird in entrance with $92.,\n",
       " Customer Nicole Peterson in entrance with $422.,\n",
       " Customer Jose Pope in entrance with $428.,\n",
       " Customer Steven Simpson in entrance with $158.,\n",
       " Customer Laura Mcbride in entrance with $27.,\n",
       " Customer Laura Gates in entrance with $398.,\n",
       " Customer Angela Little in entrance with $409.,\n",
       " Customer William Miller in entrance with $321.,\n",
       " Customer David Jones in entrance with $60.,\n",
       " Customer Eric Torres in entrance with $221.,\n",
       " Customer Michael Mccormick in entrance with $357.,\n",
       " Customer Sarah Knight in entrance with $494.,\n",
       " Customer Patrick Armstrong in entrance with $88.,\n",
       " Customer Barbara Moyer in entrance with $241.,\n",
       " Customer Brett Mcdowell in entrance with $490.,\n",
       " Customer Edward Santana in entrance with $135.,\n",
       " Customer Alicia Peterson in entrance with $245.,\n",
       " Customer Aaron Conner in entrance with $266.,\n",
       " Customer Christopher Brown in entrance with $266.,\n",
       " Customer Zachary Rojas in entrance with $149.,\n",
       " Customer John Bryant in entrance with $31.,\n",
       " Customer Deborah Anderson in entrance with $67.,\n",
       " Customer Michael May in entrance with $25.,\n",
       " Customer Amanda Gilbert in entrance with $79.,\n",
       " Customer Brent Smith in entrance with $32.,\n",
       " Customer Natasha Howard in entrance with $206.,\n",
       " Customer Lori Fox in entrance with $162.,\n",
       " Customer Stefanie Flores in entrance with $328.,\n",
       " Customer Matthew Faulkner in entrance with $243.,\n",
       " Customer Amanda Bentley in entrance with $491.,\n",
       " Customer Dr. Elizabeth Mendez MD in entrance with $364.,\n",
       " Customer Samantha Alexander in entrance with $362.,\n",
       " Customer David Sawyer in entrance with $131.,\n",
       " Customer Nicholas Christian in entrance with $113.,\n",
       " Customer Kenneth James in entrance with $386.,\n",
       " Customer Nicole Miller in entrance with $332.,\n",
       " Customer Virginia Williams in entrance with $159.,\n",
       " Customer Melanie Washington in entrance with $163.,\n",
       " Customer Michael Wheeler in entrance with $227.,\n",
       " Customer Seth Scott in entrance with $94.,\n",
       " Customer Molly Fernandez in entrance with $17.,\n",
       " Customer Daniel Stark in entrance with $182.,\n",
       " Customer Amber Cooper in entrance with $108.,\n",
       " Customer Jason Flores in entrance with $79.,\n",
       " Customer Kristine Medina in entrance with $331.,\n",
       " Customer Jessica Nguyen in entrance with $63.,\n",
       " Customer Keith Ramirez in entrance with $370.,\n",
       " Customer Jose Best in entrance with $139.,\n",
       " Customer Jessica Jenkins in entrance with $100.]"
      ]
     },
     "execution_count": 18,
     "metadata": {},
     "output_type": "execute_result"
    }
   ],
   "source": [
    "customers"
   ]
  },
  {
   "cell_type": "code",
   "execution_count": null,
   "metadata": {},
   "outputs": [],
   "source": [
    "for i, c in enumerate(customers): #at each minute, move all customers\n",
    "    c.change_location()\n",
    "    if c.location == 'Checkout':\n",
    "        print(f'Customer {i} has been churned!')"
   ]
  },
  {
   "cell_type": "code",
   "execution_count": null,
   "metadata": {},
   "outputs": [],
   "source": []
  }
 ],
 "metadata": {
  "kernelspec": {
   "display_name": "Python 3",
   "language": "python",
   "name": "python3"
  },
  "language_info": {
   "codemirror_mode": {
    "name": "ipython",
    "version": 3
   },
   "file_extension": ".py",
   "mimetype": "text/x-python",
   "name": "python",
   "nbconvert_exporter": "python",
   "pygments_lexer": "ipython3",
   "version": "3.8.5"
  }
 },
 "nbformat": 4,
 "nbformat_minor": 4
}
