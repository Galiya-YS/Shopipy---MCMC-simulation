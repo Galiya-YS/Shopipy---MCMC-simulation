{
 "cells": [
  {
   "cell_type": "code",
   "execution_count": 41,
   "metadata": {},
   "outputs": [],
   "source": [
    "import pandas as pd\n",
    "import matplotlib.pyplot as plt\n",
    "import seaborn as sns\n",
    "\n",
    "sns.set()\n",
    "plt.rcParams['figure.figsize'] = (20,6)"
   ]
  },
  {
   "cell_type": "code",
   "execution_count": 42,
   "metadata": {},
   "outputs": [],
   "source": [
    "data = pd.read_csv('data/full_data.csv', delimiter = ';', parse_dates=True)"
   ]
  },
  {
   "cell_type": "code",
   "execution_count": 43,
   "metadata": {},
   "outputs": [],
   "source": [
    "data['timestamp'] = pd.to_datetime(data['timestamp'])"
   ]
  },
  {
   "cell_type": "code",
   "execution_count": 44,
   "metadata": {},
   "outputs": [
    {
     "data": {
      "text/plain": [
       "timestamp      datetime64[ns]\n",
       "customer_no             int64\n",
       "location               object\n",
       "weekday                object\n",
       "time                   object\n",
       "customer_id            object\n",
       "dtype: object"
      ]
     },
     "execution_count": 44,
     "metadata": {},
     "output_type": "execute_result"
    }
   ],
   "source": [
    "data.dtypes"
   ]
  },
  {
   "cell_type": "code",
   "execution_count": 45,
   "metadata": {},
   "outputs": [
    {
     "data": {
      "text/plain": [
       "28"
      ]
     },
     "execution_count": 45,
     "metadata": {},
     "output_type": "execute_result"
    }
   ],
   "source": [
    "# Number of customers that are not \"checked out\"\n",
    "(data['customer_id'].nunique()) - (data[data['location'] == 'checkout'].value_counts().count())"
   ]
  },
  {
   "cell_type": "code",
   "execution_count": 46,
   "metadata": {},
   "outputs": [],
   "source": [
    "# Drop these 28 customers"
   ]
  },
  {
   "cell_type": "code",
   "execution_count": null,
   "metadata": {},
   "outputs": [],
   "source": []
  },
  {
   "cell_type": "code",
   "execution_count": null,
   "metadata": {},
   "outputs": [],
   "source": []
  },
  {
   "cell_type": "code",
   "execution_count": 47,
   "metadata": {},
   "outputs": [],
   "source": [
    "data.sort_values(['customer_id', 'timestamp'], inplace=True)"
   ]
  },
  {
   "cell_type": "code",
   "execution_count": 48,
   "metadata": {},
   "outputs": [],
   "source": [
    "data.set_index('timestamp', inplace=True)"
   ]
  },
  {
   "cell_type": "code",
   "execution_count": 49,
   "metadata": {},
   "outputs": [
    {
     "data": {
      "text/plain": [
       "DatetimeIndex(['2019-09-06 07:00:00', '2019-09-06 07:04:00',\n",
       "               '2019-09-06 07:05:00', '2019-09-06 07:06:00',\n",
       "               '2019-09-06 07:11:00', '2019-09-06 08:03:00',\n",
       "               '2019-09-06 08:04:00', '2019-09-06 17:19:00',\n",
       "               '2019-09-06 17:20:00', '2019-09-06 17:19:00',\n",
       "               ...\n",
       "               '2019-09-04 16:53:00', '2019-09-04 16:54:00',\n",
       "               '2019-09-04 17:09:00', '2019-09-04 17:10:00',\n",
       "               '2019-09-04 17:14:00', '2019-09-04 16:53:00',\n",
       "               '2019-09-04 16:57:00', '2019-09-04 16:59:00',\n",
       "               '2019-09-04 16:53:00', '2019-09-04 16:54:00'],\n",
       "              dtype='datetime64[ns]', name='timestamp', length=24877, freq=None)"
      ]
     },
     "execution_count": 49,
     "metadata": {},
     "output_type": "execute_result"
    }
   ],
   "source": [
    "data.index"
   ]
  },
  {
   "cell_type": "code",
   "execution_count": 50,
   "metadata": {},
   "outputs": [
    {
     "data": {
      "text/html": [
       "<div>\n",
       "<style scoped>\n",
       "    .dataframe tbody tr th:only-of-type {\n",
       "        vertical-align: middle;\n",
       "    }\n",
       "\n",
       "    .dataframe tbody tr th {\n",
       "        vertical-align: top;\n",
       "    }\n",
       "\n",
       "    .dataframe thead th {\n",
       "        text-align: right;\n",
       "    }\n",
       "</style>\n",
       "<table border=\"1\" class=\"dataframe\">\n",
       "  <thead>\n",
       "    <tr style=\"text-align: right;\">\n",
       "      <th></th>\n",
       "      <th></th>\n",
       "      <th>customer_no</th>\n",
       "      <th>location</th>\n",
       "      <th>weekday</th>\n",
       "      <th>time</th>\n",
       "      <th>customer_id</th>\n",
       "    </tr>\n",
       "    <tr>\n",
       "      <th>customer_id</th>\n",
       "      <th>timestamp</th>\n",
       "      <th></th>\n",
       "      <th></th>\n",
       "      <th></th>\n",
       "      <th></th>\n",
       "      <th></th>\n",
       "    </tr>\n",
       "  </thead>\n",
       "  <tbody>\n",
       "    <tr>\n",
       "      <th rowspan=\"5\" valign=\"top\">Friday 1</th>\n",
       "      <th>2019-09-06 07:00:00</th>\n",
       "      <td>1</td>\n",
       "      <td>dairy</td>\n",
       "      <td>Friday</td>\n",
       "      <td>07:00:00</td>\n",
       "      <td>Friday 1</td>\n",
       "    </tr>\n",
       "    <tr>\n",
       "      <th>2019-09-06 07:01:00</th>\n",
       "      <td>1</td>\n",
       "      <td>dairy</td>\n",
       "      <td>Friday</td>\n",
       "      <td>07:00:00</td>\n",
       "      <td>Friday 1</td>\n",
       "    </tr>\n",
       "    <tr>\n",
       "      <th>2019-09-06 07:02:00</th>\n",
       "      <td>1</td>\n",
       "      <td>dairy</td>\n",
       "      <td>Friday</td>\n",
       "      <td>07:00:00</td>\n",
       "      <td>Friday 1</td>\n",
       "    </tr>\n",
       "    <tr>\n",
       "      <th>2019-09-06 07:03:00</th>\n",
       "      <td>1</td>\n",
       "      <td>dairy</td>\n",
       "      <td>Friday</td>\n",
       "      <td>07:00:00</td>\n",
       "      <td>Friday 1</td>\n",
       "    </tr>\n",
       "    <tr>\n",
       "      <th>2019-09-06 07:04:00</th>\n",
       "      <td>1</td>\n",
       "      <td>spices</td>\n",
       "      <td>Friday</td>\n",
       "      <td>07:04:00</td>\n",
       "      <td>Friday 1</td>\n",
       "    </tr>\n",
       "    <tr>\n",
       "      <th>...</th>\n",
       "      <th>...</th>\n",
       "      <td>...</td>\n",
       "      <td>...</td>\n",
       "      <td>...</td>\n",
       "      <td>...</td>\n",
       "      <td>...</td>\n",
       "    </tr>\n",
       "    <tr>\n",
       "      <th rowspan=\"3\" valign=\"top\">Wednesday 998</th>\n",
       "      <th>2019-09-04 16:57:00</th>\n",
       "      <td>998</td>\n",
       "      <td>fruit</td>\n",
       "      <td>Wednesday</td>\n",
       "      <td>16:57:00</td>\n",
       "      <td>Wednesday 998</td>\n",
       "    </tr>\n",
       "    <tr>\n",
       "      <th>2019-09-04 16:58:00</th>\n",
       "      <td>998</td>\n",
       "      <td>fruit</td>\n",
       "      <td>Wednesday</td>\n",
       "      <td>16:57:00</td>\n",
       "      <td>Wednesday 998</td>\n",
       "    </tr>\n",
       "    <tr>\n",
       "      <th>2019-09-04 16:59:00</th>\n",
       "      <td>998</td>\n",
       "      <td>checkout</td>\n",
       "      <td>Wednesday</td>\n",
       "      <td>16:59:00</td>\n",
       "      <td>Wednesday 998</td>\n",
       "    </tr>\n",
       "    <tr>\n",
       "      <th rowspan=\"2\" valign=\"top\">Wednesday 999</th>\n",
       "      <th>2019-09-04 16:53:00</th>\n",
       "      <td>999</td>\n",
       "      <td>fruit</td>\n",
       "      <td>Wednesday</td>\n",
       "      <td>16:53:00</td>\n",
       "      <td>Wednesday 999</td>\n",
       "    </tr>\n",
       "    <tr>\n",
       "      <th>2019-09-04 16:54:00</th>\n",
       "      <td>999</td>\n",
       "      <td>checkout</td>\n",
       "      <td>Wednesday</td>\n",
       "      <td>16:54:00</td>\n",
       "      <td>Wednesday 999</td>\n",
       "    </tr>\n",
       "  </tbody>\n",
       "</table>\n",
       "<p>53903 rows × 5 columns</p>\n",
       "</div>"
      ],
      "text/plain": [
       "                                   customer_no  location    weekday      time  \\\n",
       "customer_id   timestamp                                                         \n",
       "Friday 1      2019-09-06 07:00:00            1     dairy     Friday  07:00:00   \n",
       "              2019-09-06 07:01:00            1     dairy     Friday  07:00:00   \n",
       "              2019-09-06 07:02:00            1     dairy     Friday  07:00:00   \n",
       "              2019-09-06 07:03:00            1     dairy     Friday  07:00:00   \n",
       "              2019-09-06 07:04:00            1    spices     Friday  07:04:00   \n",
       "...                                        ...       ...        ...       ...   \n",
       "Wednesday 998 2019-09-04 16:57:00          998     fruit  Wednesday  16:57:00   \n",
       "              2019-09-04 16:58:00          998     fruit  Wednesday  16:57:00   \n",
       "              2019-09-04 16:59:00          998  checkout  Wednesday  16:59:00   \n",
       "Wednesday 999 2019-09-04 16:53:00          999     fruit  Wednesday  16:53:00   \n",
       "              2019-09-04 16:54:00          999  checkout  Wednesday  16:54:00   \n",
       "\n",
       "                                     customer_id  \n",
       "customer_id   timestamp                           \n",
       "Friday 1      2019-09-06 07:00:00       Friday 1  \n",
       "              2019-09-06 07:01:00       Friday 1  \n",
       "              2019-09-06 07:02:00       Friday 1  \n",
       "              2019-09-06 07:03:00       Friday 1  \n",
       "              2019-09-06 07:04:00       Friday 1  \n",
       "...                                          ...  \n",
       "Wednesday 998 2019-09-04 16:57:00  Wednesday 998  \n",
       "              2019-09-04 16:58:00  Wednesday 998  \n",
       "              2019-09-04 16:59:00  Wednesday 998  \n",
       "Wednesday 999 2019-09-04 16:53:00  Wednesday 999  \n",
       "              2019-09-04 16:54:00  Wednesday 999  \n",
       "\n",
       "[53903 rows x 5 columns]"
      ]
     },
     "execution_count": 50,
     "metadata": {},
     "output_type": "execute_result"
    }
   ],
   "source": [
    "# To fill in rows for the minutes that are not in the files,\n",
    "data.groupby('customer_id').resample('1min').fillna('ffill')"
   ]
  },
  {
   "cell_type": "code",
   "execution_count": null,
   "metadata": {},
   "outputs": [],
   "source": [
    "data['before'] = data['location']\n",
    "data['after'] = data['before'].shift(-1)\n",
    "data.tail(20)"
   ]
  }
 ],
 "metadata": {
  "kernelspec": {
   "display_name": "Python 3",
   "language": "python",
   "name": "python3"
  },
  "language_info": {
   "codemirror_mode": {
    "name": "ipython",
    "version": 3
   },
   "file_extension": ".py",
   "mimetype": "text/x-python",
   "name": "python",
   "nbconvert_exporter": "python",
   "pygments_lexer": "ipython3",
   "version": "3.8.5"
  }
 },
 "nbformat": 4,
 "nbformat_minor": 4
}
