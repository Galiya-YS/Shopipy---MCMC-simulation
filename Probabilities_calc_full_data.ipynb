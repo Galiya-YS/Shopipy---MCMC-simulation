{
 "cells": [
  {
   "cell_type": "code",
   "execution_count": 72,
   "metadata": {},
   "outputs": [],
   "source": [
    "import pandas as pd\n",
    "import matplotlib.pyplot as plt\n",
    "import seaborn as sns\n",
    "\n",
    "sns.set()\n",
    "plt.rcParams['figure.figsize'] = (20,6)"
   ]
  },
  {
   "cell_type": "code",
   "execution_count": 85,
   "metadata": {},
   "outputs": [],
   "source": [
    "data = pd.read_csv('data/full_data.csv', delimiter = ';', parse_dates=True)"
   ]
  },
  {
   "cell_type": "code",
   "execution_count": 86,
   "metadata": {},
   "outputs": [],
   "source": [
    "data['timestamp'] = pd.to_datetime(data['timestamp'])"
   ]
  },
  {
   "cell_type": "code",
   "execution_count": 87,
   "metadata": {},
   "outputs": [
    {
     "data": {
      "text/html": [
       "<div>\n",
       "<style scoped>\n",
       "    .dataframe tbody tr th:only-of-type {\n",
       "        vertical-align: middle;\n",
       "    }\n",
       "\n",
       "    .dataframe tbody tr th {\n",
       "        vertical-align: top;\n",
       "    }\n",
       "\n",
       "    .dataframe thead th {\n",
       "        text-align: right;\n",
       "    }\n",
       "</style>\n",
       "<table border=\"1\" class=\"dataframe\">\n",
       "  <thead>\n",
       "    <tr style=\"text-align: right;\">\n",
       "      <th></th>\n",
       "      <th>timestamp</th>\n",
       "      <th>customer_no</th>\n",
       "      <th>location</th>\n",
       "      <th>weekday</th>\n",
       "      <th>weekday_num</th>\n",
       "      <th>time</th>\n",
       "      <th>customer_id</th>\n",
       "    </tr>\n",
       "  </thead>\n",
       "  <tbody>\n",
       "    <tr>\n",
       "      <th>0</th>\n",
       "      <td>2019-09-02 07:03:00</td>\n",
       "      <td>1</td>\n",
       "      <td>dairy</td>\n",
       "      <td>Monday</td>\n",
       "      <td>0</td>\n",
       "      <td>07:03:00</td>\n",
       "      <td>0_1</td>\n",
       "    </tr>\n",
       "    <tr>\n",
       "      <th>1</th>\n",
       "      <td>2019-09-02 07:03:00</td>\n",
       "      <td>2</td>\n",
       "      <td>dairy</td>\n",
       "      <td>Monday</td>\n",
       "      <td>0</td>\n",
       "      <td>07:03:00</td>\n",
       "      <td>0_2</td>\n",
       "    </tr>\n",
       "    <tr>\n",
       "      <th>2</th>\n",
       "      <td>2019-09-02 07:04:00</td>\n",
       "      <td>3</td>\n",
       "      <td>dairy</td>\n",
       "      <td>Monday</td>\n",
       "      <td>0</td>\n",
       "      <td>07:04:00</td>\n",
       "      <td>0_3</td>\n",
       "    </tr>\n",
       "    <tr>\n",
       "      <th>3</th>\n",
       "      <td>2019-09-02 07:04:00</td>\n",
       "      <td>4</td>\n",
       "      <td>dairy</td>\n",
       "      <td>Monday</td>\n",
       "      <td>0</td>\n",
       "      <td>07:04:00</td>\n",
       "      <td>0_4</td>\n",
       "    </tr>\n",
       "    <tr>\n",
       "      <th>4</th>\n",
       "      <td>2019-09-02 07:04:00</td>\n",
       "      <td>5</td>\n",
       "      <td>spices</td>\n",
       "      <td>Monday</td>\n",
       "      <td>0</td>\n",
       "      <td>07:04:00</td>\n",
       "      <td>0_5</td>\n",
       "    </tr>\n",
       "  </tbody>\n",
       "</table>\n",
       "</div>"
      ],
      "text/plain": [
       "            timestamp  customer_no location weekday  weekday_num      time  \\\n",
       "0 2019-09-02 07:03:00            1    dairy  Monday            0  07:03:00   \n",
       "1 2019-09-02 07:03:00            2    dairy  Monday            0  07:03:00   \n",
       "2 2019-09-02 07:04:00            3    dairy  Monday            0  07:04:00   \n",
       "3 2019-09-02 07:04:00            4    dairy  Monday            0  07:04:00   \n",
       "4 2019-09-02 07:04:00            5   spices  Monday            0  07:04:00   \n",
       "\n",
       "  customer_id  \n",
       "0         0_1  \n",
       "1         0_2  \n",
       "2         0_3  \n",
       "3         0_4  \n",
       "4         0_5  "
      ]
     },
     "execution_count": 87,
     "metadata": {},
     "output_type": "execute_result"
    }
   ],
   "source": [
    "data.head()"
   ]
  },
  {
   "cell_type": "code",
   "execution_count": 88,
   "metadata": {},
   "outputs": [
    {
     "data": {
      "text/plain": [
       "timestamp      datetime64[ns]\n",
       "customer_no             int64\n",
       "location               object\n",
       "weekday                object\n",
       "weekday_num             int64\n",
       "time                   object\n",
       "customer_id            object\n",
       "dtype: object"
      ]
     },
     "execution_count": 88,
     "metadata": {},
     "output_type": "execute_result"
    }
   ],
   "source": [
    "data.dtypes"
   ]
  },
  {
   "cell_type": "code",
   "execution_count": 89,
   "metadata": {},
   "outputs": [
    {
     "data": {
      "text/plain": [
       "28"
      ]
     },
     "execution_count": 89,
     "metadata": {},
     "output_type": "execute_result"
    }
   ],
   "source": [
    "# Number of customers that are not \"checked out\"\n",
    "(data['customer_id'].nunique()) - (data[data['location'] == 'checkout'].value_counts().count())"
   ]
  },
  {
   "cell_type": "code",
   "execution_count": 90,
   "metadata": {},
   "outputs": [],
   "source": [
    "# Drop these 28 customers"
   ]
  },
  {
   "cell_type": "code",
   "execution_count": 91,
   "metadata": {},
   "outputs": [],
   "source": [
    "# Get index of customers without 'checkout'\n",
    "# cl = []\n",
    "# for i in range(1,len(data['customer_id'].nunique()+1):\n",
    "#     data[data['customer_id'] == i][-1:]['location']\n",
    "#     if data[data['customer_id'] == i][-1:]['location'].all() != 'checkout':\n",
    "#         cl.append(i)\n",
    "#     else:\n",
    "#         pass"
   ]
  },
  {
   "cell_type": "code",
   "execution_count": 92,
   "metadata": {},
   "outputs": [],
   "source": [
    "#len(cl)"
   ]
  },
  {
   "cell_type": "code",
   "execution_count": 93,
   "metadata": {},
   "outputs": [],
   "source": [
    "# DIFFERENCE BETWEEN CHECKOUT-NO & CUST-NO:\n",
    "check_c = set(data[data[\"location\"]==\"checkout\"][\"customer_id\"].unique()) # number of checked out customers\n",
    "all_c = set(data[\"customer_id\"].unique()) # number of all customers\n",
    "diff = all_c.difference(check_c) # difference between all & checked out\n",
    "\n",
    "#FILL IN 'CHECKOUTS'\n",
    "for cust in diff:\n",
    "    data = data.append({\"timestamp\":\"2019-09-02 22:00:00\",\"customer_id\":cust,\n",
    "    \"location\":\"checkout\"}, ignore_index=True)"
   ]
  },
  {
   "cell_type": "code",
   "execution_count": 94,
   "metadata": {},
   "outputs": [],
   "source": [
    "#data.tail(30)"
   ]
  },
  {
   "cell_type": "code",
   "execution_count": 95,
   "metadata": {},
   "outputs": [],
   "source": [
    "data.drop(columns=['weekday','weekday_num', 'time','customer_no'], inplace=True)"
   ]
  },
  {
   "cell_type": "code",
   "execution_count": 96,
   "metadata": {},
   "outputs": [
    {
     "data": {
      "text/html": [
       "<div>\n",
       "<style scoped>\n",
       "    .dataframe tbody tr th:only-of-type {\n",
       "        vertical-align: middle;\n",
       "    }\n",
       "\n",
       "    .dataframe tbody tr th {\n",
       "        vertical-align: top;\n",
       "    }\n",
       "\n",
       "    .dataframe thead th {\n",
       "        text-align: right;\n",
       "    }\n",
       "</style>\n",
       "<table border=\"1\" class=\"dataframe\">\n",
       "  <thead>\n",
       "    <tr style=\"text-align: right;\">\n",
       "      <th></th>\n",
       "      <th>timestamp</th>\n",
       "      <th>location</th>\n",
       "      <th>customer_id</th>\n",
       "    </tr>\n",
       "  </thead>\n",
       "  <tbody>\n",
       "    <tr>\n",
       "      <th>0</th>\n",
       "      <td>2019-09-02 07:03:00</td>\n",
       "      <td>dairy</td>\n",
       "      <td>0_1</td>\n",
       "    </tr>\n",
       "    <tr>\n",
       "      <th>1</th>\n",
       "      <td>2019-09-02 07:03:00</td>\n",
       "      <td>dairy</td>\n",
       "      <td>0_2</td>\n",
       "    </tr>\n",
       "    <tr>\n",
       "      <th>2</th>\n",
       "      <td>2019-09-02 07:04:00</td>\n",
       "      <td>dairy</td>\n",
       "      <td>0_3</td>\n",
       "    </tr>\n",
       "    <tr>\n",
       "      <th>3</th>\n",
       "      <td>2019-09-02 07:04:00</td>\n",
       "      <td>dairy</td>\n",
       "      <td>0_4</td>\n",
       "    </tr>\n",
       "    <tr>\n",
       "      <th>4</th>\n",
       "      <td>2019-09-02 07:04:00</td>\n",
       "      <td>spices</td>\n",
       "      <td>0_5</td>\n",
       "    </tr>\n",
       "    <tr>\n",
       "      <th>...</th>\n",
       "      <td>...</td>\n",
       "      <td>...</td>\n",
       "      <td>...</td>\n",
       "    </tr>\n",
       "    <tr>\n",
       "      <th>24900</th>\n",
       "      <td>2019-09-02 22:00:00</td>\n",
       "      <td>checkout</td>\n",
       "      <td>0_1437</td>\n",
       "    </tr>\n",
       "    <tr>\n",
       "      <th>24901</th>\n",
       "      <td>2019-09-02 22:00:00</td>\n",
       "      <td>checkout</td>\n",
       "      <td>4_1500</td>\n",
       "    </tr>\n",
       "    <tr>\n",
       "      <th>24902</th>\n",
       "      <td>2019-09-02 22:00:00</td>\n",
       "      <td>checkout</td>\n",
       "      <td>0_1447</td>\n",
       "    </tr>\n",
       "    <tr>\n",
       "      <th>24903</th>\n",
       "      <td>2019-09-02 22:00:00</td>\n",
       "      <td>checkout</td>\n",
       "      <td>4_1509</td>\n",
       "    </tr>\n",
       "    <tr>\n",
       "      <th>24904</th>\n",
       "      <td>2019-09-02 22:00:00</td>\n",
       "      <td>checkout</td>\n",
       "      <td>1_1422</td>\n",
       "    </tr>\n",
       "  </tbody>\n",
       "</table>\n",
       "<p>24905 rows × 3 columns</p>\n",
       "</div>"
      ],
      "text/plain": [
       "                 timestamp  location customer_id\n",
       "0      2019-09-02 07:03:00     dairy         0_1\n",
       "1      2019-09-02 07:03:00     dairy         0_2\n",
       "2      2019-09-02 07:04:00     dairy         0_3\n",
       "3      2019-09-02 07:04:00     dairy         0_4\n",
       "4      2019-09-02 07:04:00    spices         0_5\n",
       "...                    ...       ...         ...\n",
       "24900  2019-09-02 22:00:00  checkout      0_1437\n",
       "24901  2019-09-02 22:00:00  checkout      4_1500\n",
       "24902  2019-09-02 22:00:00  checkout      0_1447\n",
       "24903  2019-09-02 22:00:00  checkout      4_1509\n",
       "24904  2019-09-02 22:00:00  checkout      1_1422\n",
       "\n",
       "[24905 rows x 3 columns]"
      ]
     },
     "execution_count": 96,
     "metadata": {},
     "output_type": "execute_result"
    }
   ],
   "source": [
    "data"
   ]
  },
  {
   "cell_type": "code",
   "execution_count": 98,
   "metadata": {},
   "outputs": [],
   "source": [
    "data['timestamp'] = pd.to_datetime(data['timestamp'])"
   ]
  },
  {
   "cell_type": "code",
   "execution_count": 99,
   "metadata": {},
   "outputs": [],
   "source": [
    "data['weekday'] = data['timestamp'].dt.day_name()"
   ]
  },
  {
   "cell_type": "code",
   "execution_count": null,
   "metadata": {},
   "outputs": [],
   "source": []
  },
  {
   "cell_type": "code",
   "execution_count": 101,
   "metadata": {},
   "outputs": [],
   "source": [
    "data.sort_values(['customer_id', 'timestamp'], inplace=True)"
   ]
  },
  {
   "cell_type": "code",
   "execution_count": 102,
   "metadata": {},
   "outputs": [
    {
     "data": {
      "text/html": [
       "<div>\n",
       "<style scoped>\n",
       "    .dataframe tbody tr th:only-of-type {\n",
       "        vertical-align: middle;\n",
       "    }\n",
       "\n",
       "    .dataframe tbody tr th {\n",
       "        vertical-align: top;\n",
       "    }\n",
       "\n",
       "    .dataframe thead th {\n",
       "        text-align: right;\n",
       "    }\n",
       "</style>\n",
       "<table border=\"1\" class=\"dataframe\">\n",
       "  <thead>\n",
       "    <tr style=\"text-align: right;\">\n",
       "      <th></th>\n",
       "      <th>timestamp</th>\n",
       "      <th>location</th>\n",
       "      <th>customer_id</th>\n",
       "      <th>weekday</th>\n",
       "      <th>time</th>\n",
       "    </tr>\n",
       "  </thead>\n",
       "  <tbody>\n",
       "    <tr>\n",
       "      <th>0</th>\n",
       "      <td>2019-09-02 07:03:00</td>\n",
       "      <td>dairy</td>\n",
       "      <td>0_1</td>\n",
       "      <td>Monday</td>\n",
       "      <td>07:03:00</td>\n",
       "    </tr>\n",
       "    <tr>\n",
       "      <th>8</th>\n",
       "      <td>2019-09-02 07:05:00</td>\n",
       "      <td>checkout</td>\n",
       "      <td>0_1</td>\n",
       "      <td>Monday</td>\n",
       "      <td>07:05:00</td>\n",
       "    </tr>\n",
       "    <tr>\n",
       "      <th>15</th>\n",
       "      <td>2019-09-02 07:06:00</td>\n",
       "      <td>fruit</td>\n",
       "      <td>0_10</td>\n",
       "      <td>Monday</td>\n",
       "      <td>07:06:00</td>\n",
       "    </tr>\n",
       "    <tr>\n",
       "      <th>25</th>\n",
       "      <td>2019-09-02 07:08:00</td>\n",
       "      <td>checkout</td>\n",
       "      <td>0_10</td>\n",
       "      <td>Monday</td>\n",
       "      <td>07:08:00</td>\n",
       "    </tr>\n",
       "    <tr>\n",
       "      <th>304</th>\n",
       "      <td>2019-09-02 07:56:00</td>\n",
       "      <td>drinks</td>\n",
       "      <td>0_100</td>\n",
       "      <td>Monday</td>\n",
       "      <td>07:56:00</td>\n",
       "    </tr>\n",
       "    <tr>\n",
       "      <th>...</th>\n",
       "      <td>...</td>\n",
       "      <td>...</td>\n",
       "      <td>...</td>\n",
       "      <td>...</td>\n",
       "      <td>...</td>\n",
       "    </tr>\n",
       "    <tr>\n",
       "      <th>23101</th>\n",
       "      <td>2019-09-06 17:20:00</td>\n",
       "      <td>drinks</td>\n",
       "      <td>4_999</td>\n",
       "      <td>Friday</td>\n",
       "      <td>17:20:00</td>\n",
       "    </tr>\n",
       "    <tr>\n",
       "      <th>23109</th>\n",
       "      <td>2019-09-06 17:21:00</td>\n",
       "      <td>fruit</td>\n",
       "      <td>4_999</td>\n",
       "      <td>Friday</td>\n",
       "      <td>17:21:00</td>\n",
       "    </tr>\n",
       "    <tr>\n",
       "      <th>23132</th>\n",
       "      <td>2019-09-06 17:24:00</td>\n",
       "      <td>drinks</td>\n",
       "      <td>4_999</td>\n",
       "      <td>Friday</td>\n",
       "      <td>17:24:00</td>\n",
       "    </tr>\n",
       "    <tr>\n",
       "      <th>23141</th>\n",
       "      <td>2019-09-06 17:25:00</td>\n",
       "      <td>fruit</td>\n",
       "      <td>4_999</td>\n",
       "      <td>Friday</td>\n",
       "      <td>17:25:00</td>\n",
       "    </tr>\n",
       "    <tr>\n",
       "      <th>23158</th>\n",
       "      <td>2019-09-06 17:27:00</td>\n",
       "      <td>checkout</td>\n",
       "      <td>4_999</td>\n",
       "      <td>Friday</td>\n",
       "      <td>17:27:00</td>\n",
       "    </tr>\n",
       "  </tbody>\n",
       "</table>\n",
       "<p>24905 rows × 5 columns</p>\n",
       "</div>"
      ],
      "text/plain": [
       "                timestamp  location customer_id weekday      time\n",
       "0     2019-09-02 07:03:00     dairy         0_1  Monday  07:03:00\n",
       "8     2019-09-02 07:05:00  checkout         0_1  Monday  07:05:00\n",
       "15    2019-09-02 07:06:00     fruit        0_10  Monday  07:06:00\n",
       "25    2019-09-02 07:08:00  checkout        0_10  Monday  07:08:00\n",
       "304   2019-09-02 07:56:00    drinks       0_100  Monday  07:56:00\n",
       "...                   ...       ...         ...     ...       ...\n",
       "23101 2019-09-06 17:20:00    drinks       4_999  Friday  17:20:00\n",
       "23109 2019-09-06 17:21:00     fruit       4_999  Friday  17:21:00\n",
       "23132 2019-09-06 17:24:00    drinks       4_999  Friday  17:24:00\n",
       "23141 2019-09-06 17:25:00     fruit       4_999  Friday  17:25:00\n",
       "23158 2019-09-06 17:27:00  checkout       4_999  Friday  17:27:00\n",
       "\n",
       "[24905 rows x 5 columns]"
      ]
     },
     "execution_count": 102,
     "metadata": {},
     "output_type": "execute_result"
    }
   ],
   "source": [
    "data"
   ]
  },
  {
   "cell_type": "code",
   "execution_count": 103,
   "metadata": {},
   "outputs": [],
   "source": [
    "data.set_index('timestamp', inplace=True)"
   ]
  },
  {
   "cell_type": "code",
   "execution_count": 104,
   "metadata": {},
   "outputs": [
    {
     "data": {
      "text/plain": [
       "DatetimeIndex(['2019-09-02 07:03:00', '2019-09-02 07:05:00',\n",
       "               '2019-09-02 07:06:00', '2019-09-02 07:08:00',\n",
       "               '2019-09-02 07:56:00', '2019-09-02 08:03:00',\n",
       "               '2019-09-02 17:44:00', '2019-09-02 17:50:00',\n",
       "               '2019-09-02 17:51:00', '2019-09-02 17:45:00',\n",
       "               ...\n",
       "               '2019-09-06 17:18:00', '2019-09-06 17:19:00',\n",
       "               '2019-09-06 17:20:00', '2019-09-06 17:23:00',\n",
       "               '2019-09-06 17:18:00', '2019-09-06 17:20:00',\n",
       "               '2019-09-06 17:21:00', '2019-09-06 17:24:00',\n",
       "               '2019-09-06 17:25:00', '2019-09-06 17:27:00'],\n",
       "              dtype='datetime64[ns]', name='timestamp', length=24905, freq=None)"
      ]
     },
     "execution_count": 104,
     "metadata": {},
     "output_type": "execute_result"
    }
   ],
   "source": [
    "data.index"
   ]
  },
  {
   "cell_type": "code",
   "execution_count": 107,
   "metadata": {},
   "outputs": [],
   "source": [
    "# To fill in rows for the minutes that are not in the files,\n",
    "data2 = data.groupby('customer_id').resample('1min').fillna('ffill')"
   ]
  },
  {
   "cell_type": "code",
   "execution_count": 120,
   "metadata": {},
   "outputs": [],
   "source": [
    "data2.drop(columns='customer_id', inplace=True)"
   ]
  },
  {
   "cell_type": "code",
   "execution_count": 126,
   "metadata": {},
   "outputs": [],
   "source": [
    "data2.reset_index(inplace=True)"
   ]
  },
  {
   "cell_type": "code",
   "execution_count": 128,
   "metadata": {},
   "outputs": [],
   "source": [
    "data2.set_index('timestamp', inplace=True)"
   ]
  },
  {
   "cell_type": "code",
   "execution_count": 166,
   "metadata": {},
   "outputs": [
    {
     "data": {
      "text/html": [
       "<div>\n",
       "<style scoped>\n",
       "    .dataframe tbody tr th:only-of-type {\n",
       "        vertical-align: middle;\n",
       "    }\n",
       "\n",
       "    .dataframe tbody tr th {\n",
       "        vertical-align: top;\n",
       "    }\n",
       "\n",
       "    .dataframe thead th {\n",
       "        text-align: right;\n",
       "    }\n",
       "</style>\n",
       "<table border=\"1\" class=\"dataframe\">\n",
       "  <thead>\n",
       "    <tr style=\"text-align: right;\">\n",
       "      <th></th>\n",
       "      <th>customer_id</th>\n",
       "      <th>location</th>\n",
       "      <th>weekday</th>\n",
       "      <th>before</th>\n",
       "      <th>after</th>\n",
       "    </tr>\n",
       "    <tr>\n",
       "      <th>timestamp</th>\n",
       "      <th></th>\n",
       "      <th></th>\n",
       "      <th></th>\n",
       "      <th></th>\n",
       "      <th></th>\n",
       "    </tr>\n",
       "  </thead>\n",
       "  <tbody>\n",
       "    <tr>\n",
       "      <th>2019-09-02 07:03:00</th>\n",
       "      <td>0_1</td>\n",
       "      <td>dairy</td>\n",
       "      <td>Monday</td>\n",
       "      <td>dairy</td>\n",
       "      <td>dairy</td>\n",
       "    </tr>\n",
       "    <tr>\n",
       "      <th>2019-09-02 07:04:00</th>\n",
       "      <td>0_1</td>\n",
       "      <td>dairy</td>\n",
       "      <td>Monday</td>\n",
       "      <td>dairy</td>\n",
       "      <td>checkout</td>\n",
       "    </tr>\n",
       "    <tr>\n",
       "      <th>2019-09-02 07:05:00</th>\n",
       "      <td>0_1</td>\n",
       "      <td>checkout</td>\n",
       "      <td>Monday</td>\n",
       "      <td>checkout</td>\n",
       "      <td>fruit</td>\n",
       "    </tr>\n",
       "  </tbody>\n",
       "</table>\n",
       "</div>"
      ],
      "text/plain": [
       "                    customer_id  location weekday    before     after\n",
       "timestamp                                                            \n",
       "2019-09-02 07:03:00         0_1     dairy  Monday     dairy     dairy\n",
       "2019-09-02 07:04:00         0_1     dairy  Monday     dairy  checkout\n",
       "2019-09-02 07:05:00         0_1  checkout  Monday  checkout     fruit"
      ]
     },
     "execution_count": 166,
     "metadata": {},
     "output_type": "execute_result"
    }
   ],
   "source": [
    "data2.head(3)"
   ]
  },
  {
   "cell_type": "code",
   "execution_count": 133,
   "metadata": {},
   "outputs": [
    {
     "data": {
      "text/html": [
       "<div>\n",
       "<style scoped>\n",
       "    .dataframe tbody tr th:only-of-type {\n",
       "        vertical-align: middle;\n",
       "    }\n",
       "\n",
       "    .dataframe tbody tr th {\n",
       "        vertical-align: top;\n",
       "    }\n",
       "\n",
       "    .dataframe thead th {\n",
       "        text-align: right;\n",
       "    }\n",
       "</style>\n",
       "<table border=\"1\" class=\"dataframe\">\n",
       "  <thead>\n",
       "    <tr style=\"text-align: right;\">\n",
       "      <th></th>\n",
       "      <th>customer_id</th>\n",
       "      <th>location</th>\n",
       "      <th>weekday</th>\n",
       "      <th>before</th>\n",
       "      <th>after</th>\n",
       "    </tr>\n",
       "    <tr>\n",
       "      <th>timestamp</th>\n",
       "      <th></th>\n",
       "      <th></th>\n",
       "      <th></th>\n",
       "      <th></th>\n",
       "      <th></th>\n",
       "    </tr>\n",
       "  </thead>\n",
       "  <tbody>\n",
       "    <tr>\n",
       "      <th>2019-09-06 17:28:00</th>\n",
       "      <td>4_997</td>\n",
       "      <td>drinks</td>\n",
       "      <td>Friday</td>\n",
       "      <td>drinks</td>\n",
       "      <td>drinks</td>\n",
       "    </tr>\n",
       "    <tr>\n",
       "      <th>2019-09-06 17:29:00</th>\n",
       "      <td>4_997</td>\n",
       "      <td>drinks</td>\n",
       "      <td>Friday</td>\n",
       "      <td>drinks</td>\n",
       "      <td>drinks</td>\n",
       "    </tr>\n",
       "    <tr>\n",
       "      <th>2019-09-06 17:30:00</th>\n",
       "      <td>4_997</td>\n",
       "      <td>drinks</td>\n",
       "      <td>Friday</td>\n",
       "      <td>drinks</td>\n",
       "      <td>checkout</td>\n",
       "    </tr>\n",
       "    <tr>\n",
       "      <th>2019-09-06 17:31:00</th>\n",
       "      <td>4_997</td>\n",
       "      <td>checkout</td>\n",
       "      <td>Friday</td>\n",
       "      <td>checkout</td>\n",
       "      <td>drinks</td>\n",
       "    </tr>\n",
       "    <tr>\n",
       "      <th>2019-09-06 17:18:00</th>\n",
       "      <td>4_998</td>\n",
       "      <td>drinks</td>\n",
       "      <td>Friday</td>\n",
       "      <td>drinks</td>\n",
       "      <td>fruit</td>\n",
       "    </tr>\n",
       "    <tr>\n",
       "      <th>2019-09-06 17:19:00</th>\n",
       "      <td>4_998</td>\n",
       "      <td>fruit</td>\n",
       "      <td>Friday</td>\n",
       "      <td>fruit</td>\n",
       "      <td>drinks</td>\n",
       "    </tr>\n",
       "    <tr>\n",
       "      <th>2019-09-06 17:20:00</th>\n",
       "      <td>4_998</td>\n",
       "      <td>drinks</td>\n",
       "      <td>Friday</td>\n",
       "      <td>drinks</td>\n",
       "      <td>drinks</td>\n",
       "    </tr>\n",
       "    <tr>\n",
       "      <th>2019-09-06 17:21:00</th>\n",
       "      <td>4_998</td>\n",
       "      <td>drinks</td>\n",
       "      <td>Friday</td>\n",
       "      <td>drinks</td>\n",
       "      <td>drinks</td>\n",
       "    </tr>\n",
       "    <tr>\n",
       "      <th>2019-09-06 17:22:00</th>\n",
       "      <td>4_998</td>\n",
       "      <td>drinks</td>\n",
       "      <td>Friday</td>\n",
       "      <td>drinks</td>\n",
       "      <td>checkout</td>\n",
       "    </tr>\n",
       "    <tr>\n",
       "      <th>2019-09-06 17:23:00</th>\n",
       "      <td>4_998</td>\n",
       "      <td>checkout</td>\n",
       "      <td>Friday</td>\n",
       "      <td>checkout</td>\n",
       "      <td>fruit</td>\n",
       "    </tr>\n",
       "    <tr>\n",
       "      <th>2019-09-06 17:18:00</th>\n",
       "      <td>4_999</td>\n",
       "      <td>fruit</td>\n",
       "      <td>Friday</td>\n",
       "      <td>fruit</td>\n",
       "      <td>fruit</td>\n",
       "    </tr>\n",
       "    <tr>\n",
       "      <th>2019-09-06 17:19:00</th>\n",
       "      <td>4_999</td>\n",
       "      <td>fruit</td>\n",
       "      <td>Friday</td>\n",
       "      <td>fruit</td>\n",
       "      <td>drinks</td>\n",
       "    </tr>\n",
       "    <tr>\n",
       "      <th>2019-09-06 17:20:00</th>\n",
       "      <td>4_999</td>\n",
       "      <td>drinks</td>\n",
       "      <td>Friday</td>\n",
       "      <td>drinks</td>\n",
       "      <td>fruit</td>\n",
       "    </tr>\n",
       "    <tr>\n",
       "      <th>2019-09-06 17:21:00</th>\n",
       "      <td>4_999</td>\n",
       "      <td>fruit</td>\n",
       "      <td>Friday</td>\n",
       "      <td>fruit</td>\n",
       "      <td>fruit</td>\n",
       "    </tr>\n",
       "    <tr>\n",
       "      <th>2019-09-06 17:22:00</th>\n",
       "      <td>4_999</td>\n",
       "      <td>fruit</td>\n",
       "      <td>Friday</td>\n",
       "      <td>fruit</td>\n",
       "      <td>fruit</td>\n",
       "    </tr>\n",
       "    <tr>\n",
       "      <th>2019-09-06 17:23:00</th>\n",
       "      <td>4_999</td>\n",
       "      <td>fruit</td>\n",
       "      <td>Friday</td>\n",
       "      <td>fruit</td>\n",
       "      <td>drinks</td>\n",
       "    </tr>\n",
       "    <tr>\n",
       "      <th>2019-09-06 17:24:00</th>\n",
       "      <td>4_999</td>\n",
       "      <td>drinks</td>\n",
       "      <td>Friday</td>\n",
       "      <td>drinks</td>\n",
       "      <td>fruit</td>\n",
       "    </tr>\n",
       "    <tr>\n",
       "      <th>2019-09-06 17:25:00</th>\n",
       "      <td>4_999</td>\n",
       "      <td>fruit</td>\n",
       "      <td>Friday</td>\n",
       "      <td>fruit</td>\n",
       "      <td>fruit</td>\n",
       "    </tr>\n",
       "    <tr>\n",
       "      <th>2019-09-06 17:26:00</th>\n",
       "      <td>4_999</td>\n",
       "      <td>fruit</td>\n",
       "      <td>Friday</td>\n",
       "      <td>fruit</td>\n",
       "      <td>checkout</td>\n",
       "    </tr>\n",
       "    <tr>\n",
       "      <th>2019-09-06 17:27:00</th>\n",
       "      <td>4_999</td>\n",
       "      <td>checkout</td>\n",
       "      <td>Friday</td>\n",
       "      <td>checkout</td>\n",
       "      <td>NaN</td>\n",
       "    </tr>\n",
       "  </tbody>\n",
       "</table>\n",
       "</div>"
      ],
      "text/plain": [
       "                    customer_id  location weekday    before     after\n",
       "timestamp                                                            \n",
       "2019-09-06 17:28:00       4_997    drinks  Friday    drinks    drinks\n",
       "2019-09-06 17:29:00       4_997    drinks  Friday    drinks    drinks\n",
       "2019-09-06 17:30:00       4_997    drinks  Friday    drinks  checkout\n",
       "2019-09-06 17:31:00       4_997  checkout  Friday  checkout    drinks\n",
       "2019-09-06 17:18:00       4_998    drinks  Friday    drinks     fruit\n",
       "2019-09-06 17:19:00       4_998     fruit  Friday     fruit    drinks\n",
       "2019-09-06 17:20:00       4_998    drinks  Friday    drinks    drinks\n",
       "2019-09-06 17:21:00       4_998    drinks  Friday    drinks    drinks\n",
       "2019-09-06 17:22:00       4_998    drinks  Friday    drinks  checkout\n",
       "2019-09-06 17:23:00       4_998  checkout  Friday  checkout     fruit\n",
       "2019-09-06 17:18:00       4_999     fruit  Friday     fruit     fruit\n",
       "2019-09-06 17:19:00       4_999     fruit  Friday     fruit    drinks\n",
       "2019-09-06 17:20:00       4_999    drinks  Friday    drinks     fruit\n",
       "2019-09-06 17:21:00       4_999     fruit  Friday     fruit     fruit\n",
       "2019-09-06 17:22:00       4_999     fruit  Friday     fruit     fruit\n",
       "2019-09-06 17:23:00       4_999     fruit  Friday     fruit    drinks\n",
       "2019-09-06 17:24:00       4_999    drinks  Friday    drinks     fruit\n",
       "2019-09-06 17:25:00       4_999     fruit  Friday     fruit     fruit\n",
       "2019-09-06 17:26:00       4_999     fruit  Friday     fruit  checkout\n",
       "2019-09-06 17:27:00       4_999  checkout  Friday  checkout       NaN"
      ]
     },
     "execution_count": 133,
     "metadata": {},
     "output_type": "execute_result"
    }
   ],
   "source": [
    "# Add a column where customer was 'before' and 'after' (timestep is minutes)\n",
    "data2['before'] = data2['location']\n",
    "data2['after'] = data2['before'].shift(-1)\n",
    "data2.tail(20)"
   ]
  },
  {
   "cell_type": "code",
   "execution_count": 142,
   "metadata": {},
   "outputs": [],
   "source": [
    "# Filter out unnecessary rows\n",
    "data3 = data2[data2['before'] != 'checkout']"
   ]
  },
  {
   "cell_type": "code",
   "execution_count": 143,
   "metadata": {},
   "outputs": [
    {
     "data": {
      "text/plain": [
       "(130034, 5)"
      ]
     },
     "execution_count": 143,
     "metadata": {},
     "output_type": "execute_result"
    }
   ],
   "source": [
    "data2.shape"
   ]
  },
  {
   "cell_type": "code",
   "execution_count": 144,
   "metadata": {},
   "outputs": [
    {
     "data": {
      "text/plain": [
       "(46590, 5)"
      ]
     },
     "execution_count": 144,
     "metadata": {},
     "output_type": "execute_result"
    }
   ],
   "source": [
    "data3.shape"
   ]
  },
  {
   "cell_type": "code",
   "execution_count": 153,
   "metadata": {},
   "outputs": [],
   "source": [
    "transition_matrix = pd.crosstab(data3['after'], data3['before'], normalize=0)"
   ]
  },
  {
   "cell_type": "code",
   "execution_count": 156,
   "metadata": {},
   "outputs": [
    {
     "data": {
      "text/html": [
       "<div>\n",
       "<style scoped>\n",
       "    .dataframe tbody tr th:only-of-type {\n",
       "        vertical-align: middle;\n",
       "    }\n",
       "\n",
       "    .dataframe tbody tr th {\n",
       "        vertical-align: top;\n",
       "    }\n",
       "\n",
       "    .dataframe thead th {\n",
       "        text-align: right;\n",
       "    }\n",
       "</style>\n",
       "<table border=\"1\" class=\"dataframe\">\n",
       "  <thead>\n",
       "    <tr style=\"text-align: right;\">\n",
       "      <th>before</th>\n",
       "      <th>dairy</th>\n",
       "      <th>drinks</th>\n",
       "      <th>fruit</th>\n",
       "      <th>spices</th>\n",
       "    </tr>\n",
       "    <tr>\n",
       "      <th>after</th>\n",
       "      <th></th>\n",
       "      <th></th>\n",
       "      <th></th>\n",
       "      <th></th>\n",
       "    </tr>\n",
       "  </thead>\n",
       "  <tbody>\n",
       "    <tr>\n",
       "      <th>checkout</th>\n",
       "      <td>0.246400</td>\n",
       "      <td>0.282062</td>\n",
       "      <td>0.344503</td>\n",
       "      <td>0.127035</td>\n",
       "    </tr>\n",
       "    <tr>\n",
       "      <th>dairy</th>\n",
       "      <td>0.838000</td>\n",
       "      <td>0.006824</td>\n",
       "      <td>0.077747</td>\n",
       "      <td>0.077428</td>\n",
       "    </tr>\n",
       "    <tr>\n",
       "      <th>drinks</th>\n",
       "      <td>0.121374</td>\n",
       "      <td>0.678043</td>\n",
       "      <td>0.081305</td>\n",
       "      <td>0.119278</td>\n",
       "    </tr>\n",
       "    <tr>\n",
       "      <th>fruit</th>\n",
       "      <td>0.089383</td>\n",
       "      <td>0.086065</td>\n",
       "      <td>0.767042</td>\n",
       "      <td>0.057511</td>\n",
       "    </tr>\n",
       "    <tr>\n",
       "      <th>spices</th>\n",
       "      <td>0.184886</td>\n",
       "      <td>0.170944</td>\n",
       "      <td>0.130127</td>\n",
       "      <td>0.514043</td>\n",
       "    </tr>\n",
       "  </tbody>\n",
       "</table>\n",
       "</div>"
      ],
      "text/plain": [
       "before       dairy    drinks     fruit    spices\n",
       "after                                           \n",
       "checkout  0.246400  0.282062  0.344503  0.127035\n",
       "dairy     0.838000  0.006824  0.077747  0.077428\n",
       "drinks    0.121374  0.678043  0.081305  0.119278\n",
       "fruit     0.089383  0.086065  0.767042  0.057511\n",
       "spices    0.184886  0.170944  0.130127  0.514043"
      ]
     },
     "execution_count": 156,
     "metadata": {},
     "output_type": "execute_result"
    }
   ],
   "source": [
    "transition_matrix"
   ]
  },
  {
   "cell_type": "code",
   "execution_count": 154,
   "metadata": {},
   "outputs": [
    {
     "data": {
      "text/plain": [
       "after\n",
       "checkout    1.0\n",
       "dairy       1.0\n",
       "drinks      1.0\n",
       "fruit       1.0\n",
       "spices      1.0\n",
       "dtype: float64"
      ]
     },
     "execution_count": 154,
     "metadata": {},
     "output_type": "execute_result"
    }
   ],
   "source": [
    "transition_matrix.sum(axis=1)"
   ]
  },
  {
   "cell_type": "code",
   "execution_count": 180,
   "metadata": {},
   "outputs": [],
   "source": [
    "#########################################################################################\n",
    "### Which is the right axis to use for the crosstabs? ---> added a test matrix below\n",
    "transition_matrix_test = pd.crosstab(data3['before'], data3['after'], normalize=0)"
   ]
  },
  {
   "cell_type": "code",
   "execution_count": 181,
   "metadata": {},
   "outputs": [
    {
     "data": {
      "text/html": [
       "<div>\n",
       "<style scoped>\n",
       "    .dataframe tbody tr th:only-of-type {\n",
       "        vertical-align: middle;\n",
       "    }\n",
       "\n",
       "    .dataframe tbody tr th {\n",
       "        vertical-align: top;\n",
       "    }\n",
       "\n",
       "    .dataframe thead th {\n",
       "        text-align: right;\n",
       "    }\n",
       "</style>\n",
       "<table border=\"1\" class=\"dataframe\">\n",
       "  <thead>\n",
       "    <tr style=\"text-align: right;\">\n",
       "      <th>after</th>\n",
       "      <th>checkout</th>\n",
       "      <th>dairy</th>\n",
       "      <th>drinks</th>\n",
       "      <th>fruit</th>\n",
       "      <th>spices</th>\n",
       "    </tr>\n",
       "    <tr>\n",
       "      <th>before</th>\n",
       "      <th></th>\n",
       "      <th></th>\n",
       "      <th></th>\n",
       "      <th></th>\n",
       "      <th></th>\n",
       "    </tr>\n",
       "  </thead>\n",
       "  <tbody>\n",
       "    <tr>\n",
       "      <th>dairy</th>\n",
       "      <td>0.102773</td>\n",
       "      <td>0.737483</td>\n",
       "      <td>0.058487</td>\n",
       "      <td>0.049899</td>\n",
       "      <td>0.051358</td>\n",
       "    </tr>\n",
       "    <tr>\n",
       "      <th>drinks</th>\n",
       "      <td>0.215505</td>\n",
       "      <td>0.011001</td>\n",
       "      <td>0.598499</td>\n",
       "      <td>0.088012</td>\n",
       "      <td>0.086983</td>\n",
       "    </tr>\n",
       "    <tr>\n",
       "      <th>fruit</th>\n",
       "      <td>0.200784</td>\n",
       "      <td>0.095608</td>\n",
       "      <td>0.054745</td>\n",
       "      <td>0.598353</td>\n",
       "      <td>0.050510</td>\n",
       "    </tr>\n",
       "    <tr>\n",
       "      <th>spices</th>\n",
       "      <td>0.149889</td>\n",
       "      <td>0.192760</td>\n",
       "      <td>0.162591</td>\n",
       "      <td>0.090822</td>\n",
       "      <td>0.403938</td>\n",
       "    </tr>\n",
       "  </tbody>\n",
       "</table>\n",
       "</div>"
      ],
      "text/plain": [
       "after   checkout     dairy    drinks     fruit    spices\n",
       "before                                                  \n",
       "dairy   0.102773  0.737483  0.058487  0.049899  0.051358\n",
       "drinks  0.215505  0.011001  0.598499  0.088012  0.086983\n",
       "fruit   0.200784  0.095608  0.054745  0.598353  0.050510\n",
       "spices  0.149889  0.192760  0.162591  0.090822  0.403938"
      ]
     },
     "execution_count": 181,
     "metadata": {},
     "output_type": "execute_result"
    }
   ],
   "source": [
    "transition_matrix_test"
   ]
  },
  {
   "cell_type": "code",
   "execution_count": 177,
   "metadata": {},
   "outputs": [
    {
     "data": {
      "text/plain": [
       "before\n",
       "dairy     1.0\n",
       "drinks    1.0\n",
       "fruit     1.0\n",
       "spices    1.0\n",
       "dtype: float64"
      ]
     },
     "execution_count": 177,
     "metadata": {},
     "output_type": "execute_result"
    }
   ],
   "source": [
    "transition_matrix_test.sum(axis=1)"
   ]
  },
  {
   "cell_type": "code",
   "execution_count": null,
   "metadata": {},
   "outputs": [],
   "source": [
    "#########################################################################################"
   ]
  },
  {
   "cell_type": "code",
   "execution_count": null,
   "metadata": {},
   "outputs": [],
   "source": []
  },
  {
   "cell_type": "code",
   "execution_count": null,
   "metadata": {},
   "outputs": [],
   "source": []
  },
  {
   "cell_type": "code",
   "execution_count": null,
   "metadata": {},
   "outputs": [],
   "source": [
    "#########################################################################################\n",
    "### Copied from Course code - to be adapted"
   ]
  },
  {
   "cell_type": "code",
   "execution_count": null,
   "metadata": {},
   "outputs": [],
   "source": [
    "# # transition prob matrix\n",
    "# P = np.array([[0.4, 0.666],\n",
    "#               [0.6, 0.333]])\n",
    "\n",
    "# # initial state distribution (day 0)\n",
    "# S = np.array([1.0, 0.0])   # <-- we start with a 100% sunny day"
   ]
  },
  {
   "cell_type": "code",
   "execution_count": null,
   "metadata": {},
   "outputs": [],
   "source": [
    "# S1 = np.dot(S, P.T)\n",
    "# S1"
   ]
  },
  {
   "cell_type": "code",
   "execution_count": null,
   "metadata": {},
   "outputs": [],
   "source": [
    "# S2 = np.dot(S1, P.T)\n",
    "# S2"
   ]
  },
  {
   "cell_type": "code",
   "execution_count": null,
   "metadata": {},
   "outputs": [],
   "source": [
    "# np.dot(np.dot(np.dot(np.dot(np.dot(S, P.T), P.T), P.T), P.T), P.T)"
   ]
  },
  {
   "cell_type": "code",
   "execution_count": null,
   "metadata": {},
   "outputs": [],
   "source": [
    "# result = []\n",
    "# s = S.copy()\n",
    "# for i in range(10):\n",
    "#     result.append(s)\n",
    "#     s = np.dot(s, P.T)"
   ]
  },
  {
   "cell_type": "code",
   "execution_count": null,
   "metadata": {},
   "outputs": [],
   "source": [
    "# pd.DataFrame(result).plot()"
   ]
  },
  {
   "cell_type": "code",
   "execution_count": null,
   "metadata": {},
   "outputs": [],
   "source": []
  },
  {
   "cell_type": "code",
   "execution_count": null,
   "metadata": {},
   "outputs": [],
   "source": []
  },
  {
   "cell_type": "code",
   "execution_count": null,
   "metadata": {},
   "outputs": [],
   "source": []
  }
 ],
 "metadata": {
  "kernelspec": {
   "display_name": "Python 3",
   "language": "python",
   "name": "python3"
  },
  "language_info": {
   "codemirror_mode": {
    "name": "ipython",
    "version": 3
   },
   "file_extension": ".py",
   "mimetype": "text/x-python",
   "name": "python",
   "nbconvert_exporter": "python",
   "pygments_lexer": "ipython3",
   "version": "3.8.5"
  }
 },
 "nbformat": 4,
 "nbformat_minor": 4
}
