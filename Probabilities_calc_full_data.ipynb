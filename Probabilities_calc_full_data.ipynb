{
 "cells": [
  {
   "cell_type": "code",
   "execution_count": 41,
   "metadata": {},
   "outputs": [],
   "source": [
    "import pandas as pd\n",
    "import matplotlib.pyplot as plt\n",
    "import seaborn as sns\n",
    "\n",
    "sns.set()\n",
    "plt.rcParams['figure.figsize'] = (20,6)"
   ]
  },
  {
   "cell_type": "code",
   "execution_count": 42,
   "metadata": {},
   "outputs": [],
   "source": [
    "data = pd.read_csv('data/full_data.csv', delimiter = ';', parse_dates=True, index_col=0)"
   ]
  },
  {
   "cell_type": "code",
   "execution_count": 43,
   "metadata": {},
   "outputs": [],
   "source": [
    "data['timestamp'] = pd.to_datetime(data['timestamp'])"
   ]
  },
  {
   "cell_type": "code",
   "execution_count": 44,
   "metadata": {},
   "outputs": [
    {
     "data": {
      "text/plain": [
       "timestamp      datetime64[ns]\n",
       "customer_no             int64\n",
       "location               object\n",
       "weekday                object\n",
       "time                   object\n",
       "customer_id            object\n",
       "dtype: object"
      ]
     },
     "execution_count": 44,
     "metadata": {},
     "output_type": "execute_result"
    }
   ],
   "source": [
    "data.dtypes"
   ]
  },
  {
   "cell_type": "code",
   "execution_count": 45,
   "metadata": {},
   "outputs": [
    {
     "data": {
      "text/plain": [
       "28"
      ]
     },
     "execution_count": 45,
     "metadata": {},
     "output_type": "execute_result"
    }
   ],
   "source": [
    "# Number of customers that are not \"checked out\"\n",
    "(data['customer_id'].nunique()) - (data[data['location'] == 'checkout'].value_counts().count())"
   ]
  },
  {
   "cell_type": "code",
   "execution_count": 46,
   "metadata": {},
   "outputs": [],
   "source": [
    "# Drop these 28 customers"
   ]
  },
  {
   "cell_type": "code",
   "execution_count": null,
   "metadata": {},
   "outputs": [],
   "source": []
  },
  {
   "cell_type": "code",
   "execution_count": null,
   "metadata": {},
   "outputs": [],
   "source": []
  },
  {
   "cell_type": "code",
   "execution_count": 47,
   "metadata": {},
   "outputs": [],
   "source": [
    "data.sort_values(['customer_id', 'timestamp'], inplace=True)"
   ]
  },
  {
   "cell_type": "code",
   "execution_count": 48,
   "metadata": {},
   "outputs": [],
   "source": [
    "data.set_index('timestamp', inplace=True)"
   ]
  },
  {
   "cell_type": "code",
   "execution_count": 49,
   "metadata": {},
   "outputs": [
    {
     "data": {
      "text/plain": [
       "DatetimeIndex(['2019-09-06 07:00:00', '2019-09-06 07:04:00',\n",
       "               '2019-09-06 07:05:00', '2019-09-06 07:06:00',\n",
       "               '2019-09-06 07:11:00', '2019-09-06 08:03:00',\n",
       "               '2019-09-06 08:04:00', '2019-09-06 17:19:00',\n",
       "               '2019-09-06 17:20:00', '2019-09-06 17:19:00',\n",
       "               ...\n",
       "               '2019-09-04 16:53:00', '2019-09-04 16:54:00',\n",
       "               '2019-09-04 17:09:00', '2019-09-04 17:10:00',\n",
       "               '2019-09-04 17:14:00', '2019-09-04 16:53:00',\n",
       "               '2019-09-04 16:57:00', '2019-09-04 16:59:00',\n",
       "               '2019-09-04 16:53:00', '2019-09-04 16:54:00'],\n",
       "              dtype='datetime64[ns]', name='timestamp', length=24877, freq=None)"
      ]
     },
     "execution_count": 49,
     "metadata": {},
     "output_type": "execute_result"
    }
   ],
   "source": [
    "data.index"
   ]
  },
  {
   "cell_type": "code",
   "execution_count": null,
   "metadata": {},
   "outputs": [],
   "source": [
    "# To fill in rows for the minutes that are not in the files,\n",
    "data.groupby('customer_id').resample('1min').fillna('ffill')"
   ]
  },
  {
   "cell_type": "code",
   "execution_count": null,
   "metadata": {},
   "outputs": [],
   "source": [
    "data['before'] = data['location']\n",
    "data['after'] = data['before'].shift(-1)\n",
    "data.tail(20)"
   ]
  }
 ],
 "metadata": {
  "kernelspec": {
   "display_name": "Python 3",
   "language": "python",
   "name": "python3"
  },
  "language_info": {
   "codemirror_mode": {
    "name": "ipython",
    "version": 3
   },
   "file_extension": ".py",
   "mimetype": "text/x-python",
   "name": "python",
   "nbconvert_exporter": "python",
   "pygments_lexer": "ipython3",
   "version": "3.8.5"
  }
 },
 "nbformat": 4,
 "nbformat_minor": 4
}
