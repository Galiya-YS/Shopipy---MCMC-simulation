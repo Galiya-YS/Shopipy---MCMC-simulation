{
 "cells": [
  {
   "cell_type": "code",
   "execution_count": 1,
   "metadata": {},
   "outputs": [],
   "source": [
    "import pandas as pd\n",
    "import matplotlib.pyplot as plt\n",
    "import seaborn as sns\n",
    "\n",
    "sns.set()\n",
    "plt.rcParams['figure.figsize'] = (20,6)"
   ]
  },
  {
   "cell_type": "code",
   "execution_count": 2,
   "metadata": {},
   "outputs": [],
   "source": [
    "data = pd.read_csv('data/full_data.csv', delimiter = ';', parse_dates=True)"
   ]
  },
  {
   "cell_type": "code",
   "execution_count": 3,
   "metadata": {},
   "outputs": [],
   "source": [
    "data['timestamp'] = pd.to_datetime(data['timestamp'])"
   ]
  },
  {
   "cell_type": "code",
   "execution_count": 4,
   "metadata": {},
   "outputs": [],
   "source": [
    "data.drop(columns='time', inplace=True)"
   ]
  },
  {
   "cell_type": "code",
   "execution_count": 5,
   "metadata": {},
   "outputs": [
    {
     "data": {
      "text/html": [
       "<div>\n",
       "<style scoped>\n",
       "    .dataframe tbody tr th:only-of-type {\n",
       "        vertical-align: middle;\n",
       "    }\n",
       "\n",
       "    .dataframe tbody tr th {\n",
       "        vertical-align: top;\n",
       "    }\n",
       "\n",
       "    .dataframe thead th {\n",
       "        text-align: right;\n",
       "    }\n",
       "</style>\n",
       "<table border=\"1\" class=\"dataframe\">\n",
       "  <thead>\n",
       "    <tr style=\"text-align: right;\">\n",
       "      <th></th>\n",
       "      <th>timestamp</th>\n",
       "      <th>customer_no</th>\n",
       "      <th>location</th>\n",
       "      <th>weekday</th>\n",
       "      <th>weekday_num</th>\n",
       "      <th>customer_id</th>\n",
       "    </tr>\n",
       "  </thead>\n",
       "  <tbody>\n",
       "    <tr>\n",
       "      <th>0</th>\n",
       "      <td>2019-09-02 07:03:00</td>\n",
       "      <td>1</td>\n",
       "      <td>dairy</td>\n",
       "      <td>Monday</td>\n",
       "      <td>0</td>\n",
       "      <td>0_1</td>\n",
       "    </tr>\n",
       "    <tr>\n",
       "      <th>1</th>\n",
       "      <td>2019-09-02 07:03:00</td>\n",
       "      <td>2</td>\n",
       "      <td>dairy</td>\n",
       "      <td>Monday</td>\n",
       "      <td>0</td>\n",
       "      <td>0_2</td>\n",
       "    </tr>\n",
       "    <tr>\n",
       "      <th>2</th>\n",
       "      <td>2019-09-02 07:04:00</td>\n",
       "      <td>3</td>\n",
       "      <td>dairy</td>\n",
       "      <td>Monday</td>\n",
       "      <td>0</td>\n",
       "      <td>0_3</td>\n",
       "    </tr>\n",
       "    <tr>\n",
       "      <th>3</th>\n",
       "      <td>2019-09-02 07:04:00</td>\n",
       "      <td>4</td>\n",
       "      <td>dairy</td>\n",
       "      <td>Monday</td>\n",
       "      <td>0</td>\n",
       "      <td>0_4</td>\n",
       "    </tr>\n",
       "    <tr>\n",
       "      <th>4</th>\n",
       "      <td>2019-09-02 07:04:00</td>\n",
       "      <td>5</td>\n",
       "      <td>spices</td>\n",
       "      <td>Monday</td>\n",
       "      <td>0</td>\n",
       "      <td>0_5</td>\n",
       "    </tr>\n",
       "  </tbody>\n",
       "</table>\n",
       "</div>"
      ],
      "text/plain": [
       "            timestamp  customer_no location weekday  weekday_num customer_id\n",
       "0 2019-09-02 07:03:00            1    dairy  Monday            0         0_1\n",
       "1 2019-09-02 07:03:00            2    dairy  Monday            0         0_2\n",
       "2 2019-09-02 07:04:00            3    dairy  Monday            0         0_3\n",
       "3 2019-09-02 07:04:00            4    dairy  Monday            0         0_4\n",
       "4 2019-09-02 07:04:00            5   spices  Monday            0         0_5"
      ]
     },
     "execution_count": 5,
     "metadata": {},
     "output_type": "execute_result"
    }
   ],
   "source": [
    "data.head()"
   ]
  },
  {
   "cell_type": "code",
   "execution_count": 6,
   "metadata": {},
   "outputs": [
    {
     "data": {
      "text/plain": [
       "timestamp      datetime64[ns]\n",
       "customer_no             int64\n",
       "location               object\n",
       "weekday                object\n",
       "weekday_num             int64\n",
       "customer_id            object\n",
       "dtype: object"
      ]
     },
     "execution_count": 6,
     "metadata": {},
     "output_type": "execute_result"
    }
   ],
   "source": [
    "data.dtypes"
   ]
  },
  {
   "cell_type": "code",
   "execution_count": 7,
   "metadata": {},
   "outputs": [
    {
     "data": {
      "text/plain": [
       "7445"
      ]
     },
     "execution_count": 7,
     "metadata": {},
     "output_type": "execute_result"
    }
   ],
   "source": [
    "# Number of unique customers\n",
    "data['customer_id'].nunique()"
   ]
  },
  {
   "cell_type": "code",
   "execution_count": 8,
   "metadata": {},
   "outputs": [],
   "source": [
    "# Number of customers that are not \"checked out\"\n",
    "#(data['customer_id'].nunique()) - (data[data['location'] == 'checkout'].value_counts().count())"
   ]
  },
  {
   "cell_type": "code",
   "execution_count": 9,
   "metadata": {},
   "outputs": [],
   "source": [
    "# Drop these 28 customers"
   ]
  },
  {
   "cell_type": "code",
   "execution_count": 10,
   "metadata": {},
   "outputs": [],
   "source": [
    "# Filter on valid customers\n",
    "valid_customers = data[data['location'] == 'checkout'][['customer_id']]"
   ]
  },
  {
   "cell_type": "code",
   "execution_count": 11,
   "metadata": {},
   "outputs": [
    {
     "data": {
      "text/plain": [
       "7417"
      ]
     },
     "execution_count": 11,
     "metadata": {},
     "output_type": "execute_result"
    }
   ],
   "source": [
    "# check if every customer_id is only included once\n",
    "len(valid_customers)"
   ]
  },
  {
   "cell_type": "code",
   "execution_count": 12,
   "metadata": {},
   "outputs": [
    {
     "data": {
      "text/plain": [
       "7417"
      ]
     },
     "execution_count": 12,
     "metadata": {},
     "output_type": "execute_result"
    }
   ],
   "source": [
    "valid_customers['customer_id'].value_counts().sum()"
   ]
  },
  {
   "cell_type": "code",
   "execution_count": 13,
   "metadata": {},
   "outputs": [],
   "source": [
    "valid_cust = list(valid_customers['customer_id'])"
   ]
  },
  {
   "cell_type": "code",
   "execution_count": 14,
   "metadata": {},
   "outputs": [],
   "source": [
    "#valid_cust"
   ]
  },
  {
   "cell_type": "code",
   "execution_count": 15,
   "metadata": {},
   "outputs": [],
   "source": [
    "# Create new data set with valid customers only\n",
    "data['mask'] = data['customer_id'].isin(valid_cust)"
   ]
  },
  {
   "cell_type": "code",
   "execution_count": 16,
   "metadata": {},
   "outputs": [
    {
     "data": {
      "text/plain": [
       "(24877, 7)"
      ]
     },
     "execution_count": 16,
     "metadata": {},
     "output_type": "execute_result"
    }
   ],
   "source": [
    "data.shape"
   ]
  },
  {
   "cell_type": "code",
   "execution_count": 17,
   "metadata": {},
   "outputs": [],
   "source": [
    "valid_data = data[data['mask'] == True].copy()"
   ]
  },
  {
   "cell_type": "code",
   "execution_count": 18,
   "metadata": {},
   "outputs": [
    {
     "data": {
      "text/plain": [
       "(24798, 7)"
      ]
     },
     "execution_count": 18,
     "metadata": {},
     "output_type": "execute_result"
    }
   ],
   "source": [
    "valid_data.shape"
   ]
  },
  {
   "cell_type": "code",
   "execution_count": 19,
   "metadata": {},
   "outputs": [
    {
     "data": {
      "text/plain": [
       "7417"
      ]
     },
     "execution_count": 19,
     "metadata": {},
     "output_type": "execute_result"
    }
   ],
   "source": [
    "valid_data['customer_id'].nunique()"
   ]
  },
  {
   "cell_type": "code",
   "execution_count": 20,
   "metadata": {},
   "outputs": [
    {
     "data": {
      "text/html": [
       "<div>\n",
       "<style scoped>\n",
       "    .dataframe tbody tr th:only-of-type {\n",
       "        vertical-align: middle;\n",
       "    }\n",
       "\n",
       "    .dataframe tbody tr th {\n",
       "        vertical-align: top;\n",
       "    }\n",
       "\n",
       "    .dataframe thead th {\n",
       "        text-align: right;\n",
       "    }\n",
       "</style>\n",
       "<table border=\"1\" class=\"dataframe\">\n",
       "  <thead>\n",
       "    <tr style=\"text-align: right;\">\n",
       "      <th></th>\n",
       "      <th>timestamp</th>\n",
       "      <th>customer_no</th>\n",
       "      <th>location</th>\n",
       "      <th>weekday</th>\n",
       "      <th>weekday_num</th>\n",
       "      <th>customer_id</th>\n",
       "      <th>mask</th>\n",
       "    </tr>\n",
       "  </thead>\n",
       "  <tbody>\n",
       "    <tr>\n",
       "      <th>0</th>\n",
       "      <td>2019-09-02 07:03:00</td>\n",
       "      <td>1</td>\n",
       "      <td>dairy</td>\n",
       "      <td>Monday</td>\n",
       "      <td>0</td>\n",
       "      <td>0_1</td>\n",
       "      <td>True</td>\n",
       "    </tr>\n",
       "    <tr>\n",
       "      <th>1</th>\n",
       "      <td>2019-09-02 07:03:00</td>\n",
       "      <td>2</td>\n",
       "      <td>dairy</td>\n",
       "      <td>Monday</td>\n",
       "      <td>0</td>\n",
       "      <td>0_2</td>\n",
       "      <td>True</td>\n",
       "    </tr>\n",
       "    <tr>\n",
       "      <th>2</th>\n",
       "      <td>2019-09-02 07:04:00</td>\n",
       "      <td>3</td>\n",
       "      <td>dairy</td>\n",
       "      <td>Monday</td>\n",
       "      <td>0</td>\n",
       "      <td>0_3</td>\n",
       "      <td>True</td>\n",
       "    </tr>\n",
       "  </tbody>\n",
       "</table>\n",
       "</div>"
      ],
      "text/plain": [
       "            timestamp  customer_no location weekday  weekday_num customer_id  \\\n",
       "0 2019-09-02 07:03:00            1    dairy  Monday            0         0_1   \n",
       "1 2019-09-02 07:03:00            2    dairy  Monday            0         0_2   \n",
       "2 2019-09-02 07:04:00            3    dairy  Monday            0         0_3   \n",
       "\n",
       "   mask  \n",
       "0  True  \n",
       "1  True  \n",
       "2  True  "
      ]
     },
     "execution_count": 20,
     "metadata": {},
     "output_type": "execute_result"
    }
   ],
   "source": [
    "valid_data.head(3)"
   ]
  },
  {
   "cell_type": "code",
   "execution_count": 21,
   "metadata": {},
   "outputs": [
    {
     "data": {
      "text/plain": [
       "timestamp      datetime64[ns]\n",
       "customer_no             int64\n",
       "location               object\n",
       "weekday                object\n",
       "weekday_num             int64\n",
       "customer_id            object\n",
       "mask                     bool\n",
       "dtype: object"
      ]
     },
     "execution_count": 21,
     "metadata": {},
     "output_type": "execute_result"
    }
   ],
   "source": [
    "valid_data.dtypes"
   ]
  },
  {
   "cell_type": "code",
   "execution_count": 22,
   "metadata": {},
   "outputs": [
    {
     "data": {
      "text/plain": [
       "True    24798\n",
       "Name: mask, dtype: int64"
      ]
     },
     "execution_count": 22,
     "metadata": {},
     "output_type": "execute_result"
    }
   ],
   "source": [
    "valid_data['mask'].value_counts()"
   ]
  },
  {
   "cell_type": "code",
   "execution_count": 23,
   "metadata": {},
   "outputs": [],
   "source": [
    "valid_data.drop(columns='mask', inplace=True)"
   ]
  },
  {
   "cell_type": "code",
   "execution_count": 24,
   "metadata": {},
   "outputs": [],
   "source": [
    "######"
   ]
  },
  {
   "cell_type": "code",
   "execution_count": 25,
   "metadata": {},
   "outputs": [],
   "source": [
    "# Add entrance (one minute before timestamp of first section in store)\n",
    "df_entrance = valid_data.copy()"
   ]
  },
  {
   "cell_type": "code",
   "execution_count": 26,
   "metadata": {},
   "outputs": [],
   "source": [
    "one_min = pd.Timedelta(minutes=1)"
   ]
  },
  {
   "cell_type": "code",
   "execution_count": 27,
   "metadata": {},
   "outputs": [],
   "source": [
    "df_entrance['timestamp'] = df_entrance.groupby(['customer_id'])['timestamp'].transform('min')"
   ]
  },
  {
   "cell_type": "code",
   "execution_count": 28,
   "metadata": {},
   "outputs": [],
   "source": [
    "df_entrance['timestamp'] = df_entrance['timestamp'] - one_min"
   ]
  },
  {
   "cell_type": "code",
   "execution_count": 29,
   "metadata": {},
   "outputs": [],
   "source": [
    "df_entrance.drop_duplicates(subset=['customer_id'], inplace=True)"
   ]
  },
  {
   "cell_type": "code",
   "execution_count": 30,
   "metadata": {},
   "outputs": [],
   "source": [
    "df_entrance['location']='entrance'"
   ]
  },
  {
   "cell_type": "code",
   "execution_count": 31,
   "metadata": {},
   "outputs": [
    {
     "data": {
      "text/plain": [
       "entrance    7417\n",
       "Name: location, dtype: int64"
      ]
     },
     "execution_count": 31,
     "metadata": {},
     "output_type": "execute_result"
    }
   ],
   "source": [
    "df_entrance['location'].value_counts()"
   ]
  },
  {
   "cell_type": "code",
   "execution_count": 32,
   "metadata": {},
   "outputs": [],
   "source": [
    "# Add dataframe with entrance data to \"valid_data\""
   ]
  },
  {
   "cell_type": "code",
   "execution_count": 33,
   "metadata": {},
   "outputs": [
    {
     "data": {
      "text/plain": [
       "(7417, 6)"
      ]
     },
     "execution_count": 33,
     "metadata": {},
     "output_type": "execute_result"
    }
   ],
   "source": [
    "df_entrance.shape"
   ]
  },
  {
   "cell_type": "code",
   "execution_count": 34,
   "metadata": {},
   "outputs": [
    {
     "data": {
      "text/plain": [
       "(24798, 6)"
      ]
     },
     "execution_count": 34,
     "metadata": {},
     "output_type": "execute_result"
    }
   ],
   "source": [
    "valid_data.shape"
   ]
  },
  {
   "cell_type": "code",
   "execution_count": 35,
   "metadata": {},
   "outputs": [],
   "source": [
    "df = pd.concat([valid_data, df_entrance])"
   ]
  },
  {
   "cell_type": "code",
   "execution_count": 36,
   "metadata": {},
   "outputs": [
    {
     "data": {
      "text/plain": [
       "(32215, 6)"
      ]
     },
     "execution_count": 36,
     "metadata": {},
     "output_type": "execute_result"
    }
   ],
   "source": [
    "df.shape"
   ]
  },
  {
   "cell_type": "code",
   "execution_count": 37,
   "metadata": {},
   "outputs": [],
   "source": [
    "######"
   ]
  },
  {
   "cell_type": "code",
   "execution_count": 38,
   "metadata": {},
   "outputs": [],
   "source": [
    "df.sort_values(['customer_id', 'timestamp'], inplace=True)"
   ]
  },
  {
   "cell_type": "code",
   "execution_count": 39,
   "metadata": {},
   "outputs": [
    {
     "data": {
      "text/html": [
       "<div>\n",
       "<style scoped>\n",
       "    .dataframe tbody tr th:only-of-type {\n",
       "        vertical-align: middle;\n",
       "    }\n",
       "\n",
       "    .dataframe tbody tr th {\n",
       "        vertical-align: top;\n",
       "    }\n",
       "\n",
       "    .dataframe thead th {\n",
       "        text-align: right;\n",
       "    }\n",
       "</style>\n",
       "<table border=\"1\" class=\"dataframe\">\n",
       "  <thead>\n",
       "    <tr style=\"text-align: right;\">\n",
       "      <th></th>\n",
       "      <th>timestamp</th>\n",
       "      <th>customer_no</th>\n",
       "      <th>location</th>\n",
       "      <th>weekday</th>\n",
       "      <th>weekday_num</th>\n",
       "      <th>customer_id</th>\n",
       "    </tr>\n",
       "  </thead>\n",
       "  <tbody>\n",
       "    <tr>\n",
       "      <th>0</th>\n",
       "      <td>2019-09-02 07:02:00</td>\n",
       "      <td>1</td>\n",
       "      <td>entrance</td>\n",
       "      <td>Monday</td>\n",
       "      <td>0</td>\n",
       "      <td>0_1</td>\n",
       "    </tr>\n",
       "    <tr>\n",
       "      <th>0</th>\n",
       "      <td>2019-09-02 07:03:00</td>\n",
       "      <td>1</td>\n",
       "      <td>dairy</td>\n",
       "      <td>Monday</td>\n",
       "      <td>0</td>\n",
       "      <td>0_1</td>\n",
       "    </tr>\n",
       "    <tr>\n",
       "      <th>8</th>\n",
       "      <td>2019-09-02 07:05:00</td>\n",
       "      <td>1</td>\n",
       "      <td>checkout</td>\n",
       "      <td>Monday</td>\n",
       "      <td>0</td>\n",
       "      <td>0_1</td>\n",
       "    </tr>\n",
       "  </tbody>\n",
       "</table>\n",
       "</div>"
      ],
      "text/plain": [
       "            timestamp  customer_no  location weekday  weekday_num customer_id\n",
       "0 2019-09-02 07:02:00            1  entrance  Monday            0         0_1\n",
       "0 2019-09-02 07:03:00            1     dairy  Monday            0         0_1\n",
       "8 2019-09-02 07:05:00            1  checkout  Monday            0         0_1"
      ]
     },
     "execution_count": 39,
     "metadata": {},
     "output_type": "execute_result"
    }
   ],
   "source": [
    "df.head(3)"
   ]
  },
  {
   "cell_type": "code",
   "execution_count": 40,
   "metadata": {},
   "outputs": [],
   "source": [
    "df.set_index('timestamp', inplace=True)"
   ]
  },
  {
   "cell_type": "code",
   "execution_count": 41,
   "metadata": {},
   "outputs": [],
   "source": [
    "# To fill in rows for the minutes that are not in the files,\n",
    "df = df.groupby('customer_id').resample('1min').fillna('ffill').copy()"
   ]
  },
  {
   "cell_type": "code",
   "execution_count": 42,
   "metadata": {},
   "outputs": [
    {
     "data": {
      "text/html": [
       "<div>\n",
       "<style scoped>\n",
       "    .dataframe tbody tr th:only-of-type {\n",
       "        vertical-align: middle;\n",
       "    }\n",
       "\n",
       "    .dataframe tbody tr th {\n",
       "        vertical-align: top;\n",
       "    }\n",
       "\n",
       "    .dataframe thead th {\n",
       "        text-align: right;\n",
       "    }\n",
       "</style>\n",
       "<table border=\"1\" class=\"dataframe\">\n",
       "  <thead>\n",
       "    <tr style=\"text-align: right;\">\n",
       "      <th></th>\n",
       "      <th></th>\n",
       "      <th>customer_no</th>\n",
       "      <th>location</th>\n",
       "      <th>weekday</th>\n",
       "      <th>weekday_num</th>\n",
       "      <th>customer_id</th>\n",
       "    </tr>\n",
       "    <tr>\n",
       "      <th>customer_id</th>\n",
       "      <th>timestamp</th>\n",
       "      <th></th>\n",
       "      <th></th>\n",
       "      <th></th>\n",
       "      <th></th>\n",
       "      <th></th>\n",
       "    </tr>\n",
       "  </thead>\n",
       "  <tbody>\n",
       "    <tr>\n",
       "      <th rowspan=\"4\" valign=\"top\">0_1</th>\n",
       "      <th>2019-09-02 07:02:00</th>\n",
       "      <td>1</td>\n",
       "      <td>entrance</td>\n",
       "      <td>Monday</td>\n",
       "      <td>0</td>\n",
       "      <td>0_1</td>\n",
       "    </tr>\n",
       "    <tr>\n",
       "      <th>2019-09-02 07:03:00</th>\n",
       "      <td>1</td>\n",
       "      <td>dairy</td>\n",
       "      <td>Monday</td>\n",
       "      <td>0</td>\n",
       "      <td>0_1</td>\n",
       "    </tr>\n",
       "    <tr>\n",
       "      <th>2019-09-02 07:04:00</th>\n",
       "      <td>1</td>\n",
       "      <td>dairy</td>\n",
       "      <td>Monday</td>\n",
       "      <td>0</td>\n",
       "      <td>0_1</td>\n",
       "    </tr>\n",
       "    <tr>\n",
       "      <th>2019-09-02 07:05:00</th>\n",
       "      <td>1</td>\n",
       "      <td>checkout</td>\n",
       "      <td>Monday</td>\n",
       "      <td>0</td>\n",
       "      <td>0_1</td>\n",
       "    </tr>\n",
       "    <tr>\n",
       "      <th>0_10</th>\n",
       "      <th>2019-09-02 07:05:00</th>\n",
       "      <td>10</td>\n",
       "      <td>entrance</td>\n",
       "      <td>Monday</td>\n",
       "      <td>0</td>\n",
       "      <td>0_10</td>\n",
       "    </tr>\n",
       "    <tr>\n",
       "      <th>...</th>\n",
       "      <th>...</th>\n",
       "      <td>...</td>\n",
       "      <td>...</td>\n",
       "      <td>...</td>\n",
       "      <td>...</td>\n",
       "      <td>...</td>\n",
       "    </tr>\n",
       "    <tr>\n",
       "      <th rowspan=\"5\" valign=\"top\">4_999</th>\n",
       "      <th>2019-09-06 17:23:00</th>\n",
       "      <td>999</td>\n",
       "      <td>fruit</td>\n",
       "      <td>Friday</td>\n",
       "      <td>4</td>\n",
       "      <td>4_999</td>\n",
       "    </tr>\n",
       "    <tr>\n",
       "      <th>2019-09-06 17:24:00</th>\n",
       "      <td>999</td>\n",
       "      <td>drinks</td>\n",
       "      <td>Friday</td>\n",
       "      <td>4</td>\n",
       "      <td>4_999</td>\n",
       "    </tr>\n",
       "    <tr>\n",
       "      <th>2019-09-06 17:25:00</th>\n",
       "      <td>999</td>\n",
       "      <td>fruit</td>\n",
       "      <td>Friday</td>\n",
       "      <td>4</td>\n",
       "      <td>4_999</td>\n",
       "    </tr>\n",
       "    <tr>\n",
       "      <th>2019-09-06 17:26:00</th>\n",
       "      <td>999</td>\n",
       "      <td>fruit</td>\n",
       "      <td>Friday</td>\n",
       "      <td>4</td>\n",
       "      <td>4_999</td>\n",
       "    </tr>\n",
       "    <tr>\n",
       "      <th>2019-09-06 17:27:00</th>\n",
       "      <td>999</td>\n",
       "      <td>checkout</td>\n",
       "      <td>Friday</td>\n",
       "      <td>4</td>\n",
       "      <td>4_999</td>\n",
       "    </tr>\n",
       "  </tbody>\n",
       "</table>\n",
       "<p>61162 rows × 5 columns</p>\n",
       "</div>"
      ],
      "text/plain": [
       "                                 customer_no  location weekday  weekday_num  \\\n",
       "customer_id timestamp                                                         \n",
       "0_1         2019-09-02 07:02:00            1  entrance  Monday            0   \n",
       "            2019-09-02 07:03:00            1     dairy  Monday            0   \n",
       "            2019-09-02 07:04:00            1     dairy  Monday            0   \n",
       "            2019-09-02 07:05:00            1  checkout  Monday            0   \n",
       "0_10        2019-09-02 07:05:00           10  entrance  Monday            0   \n",
       "...                                      ...       ...     ...          ...   \n",
       "4_999       2019-09-06 17:23:00          999     fruit  Friday            4   \n",
       "            2019-09-06 17:24:00          999    drinks  Friday            4   \n",
       "            2019-09-06 17:25:00          999     fruit  Friday            4   \n",
       "            2019-09-06 17:26:00          999     fruit  Friday            4   \n",
       "            2019-09-06 17:27:00          999  checkout  Friday            4   \n",
       "\n",
       "                                customer_id  \n",
       "customer_id timestamp                        \n",
       "0_1         2019-09-02 07:02:00         0_1  \n",
       "            2019-09-02 07:03:00         0_1  \n",
       "            2019-09-02 07:04:00         0_1  \n",
       "            2019-09-02 07:05:00         0_1  \n",
       "0_10        2019-09-02 07:05:00        0_10  \n",
       "...                                     ...  \n",
       "4_999       2019-09-06 17:23:00       4_999  \n",
       "            2019-09-06 17:24:00       4_999  \n",
       "            2019-09-06 17:25:00       4_999  \n",
       "            2019-09-06 17:26:00       4_999  \n",
       "            2019-09-06 17:27:00       4_999  \n",
       "\n",
       "[61162 rows x 5 columns]"
      ]
     },
     "execution_count": 42,
     "metadata": {},
     "output_type": "execute_result"
    }
   ],
   "source": [
    "df"
   ]
  },
  {
   "cell_type": "code",
   "execution_count": 43,
   "metadata": {},
   "outputs": [],
   "source": [
    "df.drop(columns='customer_id', inplace=True)"
   ]
  },
  {
   "cell_type": "code",
   "execution_count": 44,
   "metadata": {},
   "outputs": [],
   "source": [
    "df.reset_index(inplace=True)"
   ]
  },
  {
   "cell_type": "code",
   "execution_count": 45,
   "metadata": {},
   "outputs": [],
   "source": [
    "df.set_index('timestamp', inplace=True)"
   ]
  },
  {
   "cell_type": "code",
   "execution_count": 46,
   "metadata": {},
   "outputs": [
    {
     "data": {
      "text/html": [
       "<div>\n",
       "<style scoped>\n",
       "    .dataframe tbody tr th:only-of-type {\n",
       "        vertical-align: middle;\n",
       "    }\n",
       "\n",
       "    .dataframe tbody tr th {\n",
       "        vertical-align: top;\n",
       "    }\n",
       "\n",
       "    .dataframe thead th {\n",
       "        text-align: right;\n",
       "    }\n",
       "</style>\n",
       "<table border=\"1\" class=\"dataframe\">\n",
       "  <thead>\n",
       "    <tr style=\"text-align: right;\">\n",
       "      <th></th>\n",
       "      <th>customer_id</th>\n",
       "      <th>customer_no</th>\n",
       "      <th>location</th>\n",
       "      <th>weekday</th>\n",
       "      <th>weekday_num</th>\n",
       "    </tr>\n",
       "    <tr>\n",
       "      <th>timestamp</th>\n",
       "      <th></th>\n",
       "      <th></th>\n",
       "      <th></th>\n",
       "      <th></th>\n",
       "      <th></th>\n",
       "    </tr>\n",
       "  </thead>\n",
       "  <tbody>\n",
       "    <tr>\n",
       "      <th>2019-09-02 07:02:00</th>\n",
       "      <td>0_1</td>\n",
       "      <td>1</td>\n",
       "      <td>entrance</td>\n",
       "      <td>Monday</td>\n",
       "      <td>0</td>\n",
       "    </tr>\n",
       "    <tr>\n",
       "      <th>2019-09-02 07:03:00</th>\n",
       "      <td>0_1</td>\n",
       "      <td>1</td>\n",
       "      <td>dairy</td>\n",
       "      <td>Monday</td>\n",
       "      <td>0</td>\n",
       "    </tr>\n",
       "    <tr>\n",
       "      <th>2019-09-02 07:04:00</th>\n",
       "      <td>0_1</td>\n",
       "      <td>1</td>\n",
       "      <td>dairy</td>\n",
       "      <td>Monday</td>\n",
       "      <td>0</td>\n",
       "    </tr>\n",
       "  </tbody>\n",
       "</table>\n",
       "</div>"
      ],
      "text/plain": [
       "                    customer_id  customer_no  location weekday  weekday_num\n",
       "timestamp                                                                  \n",
       "2019-09-02 07:02:00         0_1            1  entrance  Monday            0\n",
       "2019-09-02 07:03:00         0_1            1     dairy  Monday            0\n",
       "2019-09-02 07:04:00         0_1            1     dairy  Monday            0"
      ]
     },
     "execution_count": 46,
     "metadata": {},
     "output_type": "execute_result"
    }
   ],
   "source": [
    "df.head(3)"
   ]
  },
  {
   "cell_type": "code",
   "execution_count": 47,
   "metadata": {},
   "outputs": [
    {
     "data": {
      "text/html": [
       "<div>\n",
       "<style scoped>\n",
       "    .dataframe tbody tr th:only-of-type {\n",
       "        vertical-align: middle;\n",
       "    }\n",
       "\n",
       "    .dataframe tbody tr th {\n",
       "        vertical-align: top;\n",
       "    }\n",
       "\n",
       "    .dataframe thead th {\n",
       "        text-align: right;\n",
       "    }\n",
       "</style>\n",
       "<table border=\"1\" class=\"dataframe\">\n",
       "  <thead>\n",
       "    <tr style=\"text-align: right;\">\n",
       "      <th></th>\n",
       "      <th>customer_id</th>\n",
       "      <th>customer_no</th>\n",
       "      <th>location</th>\n",
       "      <th>weekday</th>\n",
       "      <th>weekday_num</th>\n",
       "      <th>before</th>\n",
       "      <th>after</th>\n",
       "    </tr>\n",
       "    <tr>\n",
       "      <th>timestamp</th>\n",
       "      <th></th>\n",
       "      <th></th>\n",
       "      <th></th>\n",
       "      <th></th>\n",
       "      <th></th>\n",
       "      <th></th>\n",
       "      <th></th>\n",
       "    </tr>\n",
       "  </thead>\n",
       "  <tbody>\n",
       "    <tr>\n",
       "      <th>2019-09-06 17:30:00</th>\n",
       "      <td>4_997</td>\n",
       "      <td>997</td>\n",
       "      <td>drinks</td>\n",
       "      <td>Friday</td>\n",
       "      <td>4</td>\n",
       "      <td>drinks</td>\n",
       "      <td>checkout</td>\n",
       "    </tr>\n",
       "    <tr>\n",
       "      <th>2019-09-06 17:31:00</th>\n",
       "      <td>4_997</td>\n",
       "      <td>997</td>\n",
       "      <td>checkout</td>\n",
       "      <td>Friday</td>\n",
       "      <td>4</td>\n",
       "      <td>checkout</td>\n",
       "      <td>entrance</td>\n",
       "    </tr>\n",
       "    <tr>\n",
       "      <th>2019-09-06 17:17:00</th>\n",
       "      <td>4_998</td>\n",
       "      <td>998</td>\n",
       "      <td>entrance</td>\n",
       "      <td>Friday</td>\n",
       "      <td>4</td>\n",
       "      <td>entrance</td>\n",
       "      <td>drinks</td>\n",
       "    </tr>\n",
       "    <tr>\n",
       "      <th>2019-09-06 17:18:00</th>\n",
       "      <td>4_998</td>\n",
       "      <td>998</td>\n",
       "      <td>drinks</td>\n",
       "      <td>Friday</td>\n",
       "      <td>4</td>\n",
       "      <td>drinks</td>\n",
       "      <td>fruit</td>\n",
       "    </tr>\n",
       "    <tr>\n",
       "      <th>2019-09-06 17:19:00</th>\n",
       "      <td>4_998</td>\n",
       "      <td>998</td>\n",
       "      <td>fruit</td>\n",
       "      <td>Friday</td>\n",
       "      <td>4</td>\n",
       "      <td>fruit</td>\n",
       "      <td>drinks</td>\n",
       "    </tr>\n",
       "    <tr>\n",
       "      <th>2019-09-06 17:20:00</th>\n",
       "      <td>4_998</td>\n",
       "      <td>998</td>\n",
       "      <td>drinks</td>\n",
       "      <td>Friday</td>\n",
       "      <td>4</td>\n",
       "      <td>drinks</td>\n",
       "      <td>drinks</td>\n",
       "    </tr>\n",
       "    <tr>\n",
       "      <th>2019-09-06 17:21:00</th>\n",
       "      <td>4_998</td>\n",
       "      <td>998</td>\n",
       "      <td>drinks</td>\n",
       "      <td>Friday</td>\n",
       "      <td>4</td>\n",
       "      <td>drinks</td>\n",
       "      <td>drinks</td>\n",
       "    </tr>\n",
       "    <tr>\n",
       "      <th>2019-09-06 17:22:00</th>\n",
       "      <td>4_998</td>\n",
       "      <td>998</td>\n",
       "      <td>drinks</td>\n",
       "      <td>Friday</td>\n",
       "      <td>4</td>\n",
       "      <td>drinks</td>\n",
       "      <td>checkout</td>\n",
       "    </tr>\n",
       "    <tr>\n",
       "      <th>2019-09-06 17:23:00</th>\n",
       "      <td>4_998</td>\n",
       "      <td>998</td>\n",
       "      <td>checkout</td>\n",
       "      <td>Friday</td>\n",
       "      <td>4</td>\n",
       "      <td>checkout</td>\n",
       "      <td>entrance</td>\n",
       "    </tr>\n",
       "    <tr>\n",
       "      <th>2019-09-06 17:17:00</th>\n",
       "      <td>4_999</td>\n",
       "      <td>999</td>\n",
       "      <td>entrance</td>\n",
       "      <td>Friday</td>\n",
       "      <td>4</td>\n",
       "      <td>entrance</td>\n",
       "      <td>fruit</td>\n",
       "    </tr>\n",
       "    <tr>\n",
       "      <th>2019-09-06 17:18:00</th>\n",
       "      <td>4_999</td>\n",
       "      <td>999</td>\n",
       "      <td>fruit</td>\n",
       "      <td>Friday</td>\n",
       "      <td>4</td>\n",
       "      <td>fruit</td>\n",
       "      <td>fruit</td>\n",
       "    </tr>\n",
       "    <tr>\n",
       "      <th>2019-09-06 17:19:00</th>\n",
       "      <td>4_999</td>\n",
       "      <td>999</td>\n",
       "      <td>fruit</td>\n",
       "      <td>Friday</td>\n",
       "      <td>4</td>\n",
       "      <td>fruit</td>\n",
       "      <td>drinks</td>\n",
       "    </tr>\n",
       "    <tr>\n",
       "      <th>2019-09-06 17:20:00</th>\n",
       "      <td>4_999</td>\n",
       "      <td>999</td>\n",
       "      <td>drinks</td>\n",
       "      <td>Friday</td>\n",
       "      <td>4</td>\n",
       "      <td>drinks</td>\n",
       "      <td>fruit</td>\n",
       "    </tr>\n",
       "    <tr>\n",
       "      <th>2019-09-06 17:21:00</th>\n",
       "      <td>4_999</td>\n",
       "      <td>999</td>\n",
       "      <td>fruit</td>\n",
       "      <td>Friday</td>\n",
       "      <td>4</td>\n",
       "      <td>fruit</td>\n",
       "      <td>fruit</td>\n",
       "    </tr>\n",
       "    <tr>\n",
       "      <th>2019-09-06 17:22:00</th>\n",
       "      <td>4_999</td>\n",
       "      <td>999</td>\n",
       "      <td>fruit</td>\n",
       "      <td>Friday</td>\n",
       "      <td>4</td>\n",
       "      <td>fruit</td>\n",
       "      <td>fruit</td>\n",
       "    </tr>\n",
       "    <tr>\n",
       "      <th>2019-09-06 17:23:00</th>\n",
       "      <td>4_999</td>\n",
       "      <td>999</td>\n",
       "      <td>fruit</td>\n",
       "      <td>Friday</td>\n",
       "      <td>4</td>\n",
       "      <td>fruit</td>\n",
       "      <td>drinks</td>\n",
       "    </tr>\n",
       "    <tr>\n",
       "      <th>2019-09-06 17:24:00</th>\n",
       "      <td>4_999</td>\n",
       "      <td>999</td>\n",
       "      <td>drinks</td>\n",
       "      <td>Friday</td>\n",
       "      <td>4</td>\n",
       "      <td>drinks</td>\n",
       "      <td>fruit</td>\n",
       "    </tr>\n",
       "    <tr>\n",
       "      <th>2019-09-06 17:25:00</th>\n",
       "      <td>4_999</td>\n",
       "      <td>999</td>\n",
       "      <td>fruit</td>\n",
       "      <td>Friday</td>\n",
       "      <td>4</td>\n",
       "      <td>fruit</td>\n",
       "      <td>fruit</td>\n",
       "    </tr>\n",
       "    <tr>\n",
       "      <th>2019-09-06 17:26:00</th>\n",
       "      <td>4_999</td>\n",
       "      <td>999</td>\n",
       "      <td>fruit</td>\n",
       "      <td>Friday</td>\n",
       "      <td>4</td>\n",
       "      <td>fruit</td>\n",
       "      <td>checkout</td>\n",
       "    </tr>\n",
       "    <tr>\n",
       "      <th>2019-09-06 17:27:00</th>\n",
       "      <td>4_999</td>\n",
       "      <td>999</td>\n",
       "      <td>checkout</td>\n",
       "      <td>Friday</td>\n",
       "      <td>4</td>\n",
       "      <td>checkout</td>\n",
       "      <td>NaN</td>\n",
       "    </tr>\n",
       "  </tbody>\n",
       "</table>\n",
       "</div>"
      ],
      "text/plain": [
       "                    customer_id  customer_no  location weekday  weekday_num  \\\n",
       "timestamp                                                                     \n",
       "2019-09-06 17:30:00       4_997          997    drinks  Friday            4   \n",
       "2019-09-06 17:31:00       4_997          997  checkout  Friday            4   \n",
       "2019-09-06 17:17:00       4_998          998  entrance  Friday            4   \n",
       "2019-09-06 17:18:00       4_998          998    drinks  Friday            4   \n",
       "2019-09-06 17:19:00       4_998          998     fruit  Friday            4   \n",
       "2019-09-06 17:20:00       4_998          998    drinks  Friday            4   \n",
       "2019-09-06 17:21:00       4_998          998    drinks  Friday            4   \n",
       "2019-09-06 17:22:00       4_998          998    drinks  Friday            4   \n",
       "2019-09-06 17:23:00       4_998          998  checkout  Friday            4   \n",
       "2019-09-06 17:17:00       4_999          999  entrance  Friday            4   \n",
       "2019-09-06 17:18:00       4_999          999     fruit  Friday            4   \n",
       "2019-09-06 17:19:00       4_999          999     fruit  Friday            4   \n",
       "2019-09-06 17:20:00       4_999          999    drinks  Friday            4   \n",
       "2019-09-06 17:21:00       4_999          999     fruit  Friday            4   \n",
       "2019-09-06 17:22:00       4_999          999     fruit  Friday            4   \n",
       "2019-09-06 17:23:00       4_999          999     fruit  Friday            4   \n",
       "2019-09-06 17:24:00       4_999          999    drinks  Friday            4   \n",
       "2019-09-06 17:25:00       4_999          999     fruit  Friday            4   \n",
       "2019-09-06 17:26:00       4_999          999     fruit  Friday            4   \n",
       "2019-09-06 17:27:00       4_999          999  checkout  Friday            4   \n",
       "\n",
       "                       before     after  \n",
       "timestamp                                \n",
       "2019-09-06 17:30:00    drinks  checkout  \n",
       "2019-09-06 17:31:00  checkout  entrance  \n",
       "2019-09-06 17:17:00  entrance    drinks  \n",
       "2019-09-06 17:18:00    drinks     fruit  \n",
       "2019-09-06 17:19:00     fruit    drinks  \n",
       "2019-09-06 17:20:00    drinks    drinks  \n",
       "2019-09-06 17:21:00    drinks    drinks  \n",
       "2019-09-06 17:22:00    drinks  checkout  \n",
       "2019-09-06 17:23:00  checkout  entrance  \n",
       "2019-09-06 17:17:00  entrance     fruit  \n",
       "2019-09-06 17:18:00     fruit     fruit  \n",
       "2019-09-06 17:19:00     fruit    drinks  \n",
       "2019-09-06 17:20:00    drinks     fruit  \n",
       "2019-09-06 17:21:00     fruit     fruit  \n",
       "2019-09-06 17:22:00     fruit     fruit  \n",
       "2019-09-06 17:23:00     fruit    drinks  \n",
       "2019-09-06 17:24:00    drinks     fruit  \n",
       "2019-09-06 17:25:00     fruit     fruit  \n",
       "2019-09-06 17:26:00     fruit  checkout  \n",
       "2019-09-06 17:27:00  checkout       NaN  "
      ]
     },
     "execution_count": 47,
     "metadata": {},
     "output_type": "execute_result"
    }
   ],
   "source": [
    "# Add a column where customer was 'before' and 'after' (timestep is minutes)\n",
    "df['before'] = df['location']\n",
    "df['after'] = df['before'].shift(-1)\n",
    "df.tail(20)"
   ]
  },
  {
   "cell_type": "code",
   "execution_count": 48,
   "metadata": {},
   "outputs": [],
   "source": [
    "# Change 'after' to 'checkout' if customer had checked out before\n",
    "df.loc[df['before'] == 'checkout', 'after'] = \"checkout\""
   ]
  },
  {
   "cell_type": "code",
   "execution_count": 49,
   "metadata": {},
   "outputs": [
    {
     "data": {
      "text/html": [
       "<div>\n",
       "<style scoped>\n",
       "    .dataframe tbody tr th:only-of-type {\n",
       "        vertical-align: middle;\n",
       "    }\n",
       "\n",
       "    .dataframe tbody tr th {\n",
       "        vertical-align: top;\n",
       "    }\n",
       "\n",
       "    .dataframe thead th {\n",
       "        text-align: right;\n",
       "    }\n",
       "</style>\n",
       "<table border=\"1\" class=\"dataframe\">\n",
       "  <thead>\n",
       "    <tr style=\"text-align: right;\">\n",
       "      <th></th>\n",
       "      <th>customer_id</th>\n",
       "      <th>customer_no</th>\n",
       "      <th>location</th>\n",
       "      <th>weekday</th>\n",
       "      <th>weekday_num</th>\n",
       "      <th>before</th>\n",
       "      <th>after</th>\n",
       "    </tr>\n",
       "    <tr>\n",
       "      <th>timestamp</th>\n",
       "      <th></th>\n",
       "      <th></th>\n",
       "      <th></th>\n",
       "      <th></th>\n",
       "      <th></th>\n",
       "      <th></th>\n",
       "      <th></th>\n",
       "    </tr>\n",
       "  </thead>\n",
       "  <tbody>\n",
       "    <tr>\n",
       "      <th>2019-09-06 17:30:00</th>\n",
       "      <td>4_997</td>\n",
       "      <td>997</td>\n",
       "      <td>drinks</td>\n",
       "      <td>Friday</td>\n",
       "      <td>4</td>\n",
       "      <td>drinks</td>\n",
       "      <td>checkout</td>\n",
       "    </tr>\n",
       "    <tr>\n",
       "      <th>2019-09-06 17:31:00</th>\n",
       "      <td>4_997</td>\n",
       "      <td>997</td>\n",
       "      <td>checkout</td>\n",
       "      <td>Friday</td>\n",
       "      <td>4</td>\n",
       "      <td>checkout</td>\n",
       "      <td>checkout</td>\n",
       "    </tr>\n",
       "    <tr>\n",
       "      <th>2019-09-06 17:17:00</th>\n",
       "      <td>4_998</td>\n",
       "      <td>998</td>\n",
       "      <td>entrance</td>\n",
       "      <td>Friday</td>\n",
       "      <td>4</td>\n",
       "      <td>entrance</td>\n",
       "      <td>drinks</td>\n",
       "    </tr>\n",
       "    <tr>\n",
       "      <th>2019-09-06 17:18:00</th>\n",
       "      <td>4_998</td>\n",
       "      <td>998</td>\n",
       "      <td>drinks</td>\n",
       "      <td>Friday</td>\n",
       "      <td>4</td>\n",
       "      <td>drinks</td>\n",
       "      <td>fruit</td>\n",
       "    </tr>\n",
       "    <tr>\n",
       "      <th>2019-09-06 17:19:00</th>\n",
       "      <td>4_998</td>\n",
       "      <td>998</td>\n",
       "      <td>fruit</td>\n",
       "      <td>Friday</td>\n",
       "      <td>4</td>\n",
       "      <td>fruit</td>\n",
       "      <td>drinks</td>\n",
       "    </tr>\n",
       "    <tr>\n",
       "      <th>2019-09-06 17:20:00</th>\n",
       "      <td>4_998</td>\n",
       "      <td>998</td>\n",
       "      <td>drinks</td>\n",
       "      <td>Friday</td>\n",
       "      <td>4</td>\n",
       "      <td>drinks</td>\n",
       "      <td>drinks</td>\n",
       "    </tr>\n",
       "    <tr>\n",
       "      <th>2019-09-06 17:21:00</th>\n",
       "      <td>4_998</td>\n",
       "      <td>998</td>\n",
       "      <td>drinks</td>\n",
       "      <td>Friday</td>\n",
       "      <td>4</td>\n",
       "      <td>drinks</td>\n",
       "      <td>drinks</td>\n",
       "    </tr>\n",
       "    <tr>\n",
       "      <th>2019-09-06 17:22:00</th>\n",
       "      <td>4_998</td>\n",
       "      <td>998</td>\n",
       "      <td>drinks</td>\n",
       "      <td>Friday</td>\n",
       "      <td>4</td>\n",
       "      <td>drinks</td>\n",
       "      <td>checkout</td>\n",
       "    </tr>\n",
       "    <tr>\n",
       "      <th>2019-09-06 17:23:00</th>\n",
       "      <td>4_998</td>\n",
       "      <td>998</td>\n",
       "      <td>checkout</td>\n",
       "      <td>Friday</td>\n",
       "      <td>4</td>\n",
       "      <td>checkout</td>\n",
       "      <td>checkout</td>\n",
       "    </tr>\n",
       "    <tr>\n",
       "      <th>2019-09-06 17:17:00</th>\n",
       "      <td>4_999</td>\n",
       "      <td>999</td>\n",
       "      <td>entrance</td>\n",
       "      <td>Friday</td>\n",
       "      <td>4</td>\n",
       "      <td>entrance</td>\n",
       "      <td>fruit</td>\n",
       "    </tr>\n",
       "    <tr>\n",
       "      <th>2019-09-06 17:18:00</th>\n",
       "      <td>4_999</td>\n",
       "      <td>999</td>\n",
       "      <td>fruit</td>\n",
       "      <td>Friday</td>\n",
       "      <td>4</td>\n",
       "      <td>fruit</td>\n",
       "      <td>fruit</td>\n",
       "    </tr>\n",
       "    <tr>\n",
       "      <th>2019-09-06 17:19:00</th>\n",
       "      <td>4_999</td>\n",
       "      <td>999</td>\n",
       "      <td>fruit</td>\n",
       "      <td>Friday</td>\n",
       "      <td>4</td>\n",
       "      <td>fruit</td>\n",
       "      <td>drinks</td>\n",
       "    </tr>\n",
       "    <tr>\n",
       "      <th>2019-09-06 17:20:00</th>\n",
       "      <td>4_999</td>\n",
       "      <td>999</td>\n",
       "      <td>drinks</td>\n",
       "      <td>Friday</td>\n",
       "      <td>4</td>\n",
       "      <td>drinks</td>\n",
       "      <td>fruit</td>\n",
       "    </tr>\n",
       "    <tr>\n",
       "      <th>2019-09-06 17:21:00</th>\n",
       "      <td>4_999</td>\n",
       "      <td>999</td>\n",
       "      <td>fruit</td>\n",
       "      <td>Friday</td>\n",
       "      <td>4</td>\n",
       "      <td>fruit</td>\n",
       "      <td>fruit</td>\n",
       "    </tr>\n",
       "    <tr>\n",
       "      <th>2019-09-06 17:22:00</th>\n",
       "      <td>4_999</td>\n",
       "      <td>999</td>\n",
       "      <td>fruit</td>\n",
       "      <td>Friday</td>\n",
       "      <td>4</td>\n",
       "      <td>fruit</td>\n",
       "      <td>fruit</td>\n",
       "    </tr>\n",
       "    <tr>\n",
       "      <th>2019-09-06 17:23:00</th>\n",
       "      <td>4_999</td>\n",
       "      <td>999</td>\n",
       "      <td>fruit</td>\n",
       "      <td>Friday</td>\n",
       "      <td>4</td>\n",
       "      <td>fruit</td>\n",
       "      <td>drinks</td>\n",
       "    </tr>\n",
       "    <tr>\n",
       "      <th>2019-09-06 17:24:00</th>\n",
       "      <td>4_999</td>\n",
       "      <td>999</td>\n",
       "      <td>drinks</td>\n",
       "      <td>Friday</td>\n",
       "      <td>4</td>\n",
       "      <td>drinks</td>\n",
       "      <td>fruit</td>\n",
       "    </tr>\n",
       "    <tr>\n",
       "      <th>2019-09-06 17:25:00</th>\n",
       "      <td>4_999</td>\n",
       "      <td>999</td>\n",
       "      <td>fruit</td>\n",
       "      <td>Friday</td>\n",
       "      <td>4</td>\n",
       "      <td>fruit</td>\n",
       "      <td>fruit</td>\n",
       "    </tr>\n",
       "    <tr>\n",
       "      <th>2019-09-06 17:26:00</th>\n",
       "      <td>4_999</td>\n",
       "      <td>999</td>\n",
       "      <td>fruit</td>\n",
       "      <td>Friday</td>\n",
       "      <td>4</td>\n",
       "      <td>fruit</td>\n",
       "      <td>checkout</td>\n",
       "    </tr>\n",
       "    <tr>\n",
       "      <th>2019-09-06 17:27:00</th>\n",
       "      <td>4_999</td>\n",
       "      <td>999</td>\n",
       "      <td>checkout</td>\n",
       "      <td>Friday</td>\n",
       "      <td>4</td>\n",
       "      <td>checkout</td>\n",
       "      <td>checkout</td>\n",
       "    </tr>\n",
       "  </tbody>\n",
       "</table>\n",
       "</div>"
      ],
      "text/plain": [
       "                    customer_id  customer_no  location weekday  weekday_num  \\\n",
       "timestamp                                                                     \n",
       "2019-09-06 17:30:00       4_997          997    drinks  Friday            4   \n",
       "2019-09-06 17:31:00       4_997          997  checkout  Friday            4   \n",
       "2019-09-06 17:17:00       4_998          998  entrance  Friday            4   \n",
       "2019-09-06 17:18:00       4_998          998    drinks  Friday            4   \n",
       "2019-09-06 17:19:00       4_998          998     fruit  Friday            4   \n",
       "2019-09-06 17:20:00       4_998          998    drinks  Friday            4   \n",
       "2019-09-06 17:21:00       4_998          998    drinks  Friday            4   \n",
       "2019-09-06 17:22:00       4_998          998    drinks  Friday            4   \n",
       "2019-09-06 17:23:00       4_998          998  checkout  Friday            4   \n",
       "2019-09-06 17:17:00       4_999          999  entrance  Friday            4   \n",
       "2019-09-06 17:18:00       4_999          999     fruit  Friday            4   \n",
       "2019-09-06 17:19:00       4_999          999     fruit  Friday            4   \n",
       "2019-09-06 17:20:00       4_999          999    drinks  Friday            4   \n",
       "2019-09-06 17:21:00       4_999          999     fruit  Friday            4   \n",
       "2019-09-06 17:22:00       4_999          999     fruit  Friday            4   \n",
       "2019-09-06 17:23:00       4_999          999     fruit  Friday            4   \n",
       "2019-09-06 17:24:00       4_999          999    drinks  Friday            4   \n",
       "2019-09-06 17:25:00       4_999          999     fruit  Friday            4   \n",
       "2019-09-06 17:26:00       4_999          999     fruit  Friday            4   \n",
       "2019-09-06 17:27:00       4_999          999  checkout  Friday            4   \n",
       "\n",
       "                       before     after  \n",
       "timestamp                                \n",
       "2019-09-06 17:30:00    drinks  checkout  \n",
       "2019-09-06 17:31:00  checkout  checkout  \n",
       "2019-09-06 17:17:00  entrance    drinks  \n",
       "2019-09-06 17:18:00    drinks     fruit  \n",
       "2019-09-06 17:19:00     fruit    drinks  \n",
       "2019-09-06 17:20:00    drinks    drinks  \n",
       "2019-09-06 17:21:00    drinks    drinks  \n",
       "2019-09-06 17:22:00    drinks  checkout  \n",
       "2019-09-06 17:23:00  checkout  checkout  \n",
       "2019-09-06 17:17:00  entrance     fruit  \n",
       "2019-09-06 17:18:00     fruit     fruit  \n",
       "2019-09-06 17:19:00     fruit    drinks  \n",
       "2019-09-06 17:20:00    drinks     fruit  \n",
       "2019-09-06 17:21:00     fruit     fruit  \n",
       "2019-09-06 17:22:00     fruit     fruit  \n",
       "2019-09-06 17:23:00     fruit    drinks  \n",
       "2019-09-06 17:24:00    drinks     fruit  \n",
       "2019-09-06 17:25:00     fruit     fruit  \n",
       "2019-09-06 17:26:00     fruit  checkout  \n",
       "2019-09-06 17:27:00  checkout  checkout  "
      ]
     },
     "execution_count": 49,
     "metadata": {},
     "output_type": "execute_result"
    }
   ],
   "source": [
    "df.tail(20)"
   ]
  },
  {
   "cell_type": "code",
   "execution_count": 50,
   "metadata": {},
   "outputs": [
    {
     "data": {
      "text/plain": [
       "(61162, 7)"
      ]
     },
     "execution_count": 50,
     "metadata": {},
     "output_type": "execute_result"
    }
   ],
   "source": [
    "df.shape"
   ]
  },
  {
   "cell_type": "code",
   "execution_count": 51,
   "metadata": {},
   "outputs": [
    {
     "data": {
      "text/html": [
       "<div>\n",
       "<style scoped>\n",
       "    .dataframe tbody tr th:only-of-type {\n",
       "        vertical-align: middle;\n",
       "    }\n",
       "\n",
       "    .dataframe tbody tr th {\n",
       "        vertical-align: top;\n",
       "    }\n",
       "\n",
       "    .dataframe thead th {\n",
       "        text-align: right;\n",
       "    }\n",
       "</style>\n",
       "<table border=\"1\" class=\"dataframe\">\n",
       "  <thead>\n",
       "    <tr style=\"text-align: right;\">\n",
       "      <th></th>\n",
       "      <th>customer_id</th>\n",
       "      <th>customer_no</th>\n",
       "      <th>location</th>\n",
       "      <th>weekday</th>\n",
       "      <th>weekday_num</th>\n",
       "      <th>before</th>\n",
       "      <th>after</th>\n",
       "    </tr>\n",
       "    <tr>\n",
       "      <th>timestamp</th>\n",
       "      <th></th>\n",
       "      <th></th>\n",
       "      <th></th>\n",
       "      <th></th>\n",
       "      <th></th>\n",
       "      <th></th>\n",
       "      <th></th>\n",
       "    </tr>\n",
       "  </thead>\n",
       "  <tbody>\n",
       "    <tr>\n",
       "      <th>2019-09-02 07:02:00</th>\n",
       "      <td>0_1</td>\n",
       "      <td>1</td>\n",
       "      <td>entrance</td>\n",
       "      <td>Monday</td>\n",
       "      <td>0</td>\n",
       "      <td>entrance</td>\n",
       "      <td>dairy</td>\n",
       "    </tr>\n",
       "    <tr>\n",
       "      <th>2019-09-02 07:03:00</th>\n",
       "      <td>0_1</td>\n",
       "      <td>1</td>\n",
       "      <td>dairy</td>\n",
       "      <td>Monday</td>\n",
       "      <td>0</td>\n",
       "      <td>dairy</td>\n",
       "      <td>dairy</td>\n",
       "    </tr>\n",
       "    <tr>\n",
       "      <th>2019-09-02 07:04:00</th>\n",
       "      <td>0_1</td>\n",
       "      <td>1</td>\n",
       "      <td>dairy</td>\n",
       "      <td>Monday</td>\n",
       "      <td>0</td>\n",
       "      <td>dairy</td>\n",
       "      <td>checkout</td>\n",
       "    </tr>\n",
       "    <tr>\n",
       "      <th>2019-09-02 07:05:00</th>\n",
       "      <td>0_1</td>\n",
       "      <td>1</td>\n",
       "      <td>checkout</td>\n",
       "      <td>Monday</td>\n",
       "      <td>0</td>\n",
       "      <td>checkout</td>\n",
       "      <td>checkout</td>\n",
       "    </tr>\n",
       "    <tr>\n",
       "      <th>2019-09-02 07:05:00</th>\n",
       "      <td>0_10</td>\n",
       "      <td>10</td>\n",
       "      <td>entrance</td>\n",
       "      <td>Monday</td>\n",
       "      <td>0</td>\n",
       "      <td>entrance</td>\n",
       "      <td>fruit</td>\n",
       "    </tr>\n",
       "    <tr>\n",
       "      <th>...</th>\n",
       "      <td>...</td>\n",
       "      <td>...</td>\n",
       "      <td>...</td>\n",
       "      <td>...</td>\n",
       "      <td>...</td>\n",
       "      <td>...</td>\n",
       "      <td>...</td>\n",
       "    </tr>\n",
       "    <tr>\n",
       "      <th>2019-09-06 17:23:00</th>\n",
       "      <td>4_999</td>\n",
       "      <td>999</td>\n",
       "      <td>fruit</td>\n",
       "      <td>Friday</td>\n",
       "      <td>4</td>\n",
       "      <td>fruit</td>\n",
       "      <td>drinks</td>\n",
       "    </tr>\n",
       "    <tr>\n",
       "      <th>2019-09-06 17:24:00</th>\n",
       "      <td>4_999</td>\n",
       "      <td>999</td>\n",
       "      <td>drinks</td>\n",
       "      <td>Friday</td>\n",
       "      <td>4</td>\n",
       "      <td>drinks</td>\n",
       "      <td>fruit</td>\n",
       "    </tr>\n",
       "    <tr>\n",
       "      <th>2019-09-06 17:25:00</th>\n",
       "      <td>4_999</td>\n",
       "      <td>999</td>\n",
       "      <td>fruit</td>\n",
       "      <td>Friday</td>\n",
       "      <td>4</td>\n",
       "      <td>fruit</td>\n",
       "      <td>fruit</td>\n",
       "    </tr>\n",
       "    <tr>\n",
       "      <th>2019-09-06 17:26:00</th>\n",
       "      <td>4_999</td>\n",
       "      <td>999</td>\n",
       "      <td>fruit</td>\n",
       "      <td>Friday</td>\n",
       "      <td>4</td>\n",
       "      <td>fruit</td>\n",
       "      <td>checkout</td>\n",
       "    </tr>\n",
       "    <tr>\n",
       "      <th>2019-09-06 17:27:00</th>\n",
       "      <td>4_999</td>\n",
       "      <td>999</td>\n",
       "      <td>checkout</td>\n",
       "      <td>Friday</td>\n",
       "      <td>4</td>\n",
       "      <td>checkout</td>\n",
       "      <td>checkout</td>\n",
       "    </tr>\n",
       "  </tbody>\n",
       "</table>\n",
       "<p>61162 rows × 7 columns</p>\n",
       "</div>"
      ],
      "text/plain": [
       "                    customer_id  customer_no  location weekday  weekday_num  \\\n",
       "timestamp                                                                     \n",
       "2019-09-02 07:02:00         0_1            1  entrance  Monday            0   \n",
       "2019-09-02 07:03:00         0_1            1     dairy  Monday            0   \n",
       "2019-09-02 07:04:00         0_1            1     dairy  Monday            0   \n",
       "2019-09-02 07:05:00         0_1            1  checkout  Monday            0   \n",
       "2019-09-02 07:05:00        0_10           10  entrance  Monday            0   \n",
       "...                         ...          ...       ...     ...          ...   \n",
       "2019-09-06 17:23:00       4_999          999     fruit  Friday            4   \n",
       "2019-09-06 17:24:00       4_999          999    drinks  Friday            4   \n",
       "2019-09-06 17:25:00       4_999          999     fruit  Friday            4   \n",
       "2019-09-06 17:26:00       4_999          999     fruit  Friday            4   \n",
       "2019-09-06 17:27:00       4_999          999  checkout  Friday            4   \n",
       "\n",
       "                       before     after  \n",
       "timestamp                                \n",
       "2019-09-02 07:02:00  entrance     dairy  \n",
       "2019-09-02 07:03:00     dairy     dairy  \n",
       "2019-09-02 07:04:00     dairy  checkout  \n",
       "2019-09-02 07:05:00  checkout  checkout  \n",
       "2019-09-02 07:05:00  entrance     fruit  \n",
       "...                       ...       ...  \n",
       "2019-09-06 17:23:00     fruit    drinks  \n",
       "2019-09-06 17:24:00    drinks     fruit  \n",
       "2019-09-06 17:25:00     fruit     fruit  \n",
       "2019-09-06 17:26:00     fruit  checkout  \n",
       "2019-09-06 17:27:00  checkout  checkout  \n",
       "\n",
       "[61162 rows x 7 columns]"
      ]
     },
     "execution_count": 51,
     "metadata": {},
     "output_type": "execute_result"
    }
   ],
   "source": [
    "df"
   ]
  },
  {
   "cell_type": "code",
   "execution_count": 52,
   "metadata": {},
   "outputs": [],
   "source": [
    "transition_matrix = pd.crosstab(df['after'], df['before'], normalize=1)"
   ]
  },
  {
   "cell_type": "code",
   "execution_count": 53,
   "metadata": {},
   "outputs": [
    {
     "data": {
      "text/html": [
       "<div>\n",
       "<style scoped>\n",
       "    .dataframe tbody tr th:only-of-type {\n",
       "        vertical-align: middle;\n",
       "    }\n",
       "\n",
       "    .dataframe tbody tr th {\n",
       "        vertical-align: top;\n",
       "    }\n",
       "\n",
       "    .dataframe thead th {\n",
       "        text-align: right;\n",
       "    }\n",
       "</style>\n",
       "<table border=\"1\" class=\"dataframe\">\n",
       "  <thead>\n",
       "    <tr style=\"text-align: right;\">\n",
       "      <th>before</th>\n",
       "      <th>checkout</th>\n",
       "      <th>dairy</th>\n",
       "      <th>drinks</th>\n",
       "      <th>entrance</th>\n",
       "      <th>fruit</th>\n",
       "      <th>spices</th>\n",
       "    </tr>\n",
       "    <tr>\n",
       "      <th>after</th>\n",
       "      <th></th>\n",
       "      <th></th>\n",
       "      <th></th>\n",
       "      <th></th>\n",
       "      <th></th>\n",
       "      <th></th>\n",
       "    </tr>\n",
       "  </thead>\n",
       "  <tbody>\n",
       "    <tr>\n",
       "      <th>checkout</th>\n",
       "      <td>1.0</td>\n",
       "      <td>0.102968</td>\n",
       "      <td>0.216372</td>\n",
       "      <td>0.000000</td>\n",
       "      <td>0.201769</td>\n",
       "      <td>0.150464</td>\n",
       "    </tr>\n",
       "    <tr>\n",
       "      <th>dairy</th>\n",
       "      <td>0.0</td>\n",
       "      <td>0.737587</td>\n",
       "      <td>0.010943</td>\n",
       "      <td>0.286639</td>\n",
       "      <td>0.095475</td>\n",
       "      <td>0.193476</td>\n",
       "    </tr>\n",
       "    <tr>\n",
       "      <th>drinks</th>\n",
       "      <td>0.0</td>\n",
       "      <td>0.058339</td>\n",
       "      <td>0.598534</td>\n",
       "      <td>0.153566</td>\n",
       "      <td>0.054963</td>\n",
       "      <td>0.163096</td>\n",
       "    </tr>\n",
       "    <tr>\n",
       "      <th>fruit</th>\n",
       "      <td>0.0</td>\n",
       "      <td>0.049819</td>\n",
       "      <td>0.087437</td>\n",
       "      <td>0.378050</td>\n",
       "      <td>0.597094</td>\n",
       "      <td>0.090822</td>\n",
       "    </tr>\n",
       "    <tr>\n",
       "      <th>spices</th>\n",
       "      <td>0.0</td>\n",
       "      <td>0.051286</td>\n",
       "      <td>0.086714</td>\n",
       "      <td>0.181745</td>\n",
       "      <td>0.050699</td>\n",
       "      <td>0.402143</td>\n",
       "    </tr>\n",
       "  </tbody>\n",
       "</table>\n",
       "</div>"
      ],
      "text/plain": [
       "before    checkout     dairy    drinks  entrance     fruit    spices\n",
       "after                                                               \n",
       "checkout       1.0  0.102968  0.216372  0.000000  0.201769  0.150464\n",
       "dairy          0.0  0.737587  0.010943  0.286639  0.095475  0.193476\n",
       "drinks         0.0  0.058339  0.598534  0.153566  0.054963  0.163096\n",
       "fruit          0.0  0.049819  0.087437  0.378050  0.597094  0.090822\n",
       "spices         0.0  0.051286  0.086714  0.181745  0.050699  0.402143"
      ]
     },
     "execution_count": 53,
     "metadata": {},
     "output_type": "execute_result"
    }
   ],
   "source": [
    "transition_matrix"
   ]
  },
  {
   "cell_type": "code",
   "execution_count": 54,
   "metadata": {},
   "outputs": [
    {
     "data": {
      "text/plain": [
       "before\n",
       "checkout    1.0\n",
       "dairy       1.0\n",
       "drinks      1.0\n",
       "entrance    1.0\n",
       "fruit       1.0\n",
       "spices      1.0\n",
       "dtype: float64"
      ]
     },
     "execution_count": 54,
     "metadata": {},
     "output_type": "execute_result"
    }
   ],
   "source": [
    "transition_matrix.sum(axis=0)"
   ]
  },
  {
   "cell_type": "code",
   "execution_count": 55,
   "metadata": {},
   "outputs": [
    {
     "name": "stderr",
     "output_type": "stream",
     "text": [
      "<ipython-input-55-104ef245ae61>:1: DeprecationWarning: The default dtype for empty Series will be 'object' instead of 'float64' in a future version. Specify a dtype explicitly to silence this warning.\n",
      "  transition_matrix = transition_matrix.append(pd.Series(index=transition_matrix.columns, name='entrance')).fillna(0)\n"
     ]
    }
   ],
   "source": [
    "transition_matrix = transition_matrix.append(pd.Series(index=transition_matrix.columns, name='entrance')).fillna(0)\n"
   ]
  },
  {
   "cell_type": "code",
   "execution_count": 63,
   "metadata": {},
   "outputs": [
    {
     "data": {
      "text/html": [
       "<div>\n",
       "<style scoped>\n",
       "    .dataframe tbody tr th:only-of-type {\n",
       "        vertical-align: middle;\n",
       "    }\n",
       "\n",
       "    .dataframe tbody tr th {\n",
       "        vertical-align: top;\n",
       "    }\n",
       "\n",
       "    .dataframe thead th {\n",
       "        text-align: right;\n",
       "    }\n",
       "</style>\n",
       "<table border=\"1\" class=\"dataframe\">\n",
       "  <thead>\n",
       "    <tr style=\"text-align: right;\">\n",
       "      <th>before</th>\n",
       "      <th>checkout</th>\n",
       "      <th>dairy</th>\n",
       "      <th>drinks</th>\n",
       "      <th>entrance</th>\n",
       "      <th>fruit</th>\n",
       "      <th>spices</th>\n",
       "    </tr>\n",
       "    <tr>\n",
       "      <th>after</th>\n",
       "      <th></th>\n",
       "      <th></th>\n",
       "      <th></th>\n",
       "      <th></th>\n",
       "      <th></th>\n",
       "      <th></th>\n",
       "    </tr>\n",
       "  </thead>\n",
       "  <tbody>\n",
       "    <tr>\n",
       "      <th>checkout</th>\n",
       "      <td>1.0</td>\n",
       "      <td>0.102968</td>\n",
       "      <td>0.216372</td>\n",
       "      <td>0.000000</td>\n",
       "      <td>0.201769</td>\n",
       "      <td>0.150464</td>\n",
       "    </tr>\n",
       "    <tr>\n",
       "      <th>dairy</th>\n",
       "      <td>0.0</td>\n",
       "      <td>0.737587</td>\n",
       "      <td>0.010943</td>\n",
       "      <td>0.286639</td>\n",
       "      <td>0.095475</td>\n",
       "      <td>0.193476</td>\n",
       "    </tr>\n",
       "    <tr>\n",
       "      <th>drinks</th>\n",
       "      <td>0.0</td>\n",
       "      <td>0.058339</td>\n",
       "      <td>0.598534</td>\n",
       "      <td>0.153566</td>\n",
       "      <td>0.054963</td>\n",
       "      <td>0.163096</td>\n",
       "    </tr>\n",
       "    <tr>\n",
       "      <th>fruit</th>\n",
       "      <td>0.0</td>\n",
       "      <td>0.049819</td>\n",
       "      <td>0.087437</td>\n",
       "      <td>0.378050</td>\n",
       "      <td>0.597094</td>\n",
       "      <td>0.090822</td>\n",
       "    </tr>\n",
       "    <tr>\n",
       "      <th>spices</th>\n",
       "      <td>0.0</td>\n",
       "      <td>0.051286</td>\n",
       "      <td>0.086714</td>\n",
       "      <td>0.181745</td>\n",
       "      <td>0.050699</td>\n",
       "      <td>0.402143</td>\n",
       "    </tr>\n",
       "    <tr>\n",
       "      <th>entrance</th>\n",
       "      <td>0.0</td>\n",
       "      <td>0.000000</td>\n",
       "      <td>0.000000</td>\n",
       "      <td>0.000000</td>\n",
       "      <td>0.000000</td>\n",
       "      <td>0.000000</td>\n",
       "    </tr>\n",
       "  </tbody>\n",
       "</table>\n",
       "</div>"
      ],
      "text/plain": [
       "before    checkout     dairy    drinks  entrance     fruit    spices\n",
       "after                                                               \n",
       "checkout       1.0  0.102968  0.216372  0.000000  0.201769  0.150464\n",
       "dairy          0.0  0.737587  0.010943  0.286639  0.095475  0.193476\n",
       "drinks         0.0  0.058339  0.598534  0.153566  0.054963  0.163096\n",
       "fruit          0.0  0.049819  0.087437  0.378050  0.597094  0.090822\n",
       "spices         0.0  0.051286  0.086714  0.181745  0.050699  0.402143\n",
       "entrance       0.0  0.000000  0.000000  0.000000  0.000000  0.000000"
      ]
     },
     "execution_count": 63,
     "metadata": {},
     "output_type": "execute_result"
    }
   ],
   "source": [
    "transition_matrix."
   ]
  },
  {
   "cell_type": "code",
   "execution_count": 56,
   "metadata": {},
   "outputs": [],
   "source": [
    "#########################################################################################\n",
    "### Copied from Course code - to be adapted"
   ]
  },
  {
   "cell_type": "code",
   "execution_count": 57,
   "metadata": {},
   "outputs": [],
   "source": [
    "# # transition prob matrix\n",
    "# P = np.array([[0.4, 0.666],\n",
    "#               [0.6, 0.333]])\n",
    "\n",
    "# # initial state distribution (day 0)\n",
    "# S = np.array([1.0, 0.0])   # <-- we start with a 100% sunny day"
   ]
  },
  {
   "cell_type": "code",
   "execution_count": 58,
   "metadata": {},
   "outputs": [],
   "source": [
    "# S1 = np.dot(S, P.T)\n",
    "# S1"
   ]
  },
  {
   "cell_type": "code",
   "execution_count": 59,
   "metadata": {},
   "outputs": [],
   "source": [
    "# S2 = np.dot(S1, P.T)\n",
    "# S2"
   ]
  },
  {
   "cell_type": "code",
   "execution_count": 60,
   "metadata": {},
   "outputs": [],
   "source": [
    "# np.dot(np.dot(np.dot(np.dot(np.dot(S, P.T), P.T), P.T), P.T), P.T)"
   ]
  },
  {
   "cell_type": "code",
   "execution_count": 61,
   "metadata": {},
   "outputs": [],
   "source": [
    "# result = []\n",
    "# s = S.copy()\n",
    "# for i in range(10):\n",
    "#     result.append(s)\n",
    "#     s = np.dot(s, P.T)"
   ]
  },
  {
   "cell_type": "code",
   "execution_count": 62,
   "metadata": {},
   "outputs": [],
   "source": [
    "# pd.DataFrame(result).plot()"
   ]
  },
  {
   "cell_type": "code",
   "execution_count": null,
   "metadata": {},
   "outputs": [],
   "source": []
  },
  {
   "cell_type": "code",
   "execution_count": null,
   "metadata": {},
   "outputs": [],
   "source": []
  },
  {
   "cell_type": "code",
   "execution_count": null,
   "metadata": {},
   "outputs": [],
   "source": []
  }
 ],
 "metadata": {
  "kernelspec": {
   "display_name": "Python 3",
   "language": "python",
   "name": "python3"
  },
  "language_info": {
   "codemirror_mode": {
    "name": "ipython",
    "version": 3
   },
   "file_extension": ".py",
   "mimetype": "text/x-python",
   "name": "python",
   "nbconvert_exporter": "python",
   "pygments_lexer": "ipython3",
   "version": "3.8.3"
  }
 },
 "nbformat": 4,
 "nbformat_minor": 4
}
