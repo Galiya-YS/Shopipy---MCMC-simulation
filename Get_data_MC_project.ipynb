{
 "cells": [
  {
   "cell_type": "code",
   "execution_count": 1,
   "metadata": {},
   "outputs": [],
   "source": [
    "# Import general libraries\n",
    "import pandas as pd"
   ]
  },
  {
   "cell_type": "code",
   "execution_count": 2,
   "metadata": {},
   "outputs": [],
   "source": [
    "%config Completer.use_jedi = False  # fix broken autocomplete"
   ]
  },
  {
   "cell_type": "markdown",
   "metadata": {},
   "source": [
    "## Read data files"
   ]
  },
  {
   "cell_type": "code",
   "execution_count": 3,
   "metadata": {},
   "outputs": [],
   "source": [
    "df_mon = pd.read_csv('data/monday.csv', sep=\";\")"
   ]
  },
  {
   "cell_type": "code",
   "execution_count": 4,
   "metadata": {},
   "outputs": [],
   "source": [
    "df_tue = pd.read_csv('data/tuesday.csv', sep=\";\")"
   ]
  },
  {
   "cell_type": "code",
   "execution_count": 5,
   "metadata": {},
   "outputs": [],
   "source": [
    "df_wed = pd.read_csv('data/wednesday.csv', sep=\";\")"
   ]
  },
  {
   "cell_type": "code",
   "execution_count": 6,
   "metadata": {},
   "outputs": [],
   "source": [
    "df_thu = pd.read_csv('data/thursday.csv', sep=\";\")"
   ]
  },
  {
   "cell_type": "code",
   "execution_count": 7,
   "metadata": {},
   "outputs": [],
   "source": [
    "df_fri = pd.read_csv('data/friday.csv', sep=\";\")"
   ]
  },
  {
   "cell_type": "markdown",
   "metadata": {},
   "source": [
    "## Merge data"
   ]
  },
  {
   "cell_type": "code",
   "execution_count": 8,
   "metadata": {},
   "outputs": [],
   "source": [
    "df = pd.concat([df_mon, df_tue, df_wed, df_thu, df_fri])"
   ]
  },
  {
   "cell_type": "code",
   "execution_count": 9,
   "metadata": {},
   "outputs": [
    {
     "data": {
      "text/html": [
       "<div>\n",
       "<style scoped>\n",
       "    .dataframe tbody tr th:only-of-type {\n",
       "        vertical-align: middle;\n",
       "    }\n",
       "\n",
       "    .dataframe tbody tr th {\n",
       "        vertical-align: top;\n",
       "    }\n",
       "\n",
       "    .dataframe thead th {\n",
       "        text-align: right;\n",
       "    }\n",
       "</style>\n",
       "<table border=\"1\" class=\"dataframe\">\n",
       "  <thead>\n",
       "    <tr style=\"text-align: right;\">\n",
       "      <th></th>\n",
       "      <th>timestamp</th>\n",
       "      <th>customer_no</th>\n",
       "      <th>location</th>\n",
       "    </tr>\n",
       "  </thead>\n",
       "  <tbody>\n",
       "    <tr>\n",
       "      <th>0</th>\n",
       "      <td>2019-09-02 07:03:00</td>\n",
       "      <td>1</td>\n",
       "      <td>dairy</td>\n",
       "    </tr>\n",
       "    <tr>\n",
       "      <th>1</th>\n",
       "      <td>2019-09-02 07:03:00</td>\n",
       "      <td>2</td>\n",
       "      <td>dairy</td>\n",
       "    </tr>\n",
       "    <tr>\n",
       "      <th>2</th>\n",
       "      <td>2019-09-02 07:04:00</td>\n",
       "      <td>3</td>\n",
       "      <td>dairy</td>\n",
       "    </tr>\n",
       "    <tr>\n",
       "      <th>3</th>\n",
       "      <td>2019-09-02 07:04:00</td>\n",
       "      <td>4</td>\n",
       "      <td>dairy</td>\n",
       "    </tr>\n",
       "    <tr>\n",
       "      <th>4</th>\n",
       "      <td>2019-09-02 07:04:00</td>\n",
       "      <td>5</td>\n",
       "      <td>spices</td>\n",
       "    </tr>\n",
       "    <tr>\n",
       "      <th>...</th>\n",
       "      <td>...</td>\n",
       "      <td>...</td>\n",
       "      <td>...</td>\n",
       "    </tr>\n",
       "    <tr>\n",
       "      <th>5120</th>\n",
       "      <td>2019-09-06 21:50:00</td>\n",
       "      <td>1500</td>\n",
       "      <td>dairy</td>\n",
       "    </tr>\n",
       "    <tr>\n",
       "      <th>5121</th>\n",
       "      <td>2019-09-06 21:50:00</td>\n",
       "      <td>1507</td>\n",
       "      <td>checkout</td>\n",
       "    </tr>\n",
       "    <tr>\n",
       "      <th>5122</th>\n",
       "      <td>2019-09-06 21:50:00</td>\n",
       "      <td>1508</td>\n",
       "      <td>checkout</td>\n",
       "    </tr>\n",
       "    <tr>\n",
       "      <th>5123</th>\n",
       "      <td>2019-09-06 21:50:00</td>\n",
       "      <td>1509</td>\n",
       "      <td>drinks</td>\n",
       "    </tr>\n",
       "    <tr>\n",
       "      <th>5124</th>\n",
       "      <td>2019-09-06 21:50:00</td>\n",
       "      <td>1510</td>\n",
       "      <td>spices</td>\n",
       "    </tr>\n",
       "  </tbody>\n",
       "</table>\n",
       "<p>24877 rows × 3 columns</p>\n",
       "</div>"
      ],
      "text/plain": [
       "                timestamp  customer_no  location\n",
       "0     2019-09-02 07:03:00            1     dairy\n",
       "1     2019-09-02 07:03:00            2     dairy\n",
       "2     2019-09-02 07:04:00            3     dairy\n",
       "3     2019-09-02 07:04:00            4     dairy\n",
       "4     2019-09-02 07:04:00            5    spices\n",
       "...                   ...          ...       ...\n",
       "5120  2019-09-06 21:50:00         1500     dairy\n",
       "5121  2019-09-06 21:50:00         1507  checkout\n",
       "5122  2019-09-06 21:50:00         1508  checkout\n",
       "5123  2019-09-06 21:50:00         1509    drinks\n",
       "5124  2019-09-06 21:50:00         1510    spices\n",
       "\n",
       "[24877 rows x 3 columns]"
      ]
     },
     "execution_count": 9,
     "metadata": {},
     "output_type": "execute_result"
    }
   ],
   "source": [
    "df"
   ]
  },
  {
   "cell_type": "code",
   "execution_count": 10,
   "metadata": {},
   "outputs": [
    {
     "data": {
      "text/plain": [
       "(24877, 3)"
      ]
     },
     "execution_count": 10,
     "metadata": {},
     "output_type": "execute_result"
    }
   ],
   "source": [
    "df.shape"
   ]
  },
  {
   "cell_type": "code",
   "execution_count": 11,
   "metadata": {},
   "outputs": [],
   "source": [
    "df['timestamp'] = pd.to_datetime(df['timestamp'])"
   ]
  },
  {
   "cell_type": "code",
   "execution_count": 12,
   "metadata": {},
   "outputs": [],
   "source": [
    "df['weekday'] = df['timestamp'].dt.day_name()"
   ]
  },
  {
   "cell_type": "code",
   "execution_count": 17,
   "metadata": {},
   "outputs": [],
   "source": [
    "df['weekday_num'] = df['timestamp'].dt.weekday"
   ]
  },
  {
   "cell_type": "code",
   "execution_count": 18,
   "metadata": {},
   "outputs": [],
   "source": [
    "df['time'] = df['timestamp'].dt.time"
   ]
  },
  {
   "cell_type": "code",
   "execution_count": 23,
   "metadata": {},
   "outputs": [],
   "source": [
    "# Add unique customer index\n",
    "df['customer_id']=df['weekday_num'].astype(str) + \"_\" + df['customer_no'].astype(str)"
   ]
  },
  {
   "cell_type": "markdown",
   "metadata": {},
   "source": [
    "## Save data"
   ]
  },
  {
   "cell_type": "code",
   "execution_count": 24,
   "metadata": {},
   "outputs": [],
   "source": [
    "df.to_csv('data/full_data.csv', sep=\";\", index = False)"
   ]
  },
  {
   "cell_type": "code",
   "execution_count": 25,
   "metadata": {},
   "outputs": [
    {
     "data": {
      "text/plain": [
       "timestamp      datetime64[ns]\n",
       "customer_no             int64\n",
       "location               object\n",
       "weekday                object\n",
       "weekday_num             int64\n",
       "time                   object\n",
       "customer_id            object\n",
       "dtype: object"
      ]
     },
     "execution_count": 25,
     "metadata": {},
     "output_type": "execute_result"
    }
   ],
   "source": [
    "df.dtypes"
   ]
  },
  {
   "cell_type": "code",
   "execution_count": 26,
   "metadata": {},
   "outputs": [
    {
     "data": {
      "text/html": [
       "<div>\n",
       "<style scoped>\n",
       "    .dataframe tbody tr th:only-of-type {\n",
       "        vertical-align: middle;\n",
       "    }\n",
       "\n",
       "    .dataframe tbody tr th {\n",
       "        vertical-align: top;\n",
       "    }\n",
       "\n",
       "    .dataframe thead th {\n",
       "        text-align: right;\n",
       "    }\n",
       "</style>\n",
       "<table border=\"1\" class=\"dataframe\">\n",
       "  <thead>\n",
       "    <tr style=\"text-align: right;\">\n",
       "      <th></th>\n",
       "      <th>timestamp</th>\n",
       "      <th>customer_no</th>\n",
       "      <th>location</th>\n",
       "      <th>weekday</th>\n",
       "      <th>weekday_num</th>\n",
       "      <th>time</th>\n",
       "      <th>customer_id</th>\n",
       "    </tr>\n",
       "  </thead>\n",
       "  <tbody>\n",
       "    <tr>\n",
       "      <th>0</th>\n",
       "      <td>2019-09-02 07:03:00</td>\n",
       "      <td>1</td>\n",
       "      <td>dairy</td>\n",
       "      <td>Monday</td>\n",
       "      <td>0</td>\n",
       "      <td>07:03:00</td>\n",
       "      <td>0_1</td>\n",
       "    </tr>\n",
       "    <tr>\n",
       "      <th>1</th>\n",
       "      <td>2019-09-02 07:03:00</td>\n",
       "      <td>2</td>\n",
       "      <td>dairy</td>\n",
       "      <td>Monday</td>\n",
       "      <td>0</td>\n",
       "      <td>07:03:00</td>\n",
       "      <td>0_2</td>\n",
       "    </tr>\n",
       "    <tr>\n",
       "      <th>2</th>\n",
       "      <td>2019-09-02 07:04:00</td>\n",
       "      <td>3</td>\n",
       "      <td>dairy</td>\n",
       "      <td>Monday</td>\n",
       "      <td>0</td>\n",
       "      <td>07:04:00</td>\n",
       "      <td>0_3</td>\n",
       "    </tr>\n",
       "    <tr>\n",
       "      <th>3</th>\n",
       "      <td>2019-09-02 07:04:00</td>\n",
       "      <td>4</td>\n",
       "      <td>dairy</td>\n",
       "      <td>Monday</td>\n",
       "      <td>0</td>\n",
       "      <td>07:04:00</td>\n",
       "      <td>0_4</td>\n",
       "    </tr>\n",
       "    <tr>\n",
       "      <th>4</th>\n",
       "      <td>2019-09-02 07:04:00</td>\n",
       "      <td>5</td>\n",
       "      <td>spices</td>\n",
       "      <td>Monday</td>\n",
       "      <td>0</td>\n",
       "      <td>07:04:00</td>\n",
       "      <td>0_5</td>\n",
       "    </tr>\n",
       "    <tr>\n",
       "      <th>...</th>\n",
       "      <td>...</td>\n",
       "      <td>...</td>\n",
       "      <td>...</td>\n",
       "      <td>...</td>\n",
       "      <td>...</td>\n",
       "      <td>...</td>\n",
       "      <td>...</td>\n",
       "    </tr>\n",
       "    <tr>\n",
       "      <th>5120</th>\n",
       "      <td>2019-09-06 21:50:00</td>\n",
       "      <td>1500</td>\n",
       "      <td>dairy</td>\n",
       "      <td>Friday</td>\n",
       "      <td>4</td>\n",
       "      <td>21:50:00</td>\n",
       "      <td>4_1500</td>\n",
       "    </tr>\n",
       "    <tr>\n",
       "      <th>5121</th>\n",
       "      <td>2019-09-06 21:50:00</td>\n",
       "      <td>1507</td>\n",
       "      <td>checkout</td>\n",
       "      <td>Friday</td>\n",
       "      <td>4</td>\n",
       "      <td>21:50:00</td>\n",
       "      <td>4_1507</td>\n",
       "    </tr>\n",
       "    <tr>\n",
       "      <th>5122</th>\n",
       "      <td>2019-09-06 21:50:00</td>\n",
       "      <td>1508</td>\n",
       "      <td>checkout</td>\n",
       "      <td>Friday</td>\n",
       "      <td>4</td>\n",
       "      <td>21:50:00</td>\n",
       "      <td>4_1508</td>\n",
       "    </tr>\n",
       "    <tr>\n",
       "      <th>5123</th>\n",
       "      <td>2019-09-06 21:50:00</td>\n",
       "      <td>1509</td>\n",
       "      <td>drinks</td>\n",
       "      <td>Friday</td>\n",
       "      <td>4</td>\n",
       "      <td>21:50:00</td>\n",
       "      <td>4_1509</td>\n",
       "    </tr>\n",
       "    <tr>\n",
       "      <th>5124</th>\n",
       "      <td>2019-09-06 21:50:00</td>\n",
       "      <td>1510</td>\n",
       "      <td>spices</td>\n",
       "      <td>Friday</td>\n",
       "      <td>4</td>\n",
       "      <td>21:50:00</td>\n",
       "      <td>4_1510</td>\n",
       "    </tr>\n",
       "  </tbody>\n",
       "</table>\n",
       "<p>24877 rows × 7 columns</p>\n",
       "</div>"
      ],
      "text/plain": [
       "               timestamp  customer_no  location weekday  weekday_num  \\\n",
       "0    2019-09-02 07:03:00            1     dairy  Monday            0   \n",
       "1    2019-09-02 07:03:00            2     dairy  Monday            0   \n",
       "2    2019-09-02 07:04:00            3     dairy  Monday            0   \n",
       "3    2019-09-02 07:04:00            4     dairy  Monday            0   \n",
       "4    2019-09-02 07:04:00            5    spices  Monday            0   \n",
       "...                  ...          ...       ...     ...          ...   \n",
       "5120 2019-09-06 21:50:00         1500     dairy  Friday            4   \n",
       "5121 2019-09-06 21:50:00         1507  checkout  Friday            4   \n",
       "5122 2019-09-06 21:50:00         1508  checkout  Friday            4   \n",
       "5123 2019-09-06 21:50:00         1509    drinks  Friday            4   \n",
       "5124 2019-09-06 21:50:00         1510    spices  Friday            4   \n",
       "\n",
       "          time customer_id  \n",
       "0     07:03:00         0_1  \n",
       "1     07:03:00         0_2  \n",
       "2     07:04:00         0_3  \n",
       "3     07:04:00         0_4  \n",
       "4     07:04:00         0_5  \n",
       "...        ...         ...  \n",
       "5120  21:50:00      4_1500  \n",
       "5121  21:50:00      4_1507  \n",
       "5122  21:50:00      4_1508  \n",
       "5123  21:50:00      4_1509  \n",
       "5124  21:50:00      4_1510  \n",
       "\n",
       "[24877 rows x 7 columns]"
      ]
     },
     "execution_count": 26,
     "metadata": {},
     "output_type": "execute_result"
    }
   ],
   "source": [
    "df"
   ]
  },
  {
   "cell_type": "code",
   "execution_count": null,
   "metadata": {},
   "outputs": [],
   "source": []
  },
  {
   "cell_type": "code",
   "execution_count": null,
   "metadata": {},
   "outputs": [],
   "source": []
  }
 ],
 "metadata": {
  "kernelspec": {
   "display_name": "Python 3",
   "language": "python",
   "name": "python3"
  },
  "language_info": {
   "codemirror_mode": {
    "name": "ipython",
    "version": 3
   },
   "file_extension": ".py",
   "mimetype": "text/x-python",
   "name": "python",
   "nbconvert_exporter": "python",
   "pygments_lexer": "ipython3",
   "version": "3.8.5"
  }
 },
 "nbformat": 4,
 "nbformat_minor": 4
}
