{
 "cells": [
  {
   "cell_type": "code",
   "execution_count": 1,
   "metadata": {},
   "outputs": [],
   "source": [
    "import pandas as pd\n",
    "import numpy as np"
   ]
  },
  {
   "cell_type": "code",
   "execution_count": 2,
   "metadata": {},
   "outputs": [],
   "source": [
    "#import transition_matrix\n",
    "transition_matrix = pd.read_csv(\"transition_matrix.csv\")\n",
    "transition_matrix.set_index(\"location\", inplace=True)"
   ]
  },
  {
   "cell_type": "code",
   "execution_count": 3,
   "metadata": {},
   "outputs": [],
   "source": [
    "transition_matrix['entrance'] = 0.0"
   ]
  },
  {
   "cell_type": "code",
   "execution_count": 4,
   "metadata": {},
   "outputs": [
    {
     "data": {
      "text/html": [
       "<div>\n",
       "<style scoped>\n",
       "    .dataframe tbody tr th:only-of-type {\n",
       "        vertical-align: middle;\n",
       "    }\n",
       "\n",
       "    .dataframe tbody tr th {\n",
       "        vertical-align: top;\n",
       "    }\n",
       "\n",
       "    .dataframe thead th {\n",
       "        text-align: right;\n",
       "    }\n",
       "</style>\n",
       "<table border=\"1\" class=\"dataframe\">\n",
       "  <thead>\n",
       "    <tr style=\"text-align: right;\">\n",
       "      <th></th>\n",
       "      <th>checkout</th>\n",
       "      <th>dairy</th>\n",
       "      <th>drinks</th>\n",
       "      <th>fruit</th>\n",
       "      <th>spices</th>\n",
       "      <th>entrance</th>\n",
       "    </tr>\n",
       "    <tr>\n",
       "      <th>location</th>\n",
       "      <th></th>\n",
       "      <th></th>\n",
       "      <th></th>\n",
       "      <th></th>\n",
       "      <th></th>\n",
       "      <th></th>\n",
       "    </tr>\n",
       "  </thead>\n",
       "  <tbody>\n",
       "    <tr>\n",
       "      <th>checkout</th>\n",
       "      <td>1.000000</td>\n",
       "      <td>0.000000</td>\n",
       "      <td>0.000000</td>\n",
       "      <td>0.000000</td>\n",
       "      <td>0.000000</td>\n",
       "      <td>0.0</td>\n",
       "    </tr>\n",
       "    <tr>\n",
       "      <th>dairy</th>\n",
       "      <td>0.088776</td>\n",
       "      <td>0.746961</td>\n",
       "      <td>0.061634</td>\n",
       "      <td>0.050891</td>\n",
       "      <td>0.051739</td>\n",
       "      <td>0.0</td>\n",
       "    </tr>\n",
       "    <tr>\n",
       "      <th>drinks</th>\n",
       "      <td>0.208109</td>\n",
       "      <td>0.011236</td>\n",
       "      <td>0.610650</td>\n",
       "      <td>0.090865</td>\n",
       "      <td>0.079140</td>\n",
       "      <td>0.0</td>\n",
       "    </tr>\n",
       "    <tr>\n",
       "      <th>entrance</th>\n",
       "      <td>0.000000</td>\n",
       "      <td>0.284727</td>\n",
       "      <td>0.160332</td>\n",
       "      <td>0.359364</td>\n",
       "      <td>0.195577</td>\n",
       "      <td>0.0</td>\n",
       "    </tr>\n",
       "    <tr>\n",
       "      <th>fruit</th>\n",
       "      <td>0.203077</td>\n",
       "      <td>0.086538</td>\n",
       "      <td>0.050000</td>\n",
       "      <td>0.613462</td>\n",
       "      <td>0.046923</td>\n",
       "      <td>0.0</td>\n",
       "    </tr>\n",
       "    <tr>\n",
       "      <th>spices</th>\n",
       "      <td>0.143429</td>\n",
       "      <td>0.188301</td>\n",
       "      <td>0.173878</td>\n",
       "      <td>0.095353</td>\n",
       "      <td>0.399038</td>\n",
       "      <td>0.0</td>\n",
       "    </tr>\n",
       "  </tbody>\n",
       "</table>\n",
       "</div>"
      ],
      "text/plain": [
       "          checkout     dairy    drinks     fruit    spices  entrance\n",
       "location                                                            \n",
       "checkout  1.000000  0.000000  0.000000  0.000000  0.000000       0.0\n",
       "dairy     0.088776  0.746961  0.061634  0.050891  0.051739       0.0\n",
       "drinks    0.208109  0.011236  0.610650  0.090865  0.079140       0.0\n",
       "entrance  0.000000  0.284727  0.160332  0.359364  0.195577       0.0\n",
       "fruit     0.203077  0.086538  0.050000  0.613462  0.046923       0.0\n",
       "spices    0.143429  0.188301  0.173878  0.095353  0.399038       0.0"
      ]
     },
     "execution_count": 4,
     "metadata": {},
     "output_type": "execute_result"
    }
   ],
   "source": [
    "transition_matrix"
   ]
  },
  {
   "cell_type": "code",
   "execution_count": 5,
   "metadata": {},
   "outputs": [],
   "source": [
    "class Customer:\n",
    "    ''' a single customer that moves through the supermarket in a MCMC simulation'''\n",
    "    \n",
    "    def __init__(self, name, state, budget=100):\n",
    "        self.name = name\n",
    "        self.state = state\n",
    "        self.budget = budget\n",
    "        self.transition_matrix = transition_matrix\n",
    "        self.hist = [self.state]\n",
    "    \n",
    "    def __repr__(self):\n",
    "        return f'<Customer {self.name} in {self.state} with {self.budget} $, was {self.hist[-1]}>'\n",
    "    \n",
    "    def is_active(self):\n",
    "        \"\"\"\n",
    "        Returns True if the customer has not reached the checkout\n",
    "        for the second time yet, False otherwise.\n",
    "        \"\"\"\n",
    "        if self.state == 'checkout':\n",
    "            return print(f'Customer {self.name} has been churned!')\n",
    "        else:\n",
    "            return True\n",
    "        \n",
    "    \n",
    "    def next_state(self):\n",
    "        '''\n",
    "        Propagates the customer to the next state.\n",
    "        Returns nothing.\n",
    "        '''\n",
    "\n",
    "        next_loc = np.random.choice(self.transition_matrix.columns.values, p=self.transition_matrix.loc[self.state])\n",
    "        #p = Probs\n",
    "        self.state = next_loc\n",
    "        self.hist.append(self.state)"
   ]
  },
  {
   "cell_type": "code",
   "execution_count": 6,
   "metadata": {},
   "outputs": [],
   "source": [
    "cust1 = Customer(\"Jake\", \"entrance\", 50)\n",
    "cust2 = Customer(\"Margaret\", \"spices\")"
   ]
  },
  {
   "cell_type": "raw",
   "metadata": {},
   "source": [
    "print(cust1.name, cust1.state, cust1.budget)\n",
    "print(cust2.name, cust1.state, cust2.budget)"
   ]
  },
  {
   "cell_type": "code",
   "execution_count": 14,
   "metadata": {},
   "outputs": [],
   "source": [
    "cust1.next_state()"
   ]
  },
  {
   "cell_type": "code",
   "execution_count": 11,
   "metadata": {},
   "outputs": [
    {
     "name": "stdout",
     "output_type": "stream",
     "text": [
      "<Customer Jake in dairy with 50 $, was ['entrance', 'dairy']>\n"
     ]
    }
   ],
   "source": [
    "print(cust1)"
   ]
  },
  {
   "cell_type": "code",
   "execution_count": 16,
   "metadata": {},
   "outputs": [
    {
     "data": {
      "text/plain": [
       "['entrance', 'fruit', 'fruit', 'dairy', 'dairy']"
      ]
     },
     "execution_count": 16,
     "metadata": {},
     "output_type": "execute_result"
    }
   ],
   "source": [
    "cust1.hist"
   ]
  },
  {
   "cell_type": "code",
   "execution_count": null,
   "metadata": {},
   "outputs": [],
   "source": []
  }
 ],
 "metadata": {
  "kernelspec": {
   "display_name": "Python 3",
   "language": "python",
   "name": "python3"
  },
  "language_info": {
   "codemirror_mode": {
    "name": "ipython",
    "version": 3
   },
   "file_extension": ".py",
   "mimetype": "text/x-python",
   "name": "python",
   "nbconvert_exporter": "python",
   "pygments_lexer": "ipython3",
   "version": "3.8.5"
  }
 },
 "nbformat": 4,
 "nbformat_minor": 4
}
