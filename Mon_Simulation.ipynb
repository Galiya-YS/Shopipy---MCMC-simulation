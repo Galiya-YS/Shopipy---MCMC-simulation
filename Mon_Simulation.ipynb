{
 "cells": [
  {
   "cell_type": "code",
   "execution_count": 1,
   "metadata": {},
   "outputs": [],
   "source": [
    "import pandas as pd\n",
    "import numpy as np\n",
    "from faker import Faker\n",
    "fake = Faker()"
   ]
  },
  {
   "cell_type": "code",
   "execution_count": 20,
   "metadata": {},
   "outputs": [
    {
     "data": {
      "text/html": [
       "<div>\n",
       "<style scoped>\n",
       "    .dataframe tbody tr th:only-of-type {\n",
       "        vertical-align: middle;\n",
       "    }\n",
       "\n",
       "    .dataframe tbody tr th {\n",
       "        vertical-align: top;\n",
       "    }\n",
       "\n",
       "    .dataframe thead th {\n",
       "        text-align: right;\n",
       "    }\n",
       "</style>\n",
       "<table border=\"1\" class=\"dataframe\">\n",
       "  <thead>\n",
       "    <tr style=\"text-align: right;\">\n",
       "      <th></th>\n",
       "      <th>checkout</th>\n",
       "      <th>dairy</th>\n",
       "      <th>drinks</th>\n",
       "      <th>fruit</th>\n",
       "      <th>spices</th>\n",
       "      <th>entrance</th>\n",
       "    </tr>\n",
       "    <tr>\n",
       "      <th>location</th>\n",
       "      <th></th>\n",
       "      <th></th>\n",
       "      <th></th>\n",
       "      <th></th>\n",
       "      <th></th>\n",
       "      <th></th>\n",
       "    </tr>\n",
       "  </thead>\n",
       "  <tbody>\n",
       "    <tr>\n",
       "      <th>checkout</th>\n",
       "      <td>1.000000</td>\n",
       "      <td>0.000000</td>\n",
       "      <td>0.000000</td>\n",
       "      <td>0.000000</td>\n",
       "      <td>0.000000</td>\n",
       "      <td>0.0</td>\n",
       "    </tr>\n",
       "    <tr>\n",
       "      <th>dairy</th>\n",
       "      <td>0.088776</td>\n",
       "      <td>0.746961</td>\n",
       "      <td>0.061634</td>\n",
       "      <td>0.050891</td>\n",
       "      <td>0.051739</td>\n",
       "      <td>0.0</td>\n",
       "    </tr>\n",
       "    <tr>\n",
       "      <th>drinks</th>\n",
       "      <td>0.208109</td>\n",
       "      <td>0.011236</td>\n",
       "      <td>0.610650</td>\n",
       "      <td>0.090865</td>\n",
       "      <td>0.079140</td>\n",
       "      <td>0.0</td>\n",
       "    </tr>\n",
       "    <tr>\n",
       "      <th>entrance</th>\n",
       "      <td>0.000000</td>\n",
       "      <td>0.284727</td>\n",
       "      <td>0.160332</td>\n",
       "      <td>0.359364</td>\n",
       "      <td>0.195577</td>\n",
       "      <td>0.0</td>\n",
       "    </tr>\n",
       "    <tr>\n",
       "      <th>fruit</th>\n",
       "      <td>0.203077</td>\n",
       "      <td>0.086538</td>\n",
       "      <td>0.050000</td>\n",
       "      <td>0.613462</td>\n",
       "      <td>0.046923</td>\n",
       "      <td>0.0</td>\n",
       "    </tr>\n",
       "    <tr>\n",
       "      <th>spices</th>\n",
       "      <td>0.143429</td>\n",
       "      <td>0.188301</td>\n",
       "      <td>0.173878</td>\n",
       "      <td>0.095353</td>\n",
       "      <td>0.399038</td>\n",
       "      <td>0.0</td>\n",
       "    </tr>\n",
       "  </tbody>\n",
       "</table>\n",
       "</div>"
      ],
      "text/plain": [
       "          checkout     dairy    drinks     fruit    spices  entrance\n",
       "location                                                            \n",
       "checkout  1.000000  0.000000  0.000000  0.000000  0.000000       0.0\n",
       "dairy     0.088776  0.746961  0.061634  0.050891  0.051739       0.0\n",
       "drinks    0.208109  0.011236  0.610650  0.090865  0.079140       0.0\n",
       "entrance  0.000000  0.284727  0.160332  0.359364  0.195577       0.0\n",
       "fruit     0.203077  0.086538  0.050000  0.613462  0.046923       0.0\n",
       "spices    0.143429  0.188301  0.173878  0.095353  0.399038       0.0"
      ]
     },
     "execution_count": 20,
     "metadata": {},
     "output_type": "execute_result"
    }
   ],
   "source": [
    "#import transition_matrix\n",
    "transition_matrix = pd.read_csv(\"transition_matrix.csv\")\n",
    "transition_matrix.set_index(\"location\", inplace=True)\n",
    "transition_matrix"
   ]
  },
  {
   "cell_type": "code",
   "execution_count": 3,
   "metadata": {},
   "outputs": [],
   "source": [
    "class Customer:\n",
    "    ''' a single customer that moves through the supermarket in a MCMC simulation'''\n",
    "    \n",
    "    def __init__(self, c_id, name, state, budget=np.random.randint(100,500, dtype=int)):\n",
    "        self.c_id = c_id\n",
    "        self.name = name\n",
    "        self.state = state\n",
    "        self.budget = budget\n",
    "        self.transition_matrix = transition_matrix\n",
    "        self.hist = [self.state]\n",
    "        self.money = [self.budget]\n",
    "    \n",
    "    def __repr__(self):\n",
    "        if self.hist[-1] == 'entrance' or self.hist[-1] == 'checkout':\n",
    "            return  f'Customer {self.name} in {self.state} with {self.budget} $'\n",
    "        else:\n",
    "            return f'Customer {self.c_id}, {self.name} in {self.state} with {self.budget} $ left, was in {self.hist[-2]}'\n",
    "    \n",
    "    def is_active(self):\n",
    "        \"\"\"\n",
    "        Returns True if the customer has not reached the checkout\n",
    "        for the second time yet, False otherwise.\n",
    "        \"\"\"\n",
    "        if self.state == 'checkout':\n",
    "            return f'Customer {self.name} has been churned and spent {cust1.money[0] - cust1.money[-1]}$!'\n",
    "        else:\n",
    "            return f'Customer {self.name} is still active.'\n",
    "        \n",
    "    \n",
    "    def next_state(self):\n",
    "        '''\n",
    "        Propagates the customer to the next state.\n",
    "        '''\n",
    "\n",
    "        next_loc = np.random.choice(self.transition_matrix.columns.values, p=self.transition_matrix.loc[self.state])\n",
    "        #p = Probs\n",
    "        \n",
    "        #hard coded the revenue\n",
    "        if next_loc == 'fruit':\n",
    "            self.budget -= 4\n",
    "        elif next_loc == 'spices':\n",
    "            self.budget -= 3\n",
    "        elif next_loc == 'dairy':\n",
    "            self.budget -= 5\n",
    "        elif next_loc == 'drinks':\n",
    "            self.budget -= 6\n",
    "        \n",
    "        #list for 'path-history'\n",
    "        self.state = next_loc\n",
    "        self.hist.append(self.state)\n",
    "        \n",
    "        #list for money spend\n",
    "        self.budget = self.budget\n",
    "        self.money.append(self.budget)"
   ]
  },
  {
   "cell_type": "code",
   "execution_count": 4,
   "metadata": {},
   "outputs": [],
   "source": [
    "class Supermarket:\n",
    "    def __init__(self): \n",
    "        self.customer = []\n",
    "        self.c_id = 0\n",
    "        self.hour = 7\n",
    "        self.minutes = 0\n",
    "        #self.current_time = self.get_time() #doesn't work\n",
    "        self.data = []\n",
    "        \n",
    "        \n",
    "    \n",
    "    def __repr__(self):\n",
    "        return f'There are {len(self.customer)} in the supermarket. Time: {self.get_time()}.'\n",
    "    \n",
    "    def add_customer(self): #works\n",
    "        self.c_id += 1\n",
    "        self.customer.append(Customer(self.c_id, fake.name(), 'entrance', np.random.randint(1,500)))\n",
    "    \n",
    "    def get_time(self):\n",
    "        \"\"\"current time in HH:MM format,\n",
    "        \"\"\"\n",
    "        #the supermarket opens at 7\n",
    "        hour = self.hour\n",
    "        minutes = self.minutes\n",
    "        return f'{hour}:{minutes}'\n",
    "        #append time\n",
    "        \n",
    "    def next_minute(self):\n",
    "        \"\"\"propagates all customers to the next state.\n",
    "        \"\"\"\n",
    "        self.minutes += 1\n",
    "        self.move_customers()\n",
    "        self.add_customer()\n",
    "        self.write_all_cust()\n",
    "        self.remove_existing_customers()\n",
    "        \n",
    "        \n",
    "        \n",
    "    def move_customers(self):\n",
    "        for cust in self.customer:\n",
    "            cust.next_state()\n",
    "    \n",
    "    def remove_existing_customers(self):\n",
    "        \"\"\"removes every customer that is not active any more.\n",
    "        \"\"\"\n",
    "        for cust in self.customer:\n",
    "            if cust.state == 'checkout':\n",
    "                self.customer.remove(cust)\n",
    "                print(f'Customer {cust.name} has been churned!')\n",
    "    \n",
    "    def write_all_cust(self):\n",
    "        for cust in self.customer:\n",
    "            self.data.append([cust.c_id, cust.name, cust.state, cust.budget, self.get_time()])\n",
    "        \n",
    "        "
   ]
  },
  {
   "cell_type": "code",
   "execution_count": 5,
   "metadata": {},
   "outputs": [],
   "source": [
    "sm = Supermarket()"
   ]
  },
  {
   "cell_type": "code",
   "execution_count": 6,
   "metadata": {},
   "outputs": [
    {
     "data": {
      "text/plain": [
       "There are 0 in the supermarket. Time: 7:0."
      ]
     },
     "execution_count": 6,
     "metadata": {},
     "output_type": "execute_result"
    }
   ],
   "source": [
    "sm"
   ]
  },
  {
   "cell_type": "code",
   "execution_count": 7,
   "metadata": {},
   "outputs": [
    {
     "data": {
      "text/plain": [
       "'7:0'"
      ]
     },
     "execution_count": 7,
     "metadata": {},
     "output_type": "execute_result"
    }
   ],
   "source": [
    "sm.get_time()"
   ]
  },
  {
   "cell_type": "code",
   "execution_count": 14,
   "metadata": {},
   "outputs": [
    {
     "data": {
      "text/plain": [
       "[Customer 3, Alicia Doyle in dairy with 315 $ left, was in dairy,\n",
       " Customer 4, Teresa Norton in dairy with 373 $ left, was in dairy,\n",
       " Customer 5, Nancy Keller in fruit with 325 $ left, was in entrance,\n",
       " Customer Thomas Harrington in entrance with 395 $]"
      ]
     },
     "execution_count": 14,
     "metadata": {},
     "output_type": "execute_result"
    }
   ],
   "source": [
    "sm.customer"
   ]
  },
  {
   "cell_type": "code",
   "execution_count": 13,
   "metadata": {},
   "outputs": [
    {
     "name": "stdout",
     "output_type": "stream",
     "text": [
      "Customer Cody Gonzales has been churned!\n"
     ]
    }
   ],
   "source": [
    "sm.next_minute() #move the cust"
   ]
  },
  {
   "cell_type": "code",
   "execution_count": 15,
   "metadata": {},
   "outputs": [
    {
     "data": {
      "text/plain": [
       "[[1, 'Austin Oliver', 'entrance', 332, '7:1'],\n",
       " [1, 'Austin Oliver', 'spices', 329, '7:2'],\n",
       " [2, 'Cody Gonzales', 'entrance', 429, '7:2'],\n",
       " [1, 'Austin Oliver', 'spices', 326, '7:3'],\n",
       " [2, 'Cody Gonzales', 'dairy', 424, '7:3'],\n",
       " [3, 'Alicia Doyle', 'entrance', 329, '7:3'],\n",
       " [1, 'Austin Oliver', 'checkout', 326, '7:4'],\n",
       " [2, 'Cody Gonzales', 'dairy', 419, '7:4'],\n",
       " [3, 'Alicia Doyle', 'fruit', 325, '7:4'],\n",
       " [4, 'Teresa Norton', 'entrance', 383, '7:4'],\n",
       " [2, 'Cody Gonzales', 'dairy', 414, '7:5'],\n",
       " [3, 'Alicia Doyle', 'dairy', 320, '7:5'],\n",
       " [4, 'Teresa Norton', 'dairy', 378, '7:5'],\n",
       " [5, 'Nancy Keller', 'entrance', 329, '7:5'],\n",
       " [2, 'Cody Gonzales', 'checkout', 414, '7:6'],\n",
       " [3, 'Alicia Doyle', 'dairy', 315, '7:6'],\n",
       " [4, 'Teresa Norton', 'dairy', 373, '7:6'],\n",
       " [5, 'Nancy Keller', 'fruit', 325, '7:6'],\n",
       " [6, 'Thomas Harrington', 'entrance', 395, '7:6']]"
      ]
     },
     "execution_count": 15,
     "metadata": {},
     "output_type": "execute_result"
    }
   ],
   "source": [
    "sm.data"
   ]
  },
  {
   "cell_type": "code",
   "execution_count": 16,
   "metadata": {},
   "outputs": [],
   "source": [
    "our_sm = pd.DataFrame.from_records(sm.data, columns=['cust_id', 'cust_name', 'cust_state', 'budget', 'timestamp'])\n",
    "our_sm['timestamp'] = pd.to_datetime(our_sm['timestamp'], format= '%H:%M').dt.time"
   ]
  },
  {
   "cell_type": "code",
   "execution_count": 19,
   "metadata": {},
   "outputs": [
    {
     "data": {
      "text/html": [
       "<div>\n",
       "<style scoped>\n",
       "    .dataframe tbody tr th:only-of-type {\n",
       "        vertical-align: middle;\n",
       "    }\n",
       "\n",
       "    .dataframe tbody tr th {\n",
       "        vertical-align: top;\n",
       "    }\n",
       "\n",
       "    .dataframe thead th {\n",
       "        text-align: right;\n",
       "    }\n",
       "</style>\n",
       "<table border=\"1\" class=\"dataframe\">\n",
       "  <thead>\n",
       "    <tr style=\"text-align: right;\">\n",
       "      <th></th>\n",
       "      <th>cust_id</th>\n",
       "      <th>cust_name</th>\n",
       "      <th>cust_state</th>\n",
       "      <th>budget</th>\n",
       "      <th>timestamp</th>\n",
       "    </tr>\n",
       "  </thead>\n",
       "  <tbody>\n",
       "    <tr>\n",
       "      <th>0</th>\n",
       "      <td>1</td>\n",
       "      <td>Austin Oliver</td>\n",
       "      <td>entrance</td>\n",
       "      <td>332</td>\n",
       "      <td>07:01:00</td>\n",
       "    </tr>\n",
       "    <tr>\n",
       "      <th>1</th>\n",
       "      <td>1</td>\n",
       "      <td>Austin Oliver</td>\n",
       "      <td>spices</td>\n",
       "      <td>329</td>\n",
       "      <td>07:02:00</td>\n",
       "    </tr>\n",
       "    <tr>\n",
       "      <th>2</th>\n",
       "      <td>2</td>\n",
       "      <td>Cody Gonzales</td>\n",
       "      <td>entrance</td>\n",
       "      <td>429</td>\n",
       "      <td>07:02:00</td>\n",
       "    </tr>\n",
       "    <tr>\n",
       "      <th>3</th>\n",
       "      <td>1</td>\n",
       "      <td>Austin Oliver</td>\n",
       "      <td>spices</td>\n",
       "      <td>326</td>\n",
       "      <td>07:03:00</td>\n",
       "    </tr>\n",
       "    <tr>\n",
       "      <th>4</th>\n",
       "      <td>2</td>\n",
       "      <td>Cody Gonzales</td>\n",
       "      <td>dairy</td>\n",
       "      <td>424</td>\n",
       "      <td>07:03:00</td>\n",
       "    </tr>\n",
       "  </tbody>\n",
       "</table>\n",
       "</div>"
      ],
      "text/plain": [
       "   cust_id      cust_name cust_state  budget timestamp\n",
       "0        1  Austin Oliver   entrance     332  07:01:00\n",
       "1        1  Austin Oliver     spices     329  07:02:00\n",
       "2        2  Cody Gonzales   entrance     429  07:02:00\n",
       "3        1  Austin Oliver     spices     326  07:03:00\n",
       "4        2  Cody Gonzales      dairy     424  07:03:00"
      ]
     },
     "execution_count": 19,
     "metadata": {},
     "output_type": "execute_result"
    }
   ],
   "source": [
    "our_sm.head()"
   ]
  },
  {
   "cell_type": "code",
   "execution_count": 18,
   "metadata": {},
   "outputs": [
    {
     "data": {
      "text/html": [
       "<div>\n",
       "<style scoped>\n",
       "    .dataframe tbody tr th:only-of-type {\n",
       "        vertical-align: middle;\n",
       "    }\n",
       "\n",
       "    .dataframe tbody tr th {\n",
       "        vertical-align: top;\n",
       "    }\n",
       "\n",
       "    .dataframe thead th {\n",
       "        text-align: right;\n",
       "    }\n",
       "</style>\n",
       "<table border=\"1\" class=\"dataframe\">\n",
       "  <thead>\n",
       "    <tr style=\"text-align: right;\">\n",
       "      <th></th>\n",
       "      <th>cust_id</th>\n",
       "      <th>cust_name</th>\n",
       "      <th>cust_state</th>\n",
       "      <th>budget</th>\n",
       "      <th>timestamp</th>\n",
       "    </tr>\n",
       "  </thead>\n",
       "  <tbody>\n",
       "    <tr>\n",
       "      <th>2</th>\n",
       "      <td>2</td>\n",
       "      <td>Cody Gonzales</td>\n",
       "      <td>entrance</td>\n",
       "      <td>429</td>\n",
       "      <td>07:02:00</td>\n",
       "    </tr>\n",
       "    <tr>\n",
       "      <th>4</th>\n",
       "      <td>2</td>\n",
       "      <td>Cody Gonzales</td>\n",
       "      <td>dairy</td>\n",
       "      <td>424</td>\n",
       "      <td>07:03:00</td>\n",
       "    </tr>\n",
       "    <tr>\n",
       "      <th>7</th>\n",
       "      <td>2</td>\n",
       "      <td>Cody Gonzales</td>\n",
       "      <td>dairy</td>\n",
       "      <td>419</td>\n",
       "      <td>07:04:00</td>\n",
       "    </tr>\n",
       "    <tr>\n",
       "      <th>10</th>\n",
       "      <td>2</td>\n",
       "      <td>Cody Gonzales</td>\n",
       "      <td>dairy</td>\n",
       "      <td>414</td>\n",
       "      <td>07:05:00</td>\n",
       "    </tr>\n",
       "    <tr>\n",
       "      <th>14</th>\n",
       "      <td>2</td>\n",
       "      <td>Cody Gonzales</td>\n",
       "      <td>checkout</td>\n",
       "      <td>414</td>\n",
       "      <td>07:06:00</td>\n",
       "    </tr>\n",
       "  </tbody>\n",
       "</table>\n",
       "</div>"
      ],
      "text/plain": [
       "    cust_id      cust_name cust_state  budget timestamp\n",
       "2         2  Cody Gonzales   entrance     429  07:02:00\n",
       "4         2  Cody Gonzales      dairy     424  07:03:00\n",
       "7         2  Cody Gonzales      dairy     419  07:04:00\n",
       "10        2  Cody Gonzales      dairy     414  07:05:00\n",
       "14        2  Cody Gonzales   checkout     414  07:06:00"
      ]
     },
     "execution_count": 18,
     "metadata": {},
     "output_type": "execute_result"
    }
   ],
   "source": [
    "our_sm[our_sm['cust_id'] == 2]"
   ]
  },
  {
   "cell_type": "raw",
   "metadata": {},
   "source": [
    "class Supermarket:\n",
    "    \"\"\"manages multiple Customer instances that are currently in the market.\n",
    "    \"\"\"\n",
    "\n",
    "    def __init__(self, hour=7):        \n",
    "        # a list of Customer objects\n",
    "        self.customers = []\n",
    "        self.minutes = 0\n",
    "        self.current_time = 0\n",
    "        self.data = pd.DataFrame()\n",
    "        self.timestamp = []\n",
    "        self.time = time #open\n",
    "        self.hour = hour\n",
    "\n",
    "    def __repr__(self):\n",
    "        return f'Supermarket(\"{self.customers}\", \"{self.current_time}\")'\n",
    "\n",
    "    def get_time(self):\n",
    "        \"\"\"current time in HH:MM format,\n",
    "        \"\"\"\n",
    "        #self.time = time.strftime(\"%H:%M:%S\") #current time\n",
    "        \n",
    "        #the supermarket opens at 7\n",
    "        hour = self.hour\n",
    "        minutes = self.minutes\n",
    "        return f'{str(hour)}:{str(minutes)}'\n",
    "        \n",
    "        self.timestamp.append(f'{str(hour)}:{str(minutes)}')\n",
    "        \n",
    "        \n",
    "    def print_customers(self):\n",
    "        \"\"\"print all customers with the current time and id in CSV format.\n",
    "        \"\"\"\n",
    "        self.current_time = self.get_time()\n",
    "        return f'Supermarket(\"{self.customers}\", \"{self.current_time}\")'\n",
    "        \n",
    "    def next_minute(self):\n",
    "        \"\"\"propagates all customers to the next state.\n",
    "        \"\"\"\n",
    "\n",
    "        self.minutes += 1\n",
    "\n",
    "        self.move_customers()\n",
    "        self.add_new_customers()\n",
    "        self.remove_existing_customers()\n",
    "        return self.customers\n",
    "    \n",
    "    \n",
    "    def move_customers(self):\n",
    "        for cust in self.customers:\n",
    "            cust.next_state()\n",
    "            \n",
    "    def add_new_customers(self):\n",
    "        \"\"\"randomly creates new customers.\n",
    "        \"\"\"\n",
    "        \n",
    "        self.customers.append(Customer(self.c_id, fake.name(), 'entrance', np.random.randint(1,500)))\n",
    "        \n",
    "\n",
    "    def remove_existing_customers(self):\n",
    "        \"\"\"removes every customer that is not active any more.\n",
    "        \"\"\"\n",
    "        for cust in self.customers:\n",
    "            if cust.state == 'checkout':\n",
    "                self.customers.remove(cust) #removes the first matching element (which is passed as an argument) from the list\n",
    "                print(f'Customer {cust.name} has been churned!')\n",
    "                \n",
    "    def write_all_cust(self):\n",
    "        for cust in self.customers:\n",
    "            self.data = pd.DataFrame.append(cust.name, cust.state, cust.budget, self.current_time)\n"
   ]
  },
  {
   "cell_type": "code",
   "execution_count": null,
   "metadata": {},
   "outputs": [],
   "source": [
    "Supermarket1=Supermarket(7)"
   ]
  },
  {
   "cell_type": "code",
   "execution_count": null,
   "metadata": {},
   "outputs": [],
   "source": [
    "Supermarket1"
   ]
  },
  {
   "cell_type": "code",
   "execution_count": null,
   "metadata": {},
   "outputs": [],
   "source": [
    "Supermarket1.add_new_customers"
   ]
  },
  {
   "cell_type": "code",
   "execution_count": null,
   "metadata": {},
   "outputs": [],
   "source": [
    "print(Supermarket.write_all_cust)"
   ]
  },
  {
   "cell_type": "code",
   "execution_count": null,
   "metadata": {},
   "outputs": [],
   "source": [
    "print(Supermarket)"
   ]
  },
  {
   "cell_type": "code",
   "execution_count": null,
   "metadata": {},
   "outputs": [],
   "source": [
    "for i in customers: #move all customers\n",
    "    i.next_state()\n",
    "    if i.state == 'checkout':\n",
    "        print(f'Customer {i.name} has been churned!') #adding time?\n",
    "        customers.remove(i)\n",
    "    else:\n",
    "        print(i)\n",
    "    if len(customers) < 20: #new_customers\n",
    "            x = 20 - len(customers)\n",
    "            #new_cust = []\n",
    "            new_cust = ([Customer(fake.name(), 'entrance', np.random.randint(1,500)) for i in range(x)])\n",
    "            for c in new_cust:\n",
    "                customers.append(c)"
   ]
  },
  {
   "cell_type": "code",
   "execution_count": null,
   "metadata": {},
   "outputs": [],
   "source": [
    "print(Supermarket)"
   ]
  },
  {
   "cell_type": "code",
   "execution_count": null,
   "metadata": {},
   "outputs": [],
   "source": [
    "print_customers()"
   ]
  },
  {
   "cell_type": "code",
   "execution_count": null,
   "metadata": {},
   "outputs": [],
   "source": [
    "    def add_new_customers(self, stop, id_suffix, terrain_map, image, x, y):\n",
    "        \"\"\"randomly creates new customers.\n",
    "        \"\"\"\n",
    "        for i in range(stop):\n",
    "            cust = Customer(str(i) + \"_\" + str(id_suffix), \"entrance\", transition_matrix,\n",
    "                            terrain_map=terrain_map, image=image, x=x, y=y)\n",
    "            self.customers.append(cust)\n",
    "\n",
    "        self.id_suffix += 1"
   ]
  },
  {
   "cell_type": "code",
   "execution_count": null,
   "metadata": {},
   "outputs": [],
   "source": [
    "from faker import Faker"
   ]
  },
  {
   "cell_type": "code",
   "execution_count": null,
   "metadata": {},
   "outputs": [],
   "source": []
  },
  {
   "cell_type": "code",
   "execution_count": null,
   "metadata": {},
   "outputs": [],
   "source": [
    "import datetime"
   ]
  },
  {
   "cell_type": "code",
   "execution_count": null,
   "metadata": {},
   "outputs": [],
   "source": [
    "datetitime(7, 26)"
   ]
  },
  {
   "cell_type": "code",
   "execution_count": null,
   "metadata": {},
   "outputs": [],
   "source": [
    "datetime.datetime.now().time()"
   ]
  },
  {
   "cell_type": "code",
   "execution_count": null,
   "metadata": {},
   "outputs": [],
   "source": [
    "import time"
   ]
  },
  {
   "cell_type": "code",
   "execution_count": null,
   "metadata": {},
   "outputs": [],
   "source": [
    "time.time(7, 26)"
   ]
  },
  {
   "cell_type": "code",
   "execution_count": null,
   "metadata": {},
   "outputs": [],
   "source": [
    "time.strftime(\"%a, %d %b %Y %H:%M:%S\")"
   ]
  },
  {
   "cell_type": "code",
   "execution_count": null,
   "metadata": {},
   "outputs": [],
   "source": [
    "time.strftime(\"%H:%M:%S\")"
   ]
  }
 ],
 "metadata": {
  "kernelspec": {
   "display_name": "Python 3",
   "language": "python",
   "name": "python3"
  },
  "language_info": {
   "codemirror_mode": {
    "name": "ipython",
    "version": 3
   },
   "file_extension": ".py",
   "mimetype": "text/x-python",
   "name": "python",
   "nbconvert_exporter": "python",
   "pygments_lexer": "ipython3",
   "version": "3.8.5"
  }
 },
 "nbformat": 4,
 "nbformat_minor": 4
}
