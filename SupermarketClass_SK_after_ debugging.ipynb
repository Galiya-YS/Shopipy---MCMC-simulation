{
 "cells": [
  {
   "cell_type": "code",
   "execution_count": 1,
   "metadata": {},
   "outputs": [],
   "source": [
    "import pandas as pd\n",
    "import numpy as np\n",
    "import time\n",
    "import datetime\n",
    "from faker import Faker\n",
    "from CustClass_full import Customer"
   ]
  },
  {
   "cell_type": "code",
   "execution_count": 2,
   "metadata": {},
   "outputs": [],
   "source": [
    "#import transition_matrix\n",
    "transition_matrix = pd.read_csv(\"data/transition_matrix.csv\", index_col=0)"
   ]
  },
  {
   "cell_type": "code",
   "execution_count": 3,
   "metadata": {},
   "outputs": [],
   "source": [
    "class Supermarket:\n",
    "    \"\"\"manages multiple Customer instances that are currently in the market.\n",
    "    \"\"\"\n",
    "\n",
    "    def __init__(self, hour=7):\n",
    "        # a list of Customer objects\n",
    "        self.customers = []\n",
    "        self.new_cust = []\n",
    "        self.minutes = 0\n",
    "        self.current_time = 0\n",
    "        self.data = pd.DataFrame()\n",
    "        self.time = 0\n",
    "        self.timestamps = []\n",
    "        #self.hour = hour\n",
    "        if hour < 7:\n",
    "            self.hour = 7\n",
    "        elif hour > 21:\n",
    "            self.hour = 21\n",
    "        else:\n",
    "            self.hour = hour\n",
    "        \n",
    "        \n",
    "    def __repr__(self):\n",
    "        return f'Supermarket(\"{self.customers}\", \"{self.current_time}\")'\n",
    "    \n",
    "    \n",
    "    def get_time(self):\n",
    "        \"\"\"current time in HH:MM format.\n",
    "        \"\"\"\n",
    "        \n",
    "        minutes = self.minutes\n",
    "        self.current_time = f'{str(self.hour).zfill(2)}:{str(minutes).zfill(2)}'\n",
    "        return self.current_time\n",
    "    \n",
    "    \n",
    "    def timeline(self):\n",
    "        \"\"\"add current time in HH:MM format to list in time.\n",
    "        \"\"\"\n",
    "        \n",
    "        #self.current_time = self.get_time()\n",
    "        self.get_time()\n",
    "        self.timestamps.append(self.current_time)\n",
    "        \n",
    "        \n",
    "    def print_customers(self):\n",
    "        \"\"\"prints list with all active customers.\n",
    "        \"\"\"\n",
    "        \n",
    "        return self.customers\n",
    "        \n",
    "        \n",
    "    def next_minute(self):\n",
    "        \"\"\"propagates all customers to the next state.\n",
    "        \"\"\"\n",
    "        \n",
    "        self.minutes += 1\n",
    "        self.move_customers()\n",
    "        self.add_new_customers()\n",
    "        self.remove_existing_customers()\n",
    "        self.timeline()\n",
    "    \n",
    "    \n",
    "    def move_customers(self):\n",
    "        \"\"\"moves existing customers within the supermarket.\n",
    "        \"\"\"\n",
    "        for cust in self.customers:\n",
    "            cust.next_state()\n",
    "\n",
    "            \n",
    "    def add_new_customers(self):\n",
    "        \"\"\"randomly creates new customers.\n",
    "        \"\"\"\n",
    "        \n",
    "        fake = Faker()\n",
    "        self.get_time()\n",
    "        if self.current_time[:2] == '07':\n",
    "            for i in range(3):\n",
    "                self.new_cust = (Customer(fake.name(), 'entrance', np.random.randint(1,500)))     ####### Add customer_id\n",
    "                self.customers.append(self.new_cust)\n",
    "        #elif:\n",
    "        else:\n",
    "            self.new_cust = (Customer(fake.name(), 'entrance', np.random.randint(1,500)))    ####### Add customer_id\n",
    "            self.customers.append(self.new_cust)\n",
    "        print (self.new_cust)\n",
    "\n",
    "        \n",
    "    def remove_existing_customers(self):\n",
    "        \"\"\"removes every customer that is not active any more.\n",
    "        \"\"\"\n",
    "        \n",
    "        for cust in self.customers:\n",
    "            if cust.state == 'checkout':\n",
    "                self.customers.remove(cust) #removes the first matching element (which is passed as an argument) from the list\n",
    "                print(f'Customer {cust.name} has been churned!')\n",
    "         \n",
    "        \n",
    "#     def write_all_cust(self):\n",
    "#         \"\"\"return history of customers.\n",
    "#         \"\"\"\n",
    "#         self.get_time()\n",
    "#         #self.current_time = self.get_time\n",
    "#         for cust in self.customers:\n",
    "#             self.data = pd.DataFrame.append(pd.Series(cust.name), pd.Series(cust.state), pd.Series(cust.budget), pd.Series(self.current_time))\n",
    "            \n",
    "            "
   ]
  },
  {
   "cell_type": "code",
   "execution_count": 4,
   "metadata": {},
   "outputs": [],
   "source": [
    "Market1=Supermarket()"
   ]
  },
  {
   "cell_type": "code",
   "execution_count": 5,
   "metadata": {},
   "outputs": [],
   "source": [
    "Market2=Supermarket(11)"
   ]
  },
  {
   "cell_type": "code",
   "execution_count": 6,
   "metadata": {},
   "outputs": [
    {
     "name": "stdout",
     "output_type": "stream",
     "text": [
      "Customer Marcus Hudson in entrance with $117.\n"
     ]
    }
   ],
   "source": [
    "Market1.next_minute()"
   ]
  },
  {
   "cell_type": "code",
   "execution_count": 7,
   "metadata": {},
   "outputs": [
    {
     "name": "stdout",
     "output_type": "stream",
     "text": [
      "Customer Chelsey Davis in entrance with $76.\n",
      "Customer Andre Trevino in entrance with $245.\n",
      "Customer Tammy Garner in entrance with $349.\n",
      "Customer Deborah Rivera in entrance with $31.\n",
      "Customer Russell Cohen has been churned!\n",
      "Customer Larry Ball has been churned!\n",
      "Customer Timothy Harvey in entrance with $384.\n",
      "Customer Kari Howard has been churned!\n",
      "Customer Mitchell Kelly has been churned!\n",
      "Customer Curtis Curry in entrance with $444.\n",
      "Customer Jessica Ayala has been churned!\n",
      "Customer Jonathan Joyce has been churned!\n",
      "Customer Michael Hartman in entrance with $148.\n",
      "Customer Marcus Hudson has been churned!\n",
      "Customer Zachary Richmond has been churned!\n",
      "Customer Brandon Hogan has been churned!\n",
      "Customer Lauren Jones in entrance with $387.\n",
      "Customer Candice Smith has been churned!\n",
      "Customer Shawn Martin in entrance with $251.\n",
      "Customer Brittany Boone has been churned!\n",
      "Customer Michael Hartman has been churned!\n"
     ]
    }
   ],
   "source": [
    "for i in range(1,10):\n",
    "    Market1.next_minute()"
   ]
  },
  {
   "cell_type": "code",
   "execution_count": 8,
   "metadata": {},
   "outputs": [
    {
     "name": "stdout",
     "output_type": "stream",
     "text": [
      "Customer Cheryl Ferrell in entrance with $417.\n",
      "Customer Joshua Harrison in entrance with $103.\n",
      "Customer Roy Richardson in entrance with $220.\n",
      "Customer Nathaniel Phillips in entrance with $404.\n",
      "Customer Joshua Harrison has been churned!\n",
      "Customer Travis Ramirez in entrance with $48.\n",
      "Customer Cheryl Ferrell has been churned!\n",
      "Customer Amy Benton in entrance with $440.\n",
      "Customer Heather Ellis in entrance with $472.\n",
      "Customer Nathaniel Phillips has been churned!\n",
      "Customer Lynn Clark in entrance with $445.\n",
      "Customer James Pena in entrance with $85.\n"
     ]
    }
   ],
   "source": [
    "for i in range(1,10):\n",
    "    Market2.next_minute()"
   ]
  },
  {
   "cell_type": "code",
   "execution_count": null,
   "metadata": {},
   "outputs": [],
   "source": [
    "Market1.print_customers()"
   ]
  },
  {
   "cell_type": "code",
   "execution_count": null,
   "metadata": {},
   "outputs": [],
   "source": [
    "Market1.timestamps"
   ]
  },
  {
   "cell_type": "code",
   "execution_count": null,
   "metadata": {},
   "outputs": [],
   "source": [
    "Market1.write_all_cust()"
   ]
  },
  {
   "cell_type": "code",
   "execution_count": null,
   "metadata": {},
   "outputs": [],
   "source": [
    "current_time = \"07:01\""
   ]
  },
  {
   "cell_type": "code",
   "execution_count": null,
   "metadata": {},
   "outputs": [],
   "source": [
    "current_time [:2]"
   ]
  },
  {
   "cell_type": "code",
   "execution_count": null,
   "metadata": {},
   "outputs": [],
   "source": [
    "t = current_time.datetime.strptime(\"%H:%M\")"
   ]
  },
  {
   "cell_type": "code",
   "execution_count": null,
   "metadata": {},
   "outputs": [],
   "source": [
    "if t.hour = 7:"
   ]
  },
  {
   "cell_type": "code",
   "execution_count": null,
   "metadata": {},
   "outputs": [],
   "source": []
  },
  {
   "cell_type": "code",
   "execution_count": null,
   "metadata": {},
   "outputs": [],
   "source": []
  }
 ],
 "metadata": {
  "kernelspec": {
   "display_name": "Python 3",
   "language": "python",
   "name": "python3"
  },
  "language_info": {
   "codemirror_mode": {
    "name": "ipython",
    "version": 3
   },
   "file_extension": ".py",
   "mimetype": "text/x-python",
   "name": "python",
   "nbconvert_exporter": "python",
   "pygments_lexer": "ipython3",
   "version": "3.8.5"
  }
 },
 "nbformat": 4,
 "nbformat_minor": 4
}
