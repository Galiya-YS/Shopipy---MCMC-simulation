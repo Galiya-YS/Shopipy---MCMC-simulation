{
 "cells": [
  {
   "cell_type": "code",
   "execution_count": 1,
   "metadata": {},
   "outputs": [],
   "source": [
    "import pandas as pd\n",
    "import numpy as np\n",
    "import time\n",
    "import datetime\n",
    "from faker import Faker\n",
    "from CustClass_full import Customer"
   ]
  },
  {
   "cell_type": "code",
   "execution_count": 2,
   "metadata": {},
   "outputs": [],
   "source": [
    "#import transition_matrix\n",
    "transition_matrix = pd.read_csv(\"data/transition_matrix.csv\", index_col=0)"
   ]
  },
  {
   "cell_type": "code",
   "execution_count": 15,
   "metadata": {},
   "outputs": [],
   "source": [
    "class Supermarket:\n",
    "    \"\"\"manages multiple Customer instances that are currently in the market.\n",
    "    \"\"\"\n",
    "\n",
    "    def __init__(self, hour=7):        \n",
    "        # a list of Customer objects\n",
    "        self.customers = []\n",
    "        self.minutes = 0\n",
    "        self.current_time = 0\n",
    "        self.data = pd.DataFrame()\n",
    "        self.time = 0\n",
    "        self.timestamps = []\n",
    "        self.hour = hour\n",
    "\n",
    "        \n",
    "    def __repr__(self):\n",
    "        return f'Supermarket(\"{self.customers}\", \"{self.current_time}\")'\n",
    "\n",
    "    \n",
    "    def get_time(self):\n",
    "        \"\"\"current time in HH:MM format.\n",
    "        \"\"\"\n",
    "        \n",
    "        hour = self.hour\n",
    "        minutes = self.minutes\n",
    "        self.time = f'{str(hour).zfill(2)}:{str(minutes).zfill(2)}'\n",
    "        return self.time\n",
    "    \n",
    "    \n",
    "    def timeline(self):\n",
    "        \"\"\"add current time in HH:MM format to list in time.\n",
    "        \"\"\"\n",
    "        \n",
    "        self.current_time = self.get_time()\n",
    "        self.timestamps.append(self.current_time)\n",
    "        \n",
    "        \n",
    "    def print_customers(self):\n",
    "        \"\"\"prints list with all active customers.\n",
    "        \"\"\"\n",
    "        \n",
    "        return self.customers\n",
    "        \n",
    "        \n",
    "    def next_minute(self):\n",
    "        \"\"\"propagates all customers to the next state.\n",
    "        \"\"\"\n",
    "\n",
    "        self.minutes += 1\n",
    "\n",
    "        self.move_customers()\n",
    "        self.add_new_customers()\n",
    "        self.remove_existing_customers()\n",
    "        self.timeline()\n",
    "    \n",
    "    \n",
    "    def move_customers(self):\n",
    "        \"\"\"moves existing customers within the supermarket.\n",
    "        \"\"\"\n",
    "        for cust in self.customers:\n",
    "            cust.next_state()\n",
    "\n",
    "            \n",
    "    def add_new_customers(self):\n",
    "        \"\"\"randomly creates new customers.\n",
    "        \"\"\"\n",
    "        \n",
    "        fake = Faker()\n",
    "        self.customers.append(Customer(fake.name(), 'entrance', np.random.randint(1,500))) ####### Add customer_id\n",
    "        return self.customers\n",
    "\n",
    "        \n",
    "    def remove_existing_customers(self):\n",
    "        \"\"\"removes every customer that is not active any more.\n",
    "        \"\"\"\n",
    "        \n",
    "        for cust in self.customers:\n",
    "            if cust.state == 'checkout':\n",
    "                self.customers.remove(cust) #removes the first matching element (which is passed as an argument) from the list\n",
    "                print(f'Customer {cust.name} has been churned!')\n",
    "         \n",
    "        \n",
    "#     def write_all_cust(self):\n",
    "#         \"\"\"return history of customers.\n",
    "#         \"\"\"\n",
    "        \n",
    "#         self.current_time = self.get_time\n",
    "#         for cust in self.customers:\n",
    "#             self.data = pd.DataFrame.append(pd.Series(cust.name), pd.Series(cust.state), pd.Series(cust.budget), pd.Series(self.current_time))\n",
    "            \n",
    "            "
   ]
  },
  {
   "cell_type": "code",
   "execution_count": 16,
   "metadata": {},
   "outputs": [],
   "source": [
    "Market1=Supermarket()"
   ]
  },
  {
   "cell_type": "code",
   "execution_count": 17,
   "metadata": {},
   "outputs": [],
   "source": [
    "Market1.next_minute()"
   ]
  },
  {
   "cell_type": "code",
   "execution_count": 18,
   "metadata": {},
   "outputs": [
    {
     "name": "stdout",
     "output_type": "stream",
     "text": [
      "Customer David Watson has been churned!\n",
      "Customer Cheryl Peterson has been churned!\n",
      "Customer Claudia Brown has been churned!\n"
     ]
    }
   ],
   "source": [
    "for i in range(10):\n",
    "    Market1.next_minute()"
   ]
  },
  {
   "cell_type": "code",
   "execution_count": 19,
   "metadata": {},
   "outputs": [
    {
     "data": {
      "text/plain": [
       "[Customer Marcus Mcpherson in spices with $412 left, was in spices.,\n",
       " Customer Connor Hernandez in drinks with $134 left, was in drinks.,\n",
       " Customer Amanda White in dairy with $103 left, was in dairy.,\n",
       " Customer Felicia Graham in spices with $14 left, was in spices.,\n",
       " Customer Erica Mitchell in dairy with $481 left, was in dairy.,\n",
       " Customer Mary Myers in dairy with $415 left, was in dairy.,\n",
       " Customer Rebecca Weber in fruit with $438 left, was in entrance.,\n",
       " Customer Timothy Rodriguez in entrance with $471.]"
      ]
     },
     "execution_count": 19,
     "metadata": {},
     "output_type": "execute_result"
    }
   ],
   "source": [
    "Market1.print_customers()"
   ]
  },
  {
   "cell_type": "code",
   "execution_count": 20,
   "metadata": {},
   "outputs": [
    {
     "data": {
      "text/plain": [
       "['07:01',\n",
       " '07:02',\n",
       " '07:03',\n",
       " '07:04',\n",
       " '07:05',\n",
       " '07:06',\n",
       " '07:07',\n",
       " '07:08',\n",
       " '07:09',\n",
       " '07:10',\n",
       " '07:11']"
      ]
     },
     "execution_count": 20,
     "metadata": {},
     "output_type": "execute_result"
    }
   ],
   "source": [
    "Market1.timestamps"
   ]
  },
  {
   "cell_type": "code",
   "execution_count": 21,
   "metadata": {},
   "outputs": [
    {
     "ename": "ValueError",
     "evalue": "The truth value of a Series is ambiguous. Use a.empty, a.bool(), a.item(), a.any() or a.all().",
     "output_type": "error",
     "traceback": [
      "\u001b[0;31m---------------------------------------------------------------------------\u001b[0m",
      "\u001b[0;31mValueError\u001b[0m                                Traceback (most recent call last)",
      "\u001b[0;32m<ipython-input-21-9991f18096f2>\u001b[0m in \u001b[0;36m<module>\u001b[0;34m\u001b[0m\n\u001b[0;32m----> 1\u001b[0;31m \u001b[0mMarket1\u001b[0m\u001b[0;34m.\u001b[0m\u001b[0mwrite_all_cust\u001b[0m\u001b[0;34m(\u001b[0m\u001b[0;34m)\u001b[0m\u001b[0;34m\u001b[0m\u001b[0;34m\u001b[0m\u001b[0m\n\u001b[0m",
      "\u001b[0;32m<ipython-input-15-492041f6bd15>\u001b[0m in \u001b[0;36mwrite_all_cust\u001b[0;34m(self)\u001b[0m\n\u001b[1;32m     87\u001b[0m         \u001b[0mself\u001b[0m\u001b[0;34m.\u001b[0m\u001b[0mcurrent_time\u001b[0m \u001b[0;34m=\u001b[0m \u001b[0mself\u001b[0m\u001b[0;34m.\u001b[0m\u001b[0mget_time\u001b[0m\u001b[0;34m\u001b[0m\u001b[0;34m\u001b[0m\u001b[0m\n\u001b[1;32m     88\u001b[0m         \u001b[0;32mfor\u001b[0m \u001b[0mcust\u001b[0m \u001b[0;32min\u001b[0m \u001b[0mself\u001b[0m\u001b[0;34m.\u001b[0m\u001b[0mcustomers\u001b[0m\u001b[0;34m:\u001b[0m\u001b[0;34m\u001b[0m\u001b[0;34m\u001b[0m\u001b[0m\n\u001b[0;32m---> 89\u001b[0;31m             \u001b[0mself\u001b[0m\u001b[0;34m.\u001b[0m\u001b[0mdata\u001b[0m \u001b[0;34m=\u001b[0m \u001b[0mpd\u001b[0m\u001b[0;34m.\u001b[0m\u001b[0mDataFrame\u001b[0m\u001b[0;34m.\u001b[0m\u001b[0mappend\u001b[0m\u001b[0;34m(\u001b[0m\u001b[0mpd\u001b[0m\u001b[0;34m.\u001b[0m\u001b[0mSeries\u001b[0m\u001b[0;34m(\u001b[0m\u001b[0mcust\u001b[0m\u001b[0;34m.\u001b[0m\u001b[0mname\u001b[0m\u001b[0;34m)\u001b[0m\u001b[0;34m,\u001b[0m \u001b[0mpd\u001b[0m\u001b[0;34m.\u001b[0m\u001b[0mSeries\u001b[0m\u001b[0;34m(\u001b[0m\u001b[0mcust\u001b[0m\u001b[0;34m.\u001b[0m\u001b[0mstate\u001b[0m\u001b[0;34m)\u001b[0m\u001b[0;34m,\u001b[0m \u001b[0mpd\u001b[0m\u001b[0;34m.\u001b[0m\u001b[0mSeries\u001b[0m\u001b[0;34m(\u001b[0m\u001b[0mcust\u001b[0m\u001b[0;34m.\u001b[0m\u001b[0mbudget\u001b[0m\u001b[0;34m)\u001b[0m\u001b[0;34m,\u001b[0m \u001b[0mpd\u001b[0m\u001b[0;34m.\u001b[0m\u001b[0mSeries\u001b[0m\u001b[0;34m(\u001b[0m\u001b[0mself\u001b[0m\u001b[0;34m.\u001b[0m\u001b[0mcurrent_time\u001b[0m\u001b[0;34m)\u001b[0m\u001b[0;34m)\u001b[0m\u001b[0;34m\u001b[0m\u001b[0;34m\u001b[0m\u001b[0m\n\u001b[0m\u001b[1;32m     90\u001b[0m \u001b[0;34m\u001b[0m\u001b[0m\n\u001b[1;32m     91\u001b[0m \u001b[0;34m\u001b[0m\u001b[0m\n",
      "\u001b[0;32m~/.local/lib/python3.8/site-packages/pandas/core/frame.py\u001b[0m in \u001b[0;36mappend\u001b[0;34m(self, other, ignore_index, verify_integrity, sort)\u001b[0m\n\u001b[1;32m   7711\u001b[0m                     \u001b[0;32mraise\u001b[0m \u001b[0mTypeError\u001b[0m\u001b[0;34m(\u001b[0m\u001b[0;34m\"Can only append a dict if ignore_index=True\"\u001b[0m\u001b[0;34m)\u001b[0m\u001b[0;34m\u001b[0m\u001b[0;34m\u001b[0m\u001b[0m\n\u001b[1;32m   7712\u001b[0m                 \u001b[0mother\u001b[0m \u001b[0;34m=\u001b[0m \u001b[0mSeries\u001b[0m\u001b[0;34m(\u001b[0m\u001b[0mother\u001b[0m\u001b[0;34m)\u001b[0m\u001b[0;34m\u001b[0m\u001b[0;34m\u001b[0m\u001b[0m\n\u001b[0;32m-> 7713\u001b[0;31m             \u001b[0;32mif\u001b[0m \u001b[0mother\u001b[0m\u001b[0;34m.\u001b[0m\u001b[0mname\u001b[0m \u001b[0;32mis\u001b[0m \u001b[0;32mNone\u001b[0m \u001b[0;32mand\u001b[0m \u001b[0;32mnot\u001b[0m \u001b[0mignore_index\u001b[0m\u001b[0;34m:\u001b[0m\u001b[0;34m\u001b[0m\u001b[0;34m\u001b[0m\u001b[0m\n\u001b[0m\u001b[1;32m   7714\u001b[0m                 raise TypeError(\n\u001b[1;32m   7715\u001b[0m                     \u001b[0;34m\"Can only append a Series if ignore_index=True \"\u001b[0m\u001b[0;34m\u001b[0m\u001b[0;34m\u001b[0m\u001b[0m\n",
      "\u001b[0;32m~/.local/lib/python3.8/site-packages/pandas/core/generic.py\u001b[0m in \u001b[0;36m__nonzero__\u001b[0;34m(self)\u001b[0m\n\u001b[1;32m   1327\u001b[0m \u001b[0;34m\u001b[0m\u001b[0m\n\u001b[1;32m   1328\u001b[0m     \u001b[0;32mdef\u001b[0m \u001b[0m__nonzero__\u001b[0m\u001b[0;34m(\u001b[0m\u001b[0mself\u001b[0m\u001b[0;34m)\u001b[0m\u001b[0;34m:\u001b[0m\u001b[0;34m\u001b[0m\u001b[0;34m\u001b[0m\u001b[0m\n\u001b[0;32m-> 1329\u001b[0;31m         raise ValueError(\n\u001b[0m\u001b[1;32m   1330\u001b[0m             \u001b[0;34mf\"The truth value of a {type(self).__name__} is ambiguous. \"\u001b[0m\u001b[0;34m\u001b[0m\u001b[0;34m\u001b[0m\u001b[0m\n\u001b[1;32m   1331\u001b[0m             \u001b[0;34m\"Use a.empty, a.bool(), a.item(), a.any() or a.all().\"\u001b[0m\u001b[0;34m\u001b[0m\u001b[0;34m\u001b[0m\u001b[0m\n",
      "\u001b[0;31mValueError\u001b[0m: The truth value of a Series is ambiguous. Use a.empty, a.bool(), a.item(), a.any() or a.all()."
     ]
    }
   ],
   "source": [
    "Market1.write_all_cust()"
   ]
  },
  {
   "cell_type": "code",
   "execution_count": null,
   "metadata": {},
   "outputs": [],
   "source": []
  },
  {
   "cell_type": "code",
   "execution_count": null,
   "metadata": {},
   "outputs": [],
   "source": []
  },
  {
   "cell_type": "code",
   "execution_count": null,
   "metadata": {},
   "outputs": [],
   "source": []
  },
  {
   "cell_type": "code",
   "execution_count": null,
   "metadata": {},
   "outputs": [],
   "source": []
  },
  {
   "cell_type": "code",
   "execution_count": null,
   "metadata": {},
   "outputs": [],
   "source": []
  }
 ],
 "metadata": {
  "kernelspec": {
   "display_name": "Python 3",
   "language": "python",
   "name": "python3"
  },
  "language_info": {
   "codemirror_mode": {
    "name": "ipython",
    "version": 3
   },
   "file_extension": ".py",
   "mimetype": "text/x-python",
   "name": "python",
   "nbconvert_exporter": "python",
   "pygments_lexer": "ipython3",
   "version": "3.8.5"
  }
 },
 "nbformat": 4,
 "nbformat_minor": 4
}
