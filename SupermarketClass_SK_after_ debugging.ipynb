{
 "cells": [
  {
   "cell_type": "code",
   "execution_count": 7,
   "metadata": {},
   "outputs": [],
   "source": [
    "import pandas as pd\n",
    "import numpy as np\n",
    "import time\n",
    "import datetime\n",
    "from faker import Faker\n",
    "from CustClass_full import Customer"
   ]
  },
  {
   "cell_type": "code",
   "execution_count": 8,
   "metadata": {},
   "outputs": [],
   "source": [
    "#import transition_matrix\n",
    "transition_matrix = pd.read_csv(\"data/transition_matrix.csv\", index_col=0)"
   ]
  },
  {
   "cell_type": "code",
   "execution_count": 9,
   "metadata": {},
   "outputs": [],
   "source": [
    "class Supermarket:\n",
    "    \"\"\"manages multiple Customer instances that are currently in the market.\n",
    "    \"\"\"\n",
    "\n",
    "    def __init__(self, hour=7):\n",
    "        # a list of Customer objects\n",
    "        self.customers = []\n",
    "        self.new_cust = []\n",
    "        self.c_id = 0\n",
    "        self.minutes = 0\n",
    "        self.current_time = 0\n",
    "        self.data = []\n",
    "        self.timestamps = []\n",
    "        #self.hour = hour\n",
    "        if hour < 7:\n",
    "            self.hour = 7\n",
    "        elif hour > 21:\n",
    "            self.hour = 21\n",
    "        else:\n",
    "            self.hour = hour\n",
    "        \n",
    "        \n",
    "    def __repr__(self):\n",
    "        return f'Supermarket(\"{self.customers}\", \"{self.current_time}\")'\n",
    "    \n",
    "    \n",
    "    def get_time(self):\n",
    "        \"\"\"current time in HH:MM format.\n",
    "        \"\"\"\n",
    "        \n",
    "        minutes = self.minutes\n",
    "        self.current_time = f'{str(self.hour).zfill(2)}:{str(minutes).zfill(2)}'\n",
    "        return self.current_time\n",
    "    \n",
    "    \n",
    "    def timeline(self):\n",
    "        \"\"\"add current time in HH:MM format to list in time.\n",
    "        \"\"\"\n",
    "        \n",
    "        #self.current_time = self.get_time()\n",
    "        self.get_time()\n",
    "        self.timestamps.append(self.current_time)\n",
    "        \n",
    "        \n",
    "    def print_customers(self):\n",
    "        \"\"\"prints list with all active customers.\n",
    "        \"\"\"\n",
    "        \n",
    "        return self.customers\n",
    "        \n",
    "        \n",
    "    def next_minute(self):\n",
    "        \"\"\"propagates all customers to the next state.\n",
    "        \"\"\"\n",
    "        \n",
    "        self.minutes += 1\n",
    "        self.move_customers()\n",
    "        self.add_new_customers()\n",
    "        self.write_all_cust()\n",
    "        self.remove_existing_customers()\n",
    "        self.timeline()\n",
    "    \n",
    "    \n",
    "    def move_customers(self):\n",
    "        \"\"\"moves existing customers within the supermarket.\n",
    "        \"\"\"\n",
    "        for cust in self.customers:\n",
    "            cust.next_state()\n",
    "\n",
    "            \n",
    "    def add_new_customers(self):\n",
    "        \"\"\"randomly creates new customers.\n",
    "        \"\"\"\n",
    "        \n",
    "        fake = Faker()\n",
    "        self.get_time()\n",
    "        if self.current_time[:2] == '07':\n",
    "            for i in range(3):\n",
    "                self.c_id += 1\n",
    "                self.new_cust = Customer(self.c_id, fake.name(), 'entrance', np.random.randint(1,500))  \n",
    "                self.customers.append(self.new_cust)\n",
    "        #elif:\n",
    "        else:\n",
    "            self.c_id += 1\n",
    "            self.new_cust = Customer(self.c_id,fake.name(), 'entrance', np.random.randint(1,500))   \n",
    "            self.customers.append(self.new_cust)\n",
    "        print (self.new_cust)\n",
    "\n",
    "        \n",
    "    def remove_existing_customers(self):\n",
    "        \"\"\"removes every customer that is not active any more.\n",
    "        \"\"\"\n",
    "        \n",
    "        for cust in self.customers:\n",
    "            if cust.state == 'checkout':\n",
    "                self.customers.remove(cust) #removes the first matching element (which is passed as an argument) from the list\n",
    "                print(f'Customer {cust.name} has been churned!')\n",
    "         \n",
    "        \n",
    "    def write_all_cust(self):\n",
    "        for cust in self.customers:\n",
    "            self.data.append([cust.c_id, cust.name, cust.state, cust.budget, self.get_time()])\n",
    "            "
   ]
  },
  {
   "cell_type": "code",
   "execution_count": 10,
   "metadata": {},
   "outputs": [],
   "source": [
    "Market1=Supermarket()"
   ]
  },
  {
   "cell_type": "code",
   "execution_count": 11,
   "metadata": {},
   "outputs": [],
   "source": [
    "Market2=Supermarket(11)"
   ]
  },
  {
   "cell_type": "code",
   "execution_count": 12,
   "metadata": {},
   "outputs": [
    {
     "name": "stdout",
     "output_type": "stream",
     "text": [
      "Customer Emily Boyd in entrance with $30.\n"
     ]
    }
   ],
   "source": [
    "Market2.next_minute()"
   ]
  },
  {
   "cell_type": "code",
   "execution_count": null,
   "metadata": {},
   "outputs": [],
   "source": [
    "for i in range(1,10):\n",
    "    Market1.next_minute()"
   ]
  },
  {
   "cell_type": "code",
   "execution_count": 13,
   "metadata": {},
   "outputs": [
    {
     "name": "stdout",
     "output_type": "stream",
     "text": [
      "Customer Veronica Valdez in entrance with $361.\n",
      "Customer Jordan Harmon in entrance with $3.\n",
      "Customer Julie Garcia in entrance with $425.\n",
      "Customer Rebekah Jenkins in entrance with $26.\n",
      "Customer Gregory Mcneil in entrance with $401.\n",
      "Customer Veronica Valdez has been churned!\n",
      "Customer Mark Casey in entrance with $142.\n",
      "Customer Marco Bradley in entrance with $125.\n",
      "Customer Jordan Harmon has been churned!\n",
      "Customer Brandi Carroll in entrance with $307.\n",
      "Customer Julie Garcia has been churned!\n",
      "Customer Michael Harvey in entrance with $150.\n",
      "Customer Mark Casey has been churned!\n"
     ]
    }
   ],
   "source": [
    "for i in range(1,10):\n",
    "    Market2.next_minute()"
   ]
  },
  {
   "cell_type": "code",
   "execution_count": 14,
   "metadata": {},
   "outputs": [
    {
     "data": {
      "text/plain": [
       "[[1, 'Emily Boyd', 'entrance', 30, '11:01'],\n",
       " [1, 'Emily Boyd', 'fruit', 26, '11:02'],\n",
       " [2, 'Veronica Valdez', 'entrance', 361, '11:02'],\n",
       " [1, 'Emily Boyd', 'fruit', 22, '11:03'],\n",
       " [2, 'Veronica Valdez', 'drinks', 355, '11:03'],\n",
       " [3, 'Jordan Harmon', 'entrance', 3, '11:03'],\n",
       " [1, 'Emily Boyd', 'fruit', 18, '11:04'],\n",
       " [2, 'Veronica Valdez', 'fruit', 351, '11:04'],\n",
       " [3, 'Jordan Harmon', 'drinks', -3, '11:04'],\n",
       " [4, 'Julie Garcia', 'entrance', 425, '11:04'],\n",
       " [1, 'Emily Boyd', 'drinks', 12, '11:05'],\n",
       " [2, 'Veronica Valdez', 'fruit', 347, '11:05'],\n",
       " [3, 'Jordan Harmon', 'spices', -6, '11:05'],\n",
       " [4, 'Julie Garcia', 'drinks', 419, '11:05'],\n",
       " [5, 'Rebekah Jenkins', 'entrance', 26, '11:05'],\n",
       " [1, 'Emily Boyd', 'drinks', 6, '11:06'],\n",
       " [2, 'Veronica Valdez', 'checkout', 347, '11:06'],\n",
       " [3, 'Jordan Harmon', 'spices', -9, '11:06'],\n",
       " [4, 'Julie Garcia', 'drinks', 413, '11:06'],\n",
       " [5, 'Rebekah Jenkins', 'spices', 23, '11:06'],\n",
       " [6, 'Gregory Mcneil', 'entrance', 401, '11:06'],\n",
       " [1, 'Emily Boyd', 'fruit', 2, '11:07'],\n",
       " [3, 'Jordan Harmon', 'drinks', -15, '11:07'],\n",
       " [4, 'Julie Garcia', 'spices', 410, '11:07'],\n",
       " [5, 'Rebekah Jenkins', 'drinks', 17, '11:07'],\n",
       " [6, 'Gregory Mcneil', 'fruit', 397, '11:07'],\n",
       " [7, 'Mark Casey', 'entrance', 142, '11:07'],\n",
       " [1, 'Emily Boyd', 'dairy', -3, '11:08'],\n",
       " [3, 'Jordan Harmon', 'checkout', -15, '11:08'],\n",
       " [4, 'Julie Garcia', 'drinks', 404, '11:08'],\n",
       " [5, 'Rebekah Jenkins', 'drinks', 11, '11:08'],\n",
       " [6, 'Gregory Mcneil', 'fruit', 393, '11:08'],\n",
       " [7, 'Mark Casey', 'dairy', 137, '11:08'],\n",
       " [8, 'Marco Bradley', 'entrance', 125, '11:08'],\n",
       " [1, 'Emily Boyd', 'fruit', -7, '11:09'],\n",
       " [4, 'Julie Garcia', 'checkout', 404, '11:09'],\n",
       " [5, 'Rebekah Jenkins', 'drinks', 5, '11:09'],\n",
       " [6, 'Gregory Mcneil', 'fruit', 389, '11:09'],\n",
       " [7, 'Mark Casey', 'drinks', 131, '11:09'],\n",
       " [8, 'Marco Bradley', 'fruit', 121, '11:09'],\n",
       " [9, 'Brandi Carroll', 'entrance', 307, '11:09'],\n",
       " [1, 'Emily Boyd', 'fruit', -11, '11:10'],\n",
       " [5, 'Rebekah Jenkins', 'dairy', 0, '11:10'],\n",
       " [6, 'Gregory Mcneil', 'fruit', 385, '11:10'],\n",
       " [7, 'Mark Casey', 'checkout', 131, '11:10'],\n",
       " [8, 'Marco Bradley', 'fruit', 117, '11:10'],\n",
       " [9, 'Brandi Carroll', 'dairy', 302, '11:10'],\n",
       " [10, 'Michael Harvey', 'entrance', 150, '11:10']]"
      ]
     },
     "execution_count": 14,
     "metadata": {},
     "output_type": "execute_result"
    }
   ],
   "source": [
    "Market2.data"
   ]
  },
  {
   "cell_type": "code",
   "execution_count": null,
   "metadata": {},
   "outputs": [],
   "source": [
    "our_sm = pd.DataFrame.from_records(Market1.data, columns=['cust_id', 'cust_name', 'cust_state', 'budget', 'timestamp'])"
   ]
  },
  {
   "cell_type": "code",
   "execution_count": null,
   "metadata": {},
   "outputs": [],
   "source": [
    "our_sm"
   ]
  },
  {
   "cell_type": "code",
   "execution_count": null,
   "metadata": {},
   "outputs": [],
   "source": [
    "Market1.print_customers()"
   ]
  },
  {
   "cell_type": "code",
   "execution_count": null,
   "metadata": {},
   "outputs": [],
   "source": [
    "Market1.timestamps"
   ]
  },
  {
   "cell_type": "code",
   "execution_count": null,
   "metadata": {},
   "outputs": [],
   "source": [
    "Market1.write_all_cust()"
   ]
  },
  {
   "cell_type": "code",
   "execution_count": null,
   "metadata": {},
   "outputs": [],
   "source": [
    "current_time = \"07:01\""
   ]
  },
  {
   "cell_type": "code",
   "execution_count": null,
   "metadata": {},
   "outputs": [],
   "source": [
    "current_time [:2]"
   ]
  },
  {
   "cell_type": "code",
   "execution_count": null,
   "metadata": {},
   "outputs": [],
   "source": [
    "t = current_time.datetime.strptime(\"%H:%M\")"
   ]
  },
  {
   "cell_type": "code",
   "execution_count": null,
   "metadata": {},
   "outputs": [],
   "source": [
    "if t.hour = 7:"
   ]
  },
  {
   "cell_type": "code",
   "execution_count": null,
   "metadata": {},
   "outputs": [],
   "source": []
  },
  {
   "cell_type": "code",
   "execution_count": null,
   "metadata": {},
   "outputs": [],
   "source": []
  }
 ],
 "metadata": {
  "kernelspec": {
   "display_name": "Python 3",
   "language": "python",
   "name": "python3"
  },
  "language_info": {
   "codemirror_mode": {
    "name": "ipython",
    "version": 3
   },
   "file_extension": ".py",
   "mimetype": "text/x-python",
   "name": "python",
   "nbconvert_exporter": "python",
   "pygments_lexer": "ipython3",
   "version": "3.8.5"
  }
 },
 "nbformat": 4,
 "nbformat_minor": 4
}
