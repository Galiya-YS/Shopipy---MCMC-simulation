{
 "cells": [
  {
   "cell_type": "code",
   "execution_count": 1,
   "metadata": {},
   "outputs": [],
   "source": [
    "import pandas as pd\n",
    "import numpy as np\n",
    "from faker import Faker"
   ]
  },
  {
   "cell_type": "code",
   "execution_count": 2,
   "metadata": {},
   "outputs": [],
   "source": [
    "#import transition_matrix\n",
    "transition_matrix = pd.read_csv(\"transition_matrix.csv\")\n",
    "transition_matrix.set_index(\"location\", inplace=True)\n",
    "transition_matrix['entrance'] = 0.0"
   ]
  },
  {
   "cell_type": "code",
   "execution_count": 3,
   "metadata": {},
   "outputs": [
    {
     "ename": "SyntaxError",
     "evalue": "invalid syntax (<ipython-input-3-ddd800ef9ed1>, line 1)",
     "output_type": "error",
     "traceback": [
      "\u001b[1;36m  File \u001b[1;32m\"<ipython-input-3-ddd800ef9ed1>\"\u001b[1;36m, line \u001b[1;32m1\u001b[0m\n\u001b[1;33m    from (.py) import Customer\u001b[0m\n\u001b[1;37m         ^\u001b[0m\n\u001b[1;31mSyntaxError\u001b[0m\u001b[1;31m:\u001b[0m invalid syntax\n"
     ]
    }
   ],
   "source": [
    "from (.py) import Customer\n"
   ]
  },
  {
   "cell_type": "code",
   "execution_count": 53,
   "metadata": {},
   "outputs": [],
   "source": [
    "fake = Faker()\n",
    "#fake.name()"
   ]
  },
  {
   "cell_type": "code",
   "execution_count": 13,
   "metadata": {},
   "outputs": [],
   "source": [
    "customers = [Customer( .., fake.name(), 'entrance', np.random.randint(1,500)) for i in range(20)]"
   ]
  },
  {
   "cell_type": "code",
   "execution_count": 14,
   "metadata": {},
   "outputs": [
    {
     "data": {
      "text/plain": [
       "[Customer Samantha Mullins in entrance with 396 $,\n",
       " Customer Jonathan Thomas in entrance with 89 $,\n",
       " Customer Lori Williams in entrance with 178 $,\n",
       " Customer Carrie Bass in entrance with 134 $,\n",
       " Customer Christina Waters in entrance with 487 $,\n",
       " Customer Cory Molina in entrance with 305 $,\n",
       " Customer Lindsey Garrison in entrance with 121 $,\n",
       " Customer Joseph Allen in entrance with 202 $,\n",
       " Customer William Williams in entrance with 444 $,\n",
       " Customer Destiny Wade in entrance with 419 $,\n",
       " Customer Nicole Jackson in entrance with 58 $,\n",
       " Customer Gabriel Phillips in entrance with 252 $,\n",
       " Customer Anthony Brown in entrance with 397 $,\n",
       " Customer Kenneth Watts in entrance with 8 $,\n",
       " Customer Leah Moore in entrance with 73 $,\n",
       " Customer Charles Costa in entrance with 128 $,\n",
       " Customer Karina Vincent in entrance with 238 $,\n",
       " Customer Michael Brown in entrance with 108 $,\n",
       " Customer Heidi Smith in entrance with 120 $,\n",
       " Customer Hunter Munoz in entrance with 195 $]"
      ]
     },
     "execution_count": 14,
     "metadata": {},
     "output_type": "execute_result"
    }
   ],
   "source": [
    "customers"
   ]
  },
  {
   "cell_type": "code",
   "execution_count": 19,
   "metadata": {},
   "outputs": [
    {
     "data": {
      "text/plain": [
       "Customer Samantha Mullins in entrance with 396 $"
      ]
     },
     "execution_count": 19,
     "metadata": {},
     "output_type": "execute_result"
    }
   ],
   "source": [
    "customers[0]"
   ]
  },
  {
   "cell_type": "code",
   "execution_count": 54,
   "metadata": {},
   "outputs": [],
   "source": [
    "class Customer:\n",
    "    ''' a single customer that moves through the supermarket in a MCMC simulation'''\n",
    "    \n",
    "    def __init__(self, name, state, c_id = 1, budget=np.random.randint(100,500, dtype=int)):\n",
    "        self.c_id = c_id\n",
    "        self.name = name\n",
    "        self.state = state\n",
    "        self.budget = budget\n",
    "        self.transition_matrix = transition_matrix\n",
    "        self.hist = [self.state]\n",
    "        self.money = [self.budget]\n",
    "    \n",
    "    def __repr__(self):\n",
    "        if self.hist[-1] == 'entrance' or self.hist[-1] == 'checkout':\n",
    "            return  f'Customer {self.name} in {self.state} with {self.budget} $'\n",
    "        else:\n",
    "            return f'Customer {self.name} in {self.state} with {self.budget} $ left, was in {self.hist[-2]}'\n",
    "    \n",
    "    def is_active(self):\n",
    "        \"\"\"\n",
    "        Returns True if the customer has not reached the checkout\n",
    "        for the second time yet, False otherwise.\n",
    "        \"\"\"\n",
    "        if self.state == 'checkout':\n",
    "            return f'Customer {self.name} has been churned and spent {cust1.money[0] - cust1.money[-1]}$!'\n",
    "        else:\n",
    "            return f'Customer {self.name} is still active.'\n",
    "        \n",
    "    \n",
    "    def next_state(self):\n",
    "        '''\n",
    "        Propagates the customer to the next state.\n",
    "        '''\n",
    "\n",
    "        next_loc = np.random.choice(self.transition_matrix.columns.values, p=self.transition_matrix.loc[self.state])\n",
    "        #p = Probs\n",
    "        \n",
    "        #hard coded the revenue\n",
    "        if next_loc == 'fruit':\n",
    "            self.budget -= 4\n",
    "        elif next_loc == 'spices':\n",
    "            self.budget -= 3\n",
    "        elif next_loc == 'dairy':\n",
    "            self.budget -= 5\n",
    "        elif next_loc == 'drinks':\n",
    "            self.budget -= 6\n",
    "        \n",
    "        #list for 'path-history'\n",
    "        self.state = next_loc\n",
    "        self.hist.append(self.state)\n",
    "        \n",
    "        #list for money spend\n",
    "        self.budget = self.budget\n",
    "        self.money.append(self.budget)"
   ]
  },
  {
   "cell_type": "code",
   "execution_count": 76,
   "metadata": {},
   "outputs": [],
   "source": [
    "class Supermarket:\n",
    "    \"\"\"manages multiple Customer instances that are currently in the market.\n",
    "    \"\"\"\n",
    "\n",
    "    def __init__(self, hour=7):        \n",
    "        # a list of Customer objects\n",
    "        self.customers = []\n",
    "        self.minutes = 0\n",
    "        self.current_time = 0\n",
    "        self.data = pd.DataFrame()\n",
    "        self.timestamp = []\n",
    "        self.time = time #open\n",
    "        self.hour = hour\n",
    "\n",
    "    def __repr__(self):\n",
    "        return f'Supermarket(\"{self.customers}\", \"{self.current_time}\")'\n",
    "\n",
    "    def get_time(self):\n",
    "        \"\"\"current time in HH:MM format,\n",
    "        \"\"\"\n",
    "        #self.time = time.strftime(\"%H:%M:%S\") #current time\n",
    "        \n",
    "        #the supermarket opens at 7\n",
    "        hour = self.hour\n",
    "        minutes = self.minutes\n",
    "        return f'{str(hour)}:{str(minutes)}'\n",
    "        \n",
    "        self.timestamp.append(f'{str(hour)}:{str(minutes)}')\n",
    "        \n",
    "        \n",
    "    def print_customers(self):\n",
    "        \"\"\"print all customers with the current time and id in CSV format.\n",
    "        \"\"\"\n",
    "        self.current_time = self.get_time()\n",
    "        return f'Supermarket(\"{self.customers}\", \"{self.current_time}\")'\n",
    "        \n",
    "    def next_minute(self):\n",
    "        \"\"\"propagates all customers to the next state.\n",
    "        \"\"\"\n",
    "\n",
    "        self.minutes += 1\n",
    "\n",
    "        self.move_customers()\n",
    "        self.add_new_customers()\n",
    "        self.remove_existing_customers()\n",
    "        return self.customers\n",
    "    \n",
    "    \n",
    "    def move_customers(self):\n",
    "        for cust in self.customers:\n",
    "            cust.next_state()\n",
    "            \n",
    "    def add_new_customers(self):\n",
    "        \"\"\"randomly creates new customers.\n",
    "        \"\"\"\n",
    "        \n",
    "        self.customers.append(Customer(self.c_id, fake.name(), 'entrance', np.random.randint(1,500)))\n",
    "        \n",
    "\n",
    "    def remove_existing_customers(self):\n",
    "        \"\"\"removes every customer that is not active any more.\n",
    "        \"\"\"\n",
    "        for cust in self.customers:\n",
    "            if cust.state == 'checkout':\n",
    "                self.customers.remove(cust) #removes the first matching element (which is passed as an argument) from the list\n",
    "                print(f'Customer {cust.name} has been churned!')\n",
    "                \n",
    "    def write_all_cust(self):\n",
    "        for cust in self.customers:\n",
    "            self.data = pd.DataFrame.append(cust.name, cust.state, cust.budget, self.current_time)\n"
   ]
  },
  {
   "cell_type": "code",
   "execution_count": 77,
   "metadata": {},
   "outputs": [],
   "source": [
    "Supermarket1=Supermarket(7)"
   ]
  },
  {
   "cell_type": "code",
   "execution_count": 78,
   "metadata": {},
   "outputs": [
    {
     "data": {
      "text/plain": [
       "Supermarket(\"[]\", \"0\")"
      ]
     },
     "execution_count": 78,
     "metadata": {},
     "output_type": "execute_result"
    }
   ],
   "source": [
    "Supermarket1"
   ]
  },
  {
   "cell_type": "code",
   "execution_count": 75,
   "metadata": {},
   "outputs": [
    {
     "data": {
      "text/plain": [
       "<bound method Supermarket.add_new_customers of Supermarket(\"[]\", \"0\")>"
      ]
     },
     "execution_count": 75,
     "metadata": {},
     "output_type": "execute_result"
    }
   ],
   "source": [
    "Supermarket1.add_new_customers"
   ]
  },
  {
   "cell_type": "code",
   "execution_count": 23,
   "metadata": {},
   "outputs": [
    {
     "name": "stdout",
     "output_type": "stream",
     "text": [
      "<function Supermarket.write_all_cust at 0x000001C4DA5A6B80>\n"
     ]
    }
   ],
   "source": [
    "print(Supermarket.write_all_cust)"
   ]
  },
  {
   "cell_type": "code",
   "execution_count": 12,
   "metadata": {},
   "outputs": [
    {
     "name": "stdout",
     "output_type": "stream",
     "text": [
      "<class '__main__.Supermarket'>\n"
     ]
    }
   ],
   "source": [
    "print(Supermarket)"
   ]
  },
  {
   "cell_type": "code",
   "execution_count": null,
   "metadata": {},
   "outputs": [],
   "source": [
    "for i in customers: #move all customers\n",
    "    i.next_state()\n",
    "    if i.state == 'checkout':\n",
    "        print(f'Customer {i.name} has been churned!') #adding time?\n",
    "        customers.remove(i)\n",
    "    else:\n",
    "        print(i)\n",
    "    if len(customers) < 20: #new_customers\n",
    "            x = 20 - len(customers)\n",
    "            #new_cust = []\n",
    "            new_cust = ([Customer(fake.name(), 'entrance', np.random.randint(1,500)) for i in range(x)])\n",
    "            for c in new_cust:\n",
    "                customers.append(c)"
   ]
  },
  {
   "cell_type": "code",
   "execution_count": 20,
   "metadata": {},
   "outputs": [
    {
     "name": "stdout",
     "output_type": "stream",
     "text": [
      "<class '__main__.Supermarket'>\n"
     ]
    }
   ],
   "source": [
    "print(Supermarket)"
   ]
  },
  {
   "cell_type": "code",
   "execution_count": 24,
   "metadata": {},
   "outputs": [
    {
     "ename": "NameError",
     "evalue": "name 'print_customers' is not defined",
     "output_type": "error",
     "traceback": [
      "\u001b[1;31m---------------------------------------------------------------------------\u001b[0m",
      "\u001b[1;31mNameError\u001b[0m                                 Traceback (most recent call last)",
      "\u001b[1;32m<ipython-input-24-fc83bb287393>\u001b[0m in \u001b[0;36m<module>\u001b[1;34m\u001b[0m\n\u001b[1;32m----> 1\u001b[1;33m \u001b[0mprint_customers\u001b[0m\u001b[1;33m(\u001b[0m\u001b[1;33m)\u001b[0m\u001b[1;33m\u001b[0m\u001b[1;33m\u001b[0m\u001b[0m\n\u001b[0m",
      "\u001b[1;31mNameError\u001b[0m: name 'print_customers' is not defined"
     ]
    }
   ],
   "source": [
    "print_customers()"
   ]
  },
  {
   "cell_type": "code",
   "execution_count": null,
   "metadata": {},
   "outputs": [],
   "source": [
    "    def add_new_customers(self, stop, id_suffix, terrain_map, image, x, y):\n",
    "        \"\"\"randomly creates new customers.\n",
    "        \"\"\"\n",
    "        for i in range(stop):\n",
    "            cust = Customer(str(i) + \"_\" + str(id_suffix), \"entrance\", transition_matrix,\n",
    "                            terrain_map=terrain_map, image=image, x=x, y=y)\n",
    "            self.customers.append(cust)\n",
    "\n",
    "        self.id_suffix += 1"
   ]
  },
  {
   "cell_type": "code",
   "execution_count": 5,
   "metadata": {},
   "outputs": [],
   "source": [
    "from faker import Faker"
   ]
  },
  {
   "cell_type": "code",
   "execution_count": null,
   "metadata": {},
   "outputs": [],
   "source": []
  },
  {
   "cell_type": "code",
   "execution_count": 29,
   "metadata": {},
   "outputs": [],
   "source": [
    "import datetime"
   ]
  },
  {
   "cell_type": "code",
   "execution_count": 33,
   "metadata": {},
   "outputs": [
    {
     "ename": "AssertionError",
     "evalue": "",
     "output_type": "error",
     "traceback": [
      "\u001b[1;31m---------------------------------------------------------------------------\u001b[0m",
      "\u001b[1;31mAssertionError\u001b[0m                            Traceback (most recent call last)",
      "\u001b[1;32m<ipython-input-33-4c79d30519fe>\u001b[0m in \u001b[0;36m<module>\u001b[1;34m\u001b[0m\n\u001b[1;32m----> 1\u001b[1;33m \u001b[0mpd\u001b[0m\u001b[1;33m.\u001b[0m\u001b[0mto_datetime\u001b[0m\u001b[1;33m(\u001b[0m\u001b[1;36m7\u001b[0m\u001b[1;33m,\u001b[0m \u001b[1;36m26\u001b[0m\u001b[1;33m)\u001b[0m\u001b[1;33m\u001b[0m\u001b[1;33m\u001b[0m\u001b[0m\n\u001b[0m",
      "\u001b[1;32mC:\\ProgramData\\Anaconda3\\lib\\site-packages\\pandas\\core\\tools\\datetimes.py\u001b[0m in \u001b[0;36mto_datetime\u001b[1;34m(arg, errors, dayfirst, yearfirst, utc, format, exact, unit, infer_datetime_format, origin, cache)\u001b[0m\n\u001b[0;32m    828\u001b[0m             \u001b[0mresult\u001b[0m \u001b[1;33m=\u001b[0m \u001b[0mconvert_listlike\u001b[0m\u001b[1;33m(\u001b[0m\u001b[0marg\u001b[0m\u001b[1;33m,\u001b[0m \u001b[0mformat\u001b[0m\u001b[1;33m)\u001b[0m\u001b[1;33m\u001b[0m\u001b[1;33m\u001b[0m\u001b[0m\n\u001b[0;32m    829\u001b[0m     \u001b[1;32melse\u001b[0m\u001b[1;33m:\u001b[0m\u001b[1;33m\u001b[0m\u001b[1;33m\u001b[0m\u001b[0m\n\u001b[1;32m--> 830\u001b[1;33m         \u001b[0mresult\u001b[0m \u001b[1;33m=\u001b[0m \u001b[0mconvert_listlike\u001b[0m\u001b[1;33m(\u001b[0m\u001b[0mnp\u001b[0m\u001b[1;33m.\u001b[0m\u001b[0marray\u001b[0m\u001b[1;33m(\u001b[0m\u001b[1;33m[\u001b[0m\u001b[0marg\u001b[0m\u001b[1;33m]\u001b[0m\u001b[1;33m)\u001b[0m\u001b[1;33m,\u001b[0m \u001b[0mformat\u001b[0m\u001b[1;33m)\u001b[0m\u001b[1;33m[\u001b[0m\u001b[1;36m0\u001b[0m\u001b[1;33m]\u001b[0m\u001b[1;33m\u001b[0m\u001b[1;33m\u001b[0m\u001b[0m\n\u001b[0m\u001b[0;32m    831\u001b[0m \u001b[1;33m\u001b[0m\u001b[0m\n\u001b[0;32m    832\u001b[0m     \u001b[1;32mreturn\u001b[0m \u001b[0mresult\u001b[0m\u001b[1;33m\u001b[0m\u001b[1;33m\u001b[0m\u001b[0m\n",
      "\u001b[1;32mC:\\ProgramData\\Anaconda3\\lib\\site-packages\\pandas\\core\\tools\\datetimes.py\u001b[0m in \u001b[0;36m_convert_listlike_datetimes\u001b[1;34m(arg, format, name, tz, unit, errors, infer_datetime_format, dayfirst, yearfirst, exact)\u001b[0m\n\u001b[0;32m    457\u001b[0m         \u001b[1;32massert\u001b[0m \u001b[0mformat\u001b[0m \u001b[1;32mis\u001b[0m \u001b[1;32mNone\u001b[0m \u001b[1;32mor\u001b[0m \u001b[0minfer_datetime_format\u001b[0m\u001b[1;33m\u001b[0m\u001b[1;33m\u001b[0m\u001b[0m\n\u001b[0;32m    458\u001b[0m         \u001b[0mutc\u001b[0m \u001b[1;33m=\u001b[0m \u001b[0mtz\u001b[0m \u001b[1;33m==\u001b[0m \u001b[1;34m\"utc\"\u001b[0m\u001b[1;33m\u001b[0m\u001b[1;33m\u001b[0m\u001b[0m\n\u001b[1;32m--> 459\u001b[1;33m         result, tz_parsed = objects_to_datetime64ns(\n\u001b[0m\u001b[0;32m    460\u001b[0m             \u001b[0marg\u001b[0m\u001b[1;33m,\u001b[0m\u001b[1;33m\u001b[0m\u001b[1;33m\u001b[0m\u001b[0m\n\u001b[0;32m    461\u001b[0m             \u001b[0mdayfirst\u001b[0m\u001b[1;33m=\u001b[0m\u001b[0mdayfirst\u001b[0m\u001b[1;33m,\u001b[0m\u001b[1;33m\u001b[0m\u001b[1;33m\u001b[0m\u001b[0m\n",
      "\u001b[1;32mC:\\ProgramData\\Anaconda3\\lib\\site-packages\\pandas\\core\\arrays\\datetimes.py\u001b[0m in \u001b[0;36mobjects_to_datetime64ns\u001b[1;34m(data, dayfirst, yearfirst, utc, errors, require_iso8601, allow_object)\u001b[0m\n\u001b[0;32m   2036\u001b[0m     \u001b[0mValueError\u001b[0m \u001b[1;33m:\u001b[0m \u001b[1;32mif\u001b[0m \u001b[0mdata\u001b[0m \u001b[0mcannot\u001b[0m \u001b[0mbe\u001b[0m \u001b[0mconverted\u001b[0m \u001b[0mto\u001b[0m \u001b[0mdatetimes\u001b[0m\u001b[1;33m\u001b[0m\u001b[1;33m\u001b[0m\u001b[0m\n\u001b[0;32m   2037\u001b[0m     \"\"\"\n\u001b[1;32m-> 2038\u001b[1;33m     \u001b[1;32massert\u001b[0m \u001b[0merrors\u001b[0m \u001b[1;32min\u001b[0m \u001b[1;33m[\u001b[0m\u001b[1;34m\"raise\"\u001b[0m\u001b[1;33m,\u001b[0m \u001b[1;34m\"ignore\"\u001b[0m\u001b[1;33m,\u001b[0m \u001b[1;34m\"coerce\"\u001b[0m\u001b[1;33m]\u001b[0m\u001b[1;33m\u001b[0m\u001b[1;33m\u001b[0m\u001b[0m\n\u001b[0m\u001b[0;32m   2039\u001b[0m \u001b[1;33m\u001b[0m\u001b[0m\n\u001b[0;32m   2040\u001b[0m     \u001b[1;31m# if str-dtype, convert\u001b[0m\u001b[1;33m\u001b[0m\u001b[1;33m\u001b[0m\u001b[1;33m\u001b[0m\u001b[0m\n",
      "\u001b[1;31mAssertionError\u001b[0m: "
     ]
    }
   ],
   "source": [
    "datetitime(7, 26)"
   ]
  },
  {
   "cell_type": "code",
   "execution_count": 16,
   "metadata": {},
   "outputs": [
    {
     "data": {
      "text/plain": [
       "datetime.time(12, 39, 21, 112745)"
      ]
     },
     "execution_count": 16,
     "metadata": {},
     "output_type": "execute_result"
    }
   ],
   "source": [
    "datetime.datetime.now().time()"
   ]
  },
  {
   "cell_type": "code",
   "execution_count": 35,
   "metadata": {},
   "outputs": [],
   "source": [
    "import time"
   ]
  },
  {
   "cell_type": "code",
   "execution_count": 37,
   "metadata": {},
   "outputs": [
    {
     "ename": "TypeError",
     "evalue": "time() takes no arguments (2 given)",
     "output_type": "error",
     "traceback": [
      "\u001b[1;31m---------------------------------------------------------------------------\u001b[0m",
      "\u001b[1;31mTypeError\u001b[0m                                 Traceback (most recent call last)",
      "\u001b[1;32m<ipython-input-37-461f739acb20>\u001b[0m in \u001b[0;36m<module>\u001b[1;34m\u001b[0m\n\u001b[1;32m----> 1\u001b[1;33m \u001b[0mtime\u001b[0m\u001b[1;33m.\u001b[0m\u001b[0mtime\u001b[0m\u001b[1;33m(\u001b[0m\u001b[1;36m7\u001b[0m\u001b[1;33m,\u001b[0m \u001b[1;36m26\u001b[0m\u001b[1;33m)\u001b[0m\u001b[1;33m\u001b[0m\u001b[1;33m\u001b[0m\u001b[0m\n\u001b[0m",
      "\u001b[1;31mTypeError\u001b[0m: time() takes no arguments (2 given)"
     ]
    }
   ],
   "source": [
    "time.time(7, 26)"
   ]
  },
  {
   "cell_type": "code",
   "execution_count": 18,
   "metadata": {},
   "outputs": [
    {
     "data": {
      "text/plain": [
       "'Thu, 04 Mar 2021 12:41:02'"
      ]
     },
     "execution_count": 18,
     "metadata": {},
     "output_type": "execute_result"
    }
   ],
   "source": [
    "time.strftime(\"%a, %d %b %Y %H:%M:%S\")"
   ]
  },
  {
   "cell_type": "code",
   "execution_count": 19,
   "metadata": {},
   "outputs": [
    {
     "data": {
      "text/plain": [
       "'12:41:21'"
      ]
     },
     "execution_count": 19,
     "metadata": {},
     "output_type": "execute_result"
    }
   ],
   "source": [
    "time.strftime(\"%H:%M:%S\")"
   ]
  }
 ],
 "metadata": {
  "kernelspec": {
   "display_name": "Python 3",
   "language": "python",
   "name": "python3"
  },
  "language_info": {
   "codemirror_mode": {
    "name": "ipython",
    "version": 3
   },
   "file_extension": ".py",
   "mimetype": "text/x-python",
   "name": "python",
   "nbconvert_exporter": "python",
   "pygments_lexer": "ipython3",
   "version": "3.8.5"
  }
 },
 "nbformat": 4,
 "nbformat_minor": 4
}
